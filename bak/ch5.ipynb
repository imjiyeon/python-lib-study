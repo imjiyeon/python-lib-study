{
 "cells": [
  {
   "cell_type": "markdown",
   "id": "0115cc7a-245a-48f0-82dd-b954d7c10c59",
   "metadata": {},
   "source": [
    "## 5. 판다스 시작하기"
   ]
  },
  {
   "cell_type": "code",
   "execution_count": null,
   "id": "c9aff721-4e63-4a8a-a15c-f051176e346f",
   "metadata": {},
   "outputs": [],
   "source": [
    "import numpy as np\n",
    "import pandas as pd"
   ]
  },
  {
   "cell_type": "code",
   "execution_count": null,
   "id": "74ee01ae-3615-4368-8654-38c1ecccf117",
   "metadata": {},
   "outputs": [],
   "source": [
    "from pandas import Series, DataFrame"
   ]
  },
  {
   "cell_type": "markdown",
   "id": "2092fdc2-5927-4f41-90ab-2f53e9eab816",
   "metadata": {},
   "source": [
    "5.1 판다스 자료구조 "
   ]
  },
  {
   "cell_type": "code",
   "execution_count": null,
   "id": "64e9c3cc-ea90-4477-a82a-8851eacb76f0",
   "metadata": {},
   "outputs": [],
   "source": [
    "# series : 객체를 담을 수 있는 1차원 배열 같은 자료 구조\n",
    "obj = pd.Series([4, 7, -5, 3])\n",
    "# 왼쪽은 index, 오른쪽은 value\n",
    "print(obj)\n",
    "# index 속성으로 범위 확인\n",
    "# 인덱스는 객체(Index object)로 반환됨\n",
    "print(obj.index)"
   ]
  },
  {
   "cell_type": "code",
   "execution_count": null,
   "id": "a17e99f0-9a2d-4357-9ce4-1a43aa15c7a2",
   "metadata": {},
   "outputs": [],
   "source": [
    "# index를 직접 지정하여 시리즈 생성\n",
    "obj2 = pd.Series([4, 7, -5, 3], index=[\"d\", \"b\", \"a\", \"c\"])\n",
    "print(obj2)\n",
    "print(obj2.index)"
   ]
  },
  {
   "cell_type": "code",
   "execution_count": null,
   "id": "603a3a7e-928e-4bf3-b349-c8aba1dd6b4f",
   "metadata": {},
   "outputs": [],
   "source": [
    "# 인덱스로 값 꺼내기\n",
    "print(obj2[\"a\"])\n",
    "\n",
    "# 인덱스 배열로 여러개 꺼내기\n",
    "print(obj2[[\"c\", \"a\", \"d\"]])\n",
    "\n",
    "# 값 수정하기\n",
    "obj2[\"d\"] = 6\n",
    "print(obj2)"
   ]
  },
  {
   "cell_type": "code",
   "execution_count": null,
   "id": "0afbc69b-74e8-45c3-b420-4945a8b8dc6d",
   "metadata": {},
   "outputs": [],
   "source": [
    "# 조건식을 적용하거나 산술연산을 해도 index-value 연결은 계속 유지됨\n",
    "\n",
    "# 양수만 찾기\n",
    "print(obj2[obj2 > 0])\n",
    "\n",
    "# 모든 값에 2 곱하기\n",
    "print(obj2 * 2)\n",
    "\n",
    "# 모든값에 1 더하기\n",
    "print(obj2.add(1))"
   ]
  },
  {
   "cell_type": "code",
   "execution_count": null,
   "id": "b4946fa2-f9a6-48b6-9e6f-e7dccd1d02f2",
   "metadata": {},
   "outputs": [],
   "source": [
    "# 시리즈에 특정 인덱스가 포함되어 있는지 확인\n",
    "print(\"b\" in obj2)\n",
    "print(\"e\" in obj2)"
   ]
  },
  {
   "cell_type": "code",
   "execution_count": null,
   "id": "001ea6dc-e5ad-47d1-bc1b-94bf2baac8d9",
   "metadata": {},
   "outputs": [],
   "source": [
    "# 파이썬 딕셔너리 -> 시리즈로 생성\n",
    "# 도시-인구수(만명)\n",
    "city_data = {\"서울\": 940, \"부산\": 330, \"인천\": 290}\n",
    "obj3 = pd.Series(city_data)\n",
    "obj3"
   ]
  },
  {
   "cell_type": "code",
   "execution_count": null,
   "id": "09d83732-a775-47b7-aea4-a36338ffdf85",
   "metadata": {},
   "outputs": [],
   "source": [
    "# 다시 시리즈 -> 딕셔너리로 변환 가능\n",
    "obj3.to_dict()"
   ]
  },
  {
   "cell_type": "code",
   "execution_count": null,
   "id": "26eefb5c-9030-438e-991d-f8e300d762c5",
   "metadata": {},
   "outputs": [],
   "source": [
    "# 원하는 인덱스 순서로 지정\n",
    "# 존재하지 않는 인덱스는 NaN으로 표시됨\n",
    "city = [\"인천\",\"서울\", \"부산\",\"대구\"]\n",
    "obj4 = pd.Series(city_data, index=city)\n",
    "obj4"
   ]
  },
  {
   "cell_type": "code",
   "execution_count": null,
   "id": "b8e65046-7c37-4a34-9b50-12da8ad3c308",
   "metadata": {},
   "outputs": [],
   "source": [
    "# 누락된 데이터 확인하기\n",
    "# isna : isnull\n",
    "print(pd.isna(obj4))\n",
    "# notna : notnull\n",
    "print(pd.notna(obj4))"
   ]
  },
  {
   "cell_type": "code",
   "execution_count": null,
   "id": "45cc295c-ffab-49ed-8700-448bcb9369a4",
   "metadata": {},
   "outputs": [],
   "source": [
    "# 더하기 후에도 인덱스-값 연결이 유지됨\n",
    "# 합치고 난 후에는 인덱스가 가나다 순으로 정렬됨\n",
    "obj3\n",
    "obj4\n",
    "obj3 + obj4"
   ]
  },
  {
   "cell_type": "code",
   "execution_count": null,
   "id": "740cd97c-6449-4496-bbea-003f4ba6094f",
   "metadata": {},
   "outputs": [],
   "source": [
    "# 시리즈에 이름 붙이기\n",
    "obj4.name = \"population\"\n",
    "# 시리즈의 인덱스에 이름 붙이기\n",
    "obj4.index.name = \"city\"\n",
    "obj4"
   ]
  },
  {
   "cell_type": "code",
   "execution_count": null,
   "id": "11a1b50c-2b21-4028-a26e-80290c2e75e9",
   "metadata": {},
   "outputs": [],
   "source": [
    "# 대입으로 인덱스 변경하기\n",
    "print(obj) # 변경 전\n",
    "obj.index = [\"a\", \"b\", \"c\", \"d\"]\n",
    "print(obj) # 변경 후"
   ]
  },
  {
   "cell_type": "code",
   "execution_count": null,
   "id": "6d7e7fb6-648c-4a11-8d6c-056734b54b4b",
   "metadata": {},
   "outputs": [],
   "source": [
    "# dataframe : 표 같은 스프레드시트 형식의 자료구조\n",
    "# 서울과 인천의 인구 변화를 담은 데이터 생성\n",
    "# 도시,연도,인구(단위:만명)\n",
    "data = {\"city\": [\"서울\", \"서울\", \"서울\", \"인천\", \"인천\", \"인천\"],\n",
    "        \"year\": [2000, 2001, 2002, 2001, 2002, 2003],\n",
    "        \"pop\": [990, 980, 970, 240, 250, 260]}\n",
    "frame = pd.DataFrame(data)"
   ]
  },
  {
   "cell_type": "code",
   "execution_count": null,
   "id": "5fc5a9b9-f76f-4207-a2ce-5eee57c19edd",
   "metadata": {},
   "outputs": [],
   "source": [
    "# 첫번째 행: key\n",
    "# 그 아래: data\n",
    "frame"
   ]
  },
  {
   "cell_type": "code",
   "execution_count": null,
   "id": "1a09ff1d-5e19-4577-8b95-7eec63eb4a15",
   "metadata": {},
   "outputs": [],
   "source": [
    "# head : 위에서부터 5개 행만 출력\n",
    "frame.head()"
   ]
  },
  {
   "cell_type": "code",
   "execution_count": null,
   "id": "054e2d17-b88d-4df9-868c-8da5679463a8",
   "metadata": {},
   "outputs": [],
   "source": [
    "# tail : 마지막 5개의 행만 출력\n",
    "frame.tail()"
   ]
  },
  {
   "cell_type": "code",
   "execution_count": null,
   "id": "477aa571-6d9e-4741-bbe6-d69c333b4edb",
   "metadata": {},
   "outputs": [],
   "source": [
    "# 데이터프레임의 컬럼들\n",
    "frame.columns"
   ]
  },
  {
   "cell_type": "code",
   "execution_count": null,
   "id": "1afc9648-926f-44e6-b25e-a85bdb80f2cf",
   "metadata": {},
   "outputs": [],
   "source": [
    "# 컬럼 순서를 변경\n",
    "pd.DataFrame(data, columns=[\"year\", \"city\", \"pop\"])"
   ]
  },
  {
   "cell_type": "code",
   "execution_count": null,
   "id": "ce817c23-f86b-40d5-8340-2953c938a684",
   "metadata": {},
   "outputs": [],
   "source": [
    "# 특정 컬럼만 조회\n",
    "# 대괄호[]\n",
    "print(frame[\"city\"])\n",
    "# .점\n",
    "print(frame.year)"
   ]
  },
  {
   "cell_type": "code",
   "execution_count": null,
   "id": "38b87ce1-fced-4ba2-acd2-d4269d76a493",
   "metadata": {},
   "outputs": [],
   "source": [
    "# 라벨이 1번인 행 반환\n",
    "print(frame.loc[1])\n",
    "# 위치가 2번인 행 반환\n",
    "print(frame.iloc[2])"
   ]
  },
  {
   "cell_type": "code",
   "execution_count": null,
   "id": "649f0f75-b901-4a38-b47a-51a4ba4e27a8",
   "metadata": {},
   "outputs": [],
   "source": [
    "# 행 인덱스를 year로 변경\n",
    "frame2 = frame.set_index(\"year\")\n",
    "frame2"
   ]
  },
  {
   "cell_type": "code",
   "execution_count": null,
   "id": "9dbb70c0-9487-4ec1-b346-25e7cbcaddf9",
   "metadata": {},
   "outputs": [],
   "source": [
    "# loc : 행 라벨로 검색\n",
    "print(frame2.loc[2001])\n",
    "# iloc : 행 위치로 검색\n",
    "print(frame2.iloc[2])"
   ]
  },
  {
   "cell_type": "code",
   "execution_count": null,
   "id": "048ca459-517a-44f8-bbd3-30d9ffb9c130",
   "metadata": {},
   "outputs": [],
   "source": [
    "# 새로운 열 추가\n",
    "frame[\"출생률\"] = 9.8\n",
    "frame"
   ]
  },
  {
   "cell_type": "code",
   "execution_count": null,
   "id": "a5e872e4-3b31-4244-bc73-047468431d81",
   "metadata": {},
   "outputs": [],
   "source": [
    "# 하나씩 값 넣기\n",
    "# loc[행번호, \"컬럼명\"] = 값\n",
    "frame.loc[0,\"출생률\"] = 9.8\n",
    "frame.loc[1,\"출생률\"] = 9.7\n",
    "frame.loc[2,\"출생률\"] = 9.6\n",
    "frame.loc[3,\"출생률\"] = 10.1\n",
    "frame.loc[4,\"출생률\"] = 10.3\n",
    "frame.loc[5,\"출생률\"] = 10.2\n",
    "frame"
   ]
  },
  {
   "cell_type": "code",
   "execution_count": null,
   "id": "e20d8218-96f7-4853-ab5b-cf9054e4b228",
   "metadata": {},
   "outputs": [],
   "source": [
    "# 새롭게 만들열 삭제\n",
    "del frame[\"출생률\"]\n",
    "frame.columns"
   ]
  },
  {
   "cell_type": "code",
   "execution_count": null,
   "id": "aba367d9-f9e8-4bff-87ce-691a4ed60b2d",
   "metadata": {},
   "outputs": [],
   "source": [
    "# dataframe -> numpy 배열로 변환\n",
    "frame.to_numpy()"
   ]
  },
  {
   "cell_type": "markdown",
   "id": "bc643d08-7c93-4a6c-a27f-55e9549a5f59",
   "metadata": {},
   "source": [
    "5.1.3 색인 객체"
   ]
  },
  {
   "cell_type": "code",
   "execution_count": null,
   "id": "0b00062f-c025-4698-ba8a-3d271b5b3527",
   "metadata": {},
   "outputs": [],
   "source": [
    "# 값은 \"0 1 2\" 이고, 인덱스는 \"a b c\"인 시리즈 생성\n",
    "obj = pd.Series(np.arange(3), index=[\"a\", \"b\", \"c\"])\n",
    "print(obj)\n",
    "\n",
    "# 인덱스 객체 확인\n",
    "index = obj.index\n",
    "print(index)\n",
    "\n",
    "# 인덱스에서 2번째요소부터 끝까지 가져오기\n",
    "index[1:]"
   ]
  },
  {
   "cell_type": "code",
   "execution_count": null,
   "id": "cac30d17-092a-4cbb-9db0-6cbb1e6907db",
   "metadata": {},
   "outputs": [],
   "source": [
    "# 0,1,2로 이루어진 인덱스 객체 생성\n",
    "labels = pd.Index(np.arange(3))\n",
    "print(labels)\n",
    "\n",
    "# 위에서 만든 인덱스 객체를 시리즈에 사용\n",
    "# 값 : 1.5 2.5 0\n",
    "# 인덱스 : 0 1 2\n",
    "obj2 = pd.Series([1.5, 2.5, 0], index=labels)\n",
    "print(obj2)\n",
    "\n",
    "# obj2의 인덱스와 labels가 동일한 객체인지 확인\n",
    "obj2.index is labels"
   ]
  },
  {
   "cell_type": "code",
   "execution_count": null,
   "id": "17a7739d-4786-41d3-a23a-02d5c0f39c40",
   "metadata": {},
   "outputs": [],
   "source": [
    "# 데이터프레임 확인\n",
    "print(frame)\n",
    "\n",
    "# 모든 컬럼(열)이름 출력\n",
    "print(frame.columns)\n",
    "\n",
    "# 컬럼(열) 중에 \"city\"가 존재하는지\n",
    "print(\"city\" in frame.columns)\n",
    "\n",
    "# 인덱스(행) 중에 \"10\"가 존재하는지\n",
    "print(10 in frame.index)"
   ]
  },
  {
   "cell_type": "code",
   "execution_count": null,
   "id": "5c6cc674-6b8f-4e1d-8077-94aba125f1f0",
   "metadata": {},
   "outputs": [],
   "source": [
    "# 판다스의 인덱스는 중복을 허용함\n",
    "pd.Index([\"foo\", \"foo\", \"bar\", \"bar\"])"
   ]
  },
  {
   "cell_type": "code",
   "execution_count": null,
   "id": "889a4bbc-a363-4cf0-8714-e9e9461cfd3c",
   "metadata": {},
   "outputs": [],
   "source": []
  },
  {
   "cell_type": "code",
   "execution_count": null,
   "id": "1801a7ef-f064-4302-b175-ff9c7707f15c",
   "metadata": {},
   "outputs": [],
   "source": []
  },
  {
   "cell_type": "code",
   "execution_count": null,
   "id": "fd61c8e5-e844-4f10-850d-40c6b1d74d92",
   "metadata": {},
   "outputs": [],
   "source": []
  }
 ],
 "metadata": {
  "kernelspec": {
   "display_name": "Python 3 (ipykernel)",
   "language": "python",
   "name": "python3"
  },
  "language_info": {
   "codemirror_mode": {
    "name": "ipython",
    "version": 3
   },
   "file_extension": ".py",
   "mimetype": "text/x-python",
   "name": "python",
   "nbconvert_exporter": "python",
   "pygments_lexer": "ipython3",
   "version": "3.10.18"
  }
 },
 "nbformat": 4,
 "nbformat_minor": 5
}
