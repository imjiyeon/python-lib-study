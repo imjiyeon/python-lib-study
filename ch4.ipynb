{
 "cells": [
  {
   "cell_type": "markdown",
   "id": "33f9002a-33cf-43a0-94ff-ceefe236a9fe",
   "metadata": {},
   "source": [
    "### 4. 판다스 (Pandas)\n",
    "데이터를 관리하기 위해 사용되는 모듈로, 시리즈와 데이터프레임을 제공함"
   ]
  },
  {
   "cell_type": "code",
   "execution_count": null,
   "id": "dc575959-0ed3-4f92-aa20-b89ba90df0c8",
   "metadata": {},
   "outputs": [],
   "source": [
    "# 모듈 가져오기\n",
    "# 넘파이 모듈을 np라는 이름으로 사용\n",
    "import numpy as np\n",
    "# 판다스 모듈을 pd라는 이름으로 사용\n",
    "import pandas as pd"
   ]
  },
  {
   "cell_type": "markdown",
   "id": "31fc5f37-16cd-4ef6-b84e-8256b32c5f97",
   "metadata": {},
   "source": [
    "#### 4.1 시리즈 (Series)\n",
    "<small>객체를 담을 수 있는 1차원 배열 같은 자료 구조</small>"
   ]
  },
  {
   "cell_type": "markdown",
   "id": "264802fa-7ede-40a5-a35b-ea6554e4a071",
   "metadata": {},
   "source": [
    "시리즈 생성1"
   ]
  },
  {
   "cell_type": "code",
   "execution_count": null,
   "id": "cf240523-c974-473c-bf57-323354f07036",
   "metadata": {},
   "outputs": [],
   "source": [
    "# 시리즈 생성\n",
    "s = pd.Series([1,2,3,4])\n",
    "# 왼쪽은 인덱스, 오른쪽은 값\n",
    "s\n",
    "# 인덱스 확인\n",
    "# 인덱스가 없으면 자동으로 설정됨\n",
    "s.index"
   ]
  },
  {
   "cell_type": "markdown",
   "id": "87de7fed-1f27-4fa9-95e8-40c459dfe54c",
   "metadata": {},
   "source": [
    "시리즈 생성2"
   ]
  },
  {
   "cell_type": "code",
   "execution_count": null,
   "id": "bb4ef209-3be3-4188-ae8f-5afd8893c5a2",
   "metadata": {},
   "outputs": [],
   "source": [
    "# 인덱스 직접 설정\n",
    "s = pd.Series([1,2,3], index=['a', 'b', 'c'])\n",
    "s\n",
    "# 인덱스 확인\n",
    "# s.index"
   ]
  },
  {
   "cell_type": "markdown",
   "id": "a8c8bbf5-61f5-4875-9d02-d7a05a7a3d1d",
   "metadata": {},
   "source": [
    "시리즈에서 값 꺼내기  \n",
    "<small>\n",
    "loc 함수 : 인덱스 이름으로 데이터를 읽는다    \n",
    "iloc 함수 : 인덱스 위치로 데이터를 읽는다  \n",
    "</small>"
   ]
  },
  {
   "cell_type": "code",
   "execution_count": null,
   "id": "21011166-7498-4bd0-8b26-0d39645780b7",
   "metadata": {},
   "outputs": [],
   "source": [
    "# loc[인덱스이름]\n",
    "s.loc['a']\n",
    "# 대괄호[인덱스이름]\n",
    "s['b']\n",
    "# iloc[위치]\n",
    "s.iloc[2]"
   ]
  },
  {
   "cell_type": "markdown",
   "id": "a614858d-95e4-4911-9700-99381832f515",
   "metadata": {},
   "source": [
    "시리즈 값 수정하기"
   ]
  },
  {
   "cell_type": "code",
   "execution_count": null,
   "id": "a79c2f8f-4b59-4a0f-8255-fb238cecc00e",
   "metadata": {},
   "outputs": [],
   "source": [
    "# 값 수정하기\n",
    "s.loc['b'] = 99\n",
    "s\n",
    "s['a'] = 0\n",
    "s"
   ]
  },
  {
   "cell_type": "markdown",
   "id": "62c178e0-eaa5-4a62-811b-6803aaa2906d",
   "metadata": {},
   "source": [
    "#### 4.2 데이터프레임 (Dataframe)\n",
    "<small>표 형식의 데이터를 담기 위한 자료 구조</small>"
   ]
  },
  {
   "cell_type": "markdown",
   "id": "c6acb41f-479c-4146-a6f4-cb8ac7326433",
   "metadata": {},
   "source": [
    "데이터 프레임 생성1"
   ]
  },
  {
   "cell_type": "code",
   "execution_count": null,
   "id": "2fd9b66b-0f20-4f7f-a159-f43bff2d4cce",
   "metadata": {},
   "outputs": [],
   "source": [
    "# 도시별 인구 데이터 생성\n",
    "# 첫번째 열은 도시, 두번째 열은 인구\n",
    "# 열이름: 리스트\n",
    "data = {\"city\": [\"서울\", \"인천\"],\n",
    "        \"pop\": [990, 240]}\n",
    "df = pd.DataFrame(data)\n",
    "\n",
    "# 행열 이름이 따로 없으면 자동으로 설정됨\n",
    "# 행 인덱스: 0, 1\n",
    "# 열 컬럼: dic의 key (city, pop)\n",
    "df.index\n",
    "df.columns"
   ]
  },
  {
   "cell_type": "markdown",
   "id": "9e19e617-f781-43a2-9c19-449c60037c73",
   "metadata": {},
   "source": [
    "데이터 프레임 생성2"
   ]
  },
  {
   "cell_type": "code",
   "execution_count": null,
   "id": "284d4d52-af2e-42e7-a6b4-4f2fab5d53b6",
   "metadata": {},
   "outputs": [],
   "source": [
    "# 학생 성적 데이터 생성\n",
    "data = np.array([[60, 70, 80], [70, 80, 90], [80, 90, 100]])\n",
    "df = pd.DataFrame(data)\n",
    "# 이름표가 없어서, 이값이 누구의 점수인지 알 수 없음\n",
    "\n",
    "# 행열 이름 직접 설정\n",
    "# index: 행 이름\n",
    "# columns: 열 이름\n",
    "data = np.array([[60, 70, 80], [70, 80, 90], [80, 90, 100]])\n",
    "df = pd.DataFrame(data,\n",
    "                  index=['둘리', '도우너', '또치'],\n",
    "                  columns=['국어', '영어', '수학'])\n",
    "# 열 확인\n",
    "df.columns"
   ]
  },
  {
   "cell_type": "markdown",
   "id": "bcfdd628-10fb-47a0-945b-1b956429b918",
   "metadata": {},
   "source": [
    "프레임에서 데이터 꺼내기1  \n",
    "<small>\n",
    "loc 함수 : 인덱스 이름으로 데이터를 읽는다    \n",
    "iloc 함수 : 인덱스 위치로 데이터를 읽는다  \n",
    "[] 대괄호 : 열만 조회할 수 있다\n",
    "</small>"
   ]
  },
  {
   "cell_type": "code",
   "execution_count": null,
   "id": "cc5d2626-c0c0-46bd-9adf-fb860cc3de17",
   "metadata": {},
   "outputs": [],
   "source": [
    "# 전체 데이터\n",
    "# df.loc[행이름, 열이름]\n",
    "df.loc[:, :]\n",
    "\n",
    "# 둘리의 국어 성적\n",
    "df.loc['둘리', '국어']\n",
    "\n",
    "# 대괄호[열이름]\n",
    "df[\"국어\"]\n",
    "df[\"영어\"]"
   ]
  },
  {
   "cell_type": "markdown",
   "id": "0dcbd561-9a35-4b3c-a463-fc91db36e85a",
   "metadata": {},
   "source": [
    "새로운 열 추가"
   ]
  },
  {
   "cell_type": "code",
   "execution_count": null,
   "id": "01fbfa08-1fdd-466c-8b8b-28d16f57a12b",
   "metadata": {},
   "outputs": [],
   "source": [
    "# 새로운 과목(열) 추가\n",
    "df['과학'] = [60,70,80]\n",
    "df\n",
    "\n",
    "#  미술을 두번째 위치에 추가\n",
    "df.insert(2, '미술', [70, 80, 90])\n",
    "df"
   ]
  },
  {
   "cell_type": "markdown",
   "id": "3bfde2d7-f8a6-4697-83ee-02fa3af75f04",
   "metadata": {},
   "source": [
    "열 삭제  \n",
    "<small>\n",
    "del : 원본에서 바로 데이터 삭제  \n",
    "drop : 원본은 그대로, 결과만 보여줌\n",
    "</small>"
   ]
  },
  {
   "cell_type": "code",
   "execution_count": null,
   "id": "09e3bf80-56ea-4144-b5f9-cc1d8a7953fa",
   "metadata": {},
   "outputs": [],
   "source": [
    "# 열 삭제\n",
    "del df['과학']\n",
    "df\n",
    "\n",
    "# drop(이름, 행/열 기준)\n",
    "# 열 삭제 (axis=1 또는 'columns')\n",
    "df.drop('수학', axis=1)\n",
    "df # 변화 없음\n",
    "\n",
    "# drop은 결과를 받아서 다시 df에 넣어야함\n",
    "result = df.drop('수학', axis=1)\n",
    "result\n",
    "# 결과를 반영하려면, 결과를 덮어씌어야함\n",
    "df = df.drop('또치', axis=0)\n",
    "\n",
    "# 행 삭제 (axis=0 또는 'rows')\n",
    "df = df.drop('또치', axis=0)\n",
    "df"
   ]
  },
  {
   "cell_type": "markdown",
   "id": "7ff8ebb0-afb8-4b5c-8df3-dc8d84db4e0a",
   "metadata": {},
   "source": [
    "#### 4.3 데이터 계산과 처리"
   ]
  },
  {
   "cell_type": "markdown",
   "id": "bcbaec33-f540-40c7-9490-b0d9b2b5ac49",
   "metadata": {},
   "source": [
    "시리즈에서 계산과 조건 검색"
   ]
  },
  {
   "cell_type": "code",
   "execution_count": null,
   "id": "3c286659-a262-46d7-801c-b7561f430e80",
   "metadata": {},
   "outputs": [],
   "source": [
    "# 시리즈 생성\n",
    "s = pd.Series([-2,-1,0,1,2])\n",
    "\n",
    "# 산술 연산\n",
    "s + 1 # 모든 원소에 1 더하기\n",
    "s.add(1) # 모든 원소에 1 더하기\n",
    "\n",
    "# 조건 검색 (양수만 찾기)\n",
    "s > 0 # 불리언 배열 생성\n",
    "s[s > 0] # 불리언 배열을 인덱스로 사용"
   ]
  },
  {
   "cell_type": "markdown",
   "id": "85586c18-bd75-4fce-b1b8-056dbceb5927",
   "metadata": {},
   "source": [
    "데이터 프레임에서 계산과 조건 검색"
   ]
  },
  {
   "cell_type": "code",
   "execution_count": null,
   "id": "ba515037-d5bf-4d7c-a039-84d97d461238",
   "metadata": {},
   "outputs": [],
   "source": [
    "# 학생 성적 데이터 다시 초기화\n",
    "data = np.array([[60, 70, 80], [70, 80, 90], [80, 90, 100]])\n",
    "df = pd.DataFrame(data,\n",
    "                  index=['둘리', '도우너', '또치'],\n",
    "                  columns=['국어', '영어', '수학'])\n",
    "\n",
    "# 국어 점수만 조회\n",
    "df['국어']\n",
    "# 열의 자료형\n",
    "df['국어'].dtypes\n",
    "# 열의 타입\n",
    "type(df['국어']) # 데이터프레임은 시리즈의 묶음\n",
    "\n",
    "# 전체 점수에 1점 추가\n",
    "df + 1\n",
    "\n",
    "# # 국어 점수에 10점 추가\n",
    "df['국어'] + 10\n",
    "\n",
    "# 조건 검색\n",
    "# 국어 점수가 70점 이상인 학생만 조회\n",
    "df['국어'] >= 70\n",
    "df[df['국어'] >= 70]"
   ]
  },
  {
   "cell_type": "markdown",
   "id": "a99c28d6-baba-462d-adcb-1c687a606d22",
   "metadata": {},
   "source": [
    "데이터 프레임의 정렬"
   ]
  },
  {
   "cell_type": "code",
   "execution_count": null,
   "id": "68e3293d-db65-4193-abe0-7cac4e5b56a0",
   "metadata": {},
   "outputs": [],
   "source": [
    "# 국어 점수를 기준으로 오름차순 정렬\n",
    "df.sort_values('국어')\n",
    "\n",
    "# 국어 점수를 기준으로 내림차순 정렬\n",
    "df.sort_values('국어', ascending=False)"
   ]
  },
  {
   "cell_type": "markdown",
   "id": "c398dead-1d64-460b-8e2d-1f27b3e64c15",
   "metadata": {},
   "source": [
    "nan 처리(Nan-data)  \n",
    "<small>\n",
    "누락된 값, 비어있는 값  \n",
    "숫자가 없는 자리를 표시할 때 사용  \n",
    "float형에서만 입력 가능  \n",
    "</small>"
   ]
  },
  {
   "cell_type": "code",
   "execution_count": null,
   "id": "32d8b3f2-f27b-40ec-b6b7-185532046a41",
   "metadata": {},
   "outputs": [],
   "source": [
    "# 자료형 변경\n",
    "# 다시 원본데이터에 저장\n",
    "df = df.astype('float')\n",
    "df\n",
    "\n",
    "# 둘리의 영어점수를 빈값으로 변경\n",
    "df.loc['둘리', '영어'] = np.nan\n",
    "df\n",
    "\n",
    "# 빈값이 있는 행 삭제\n",
    "# dropna도 원본데이터 안바꾸고 결과만 반환\n",
    "df = df.dropna(axis=0)\n",
    "df\n",
    "\n",
    "# 도우너의 국어점수를 빈값으로 변경\n",
    "df.loc['도우너', '국어'] = np.nan\n",
    "df\n",
    "df.fillna(0)"
   ]
  },
  {
   "cell_type": "markdown",
   "id": "48bdea0c-04dd-462e-a742-6dca1e3b6220",
   "metadata": {},
   "source": [
    "#### 4.4 데이터 탐색\n",
    "<small>데이터의 상태나 특징을 파악하기 위해 수행함</small>"
   ]
  },
  {
   "cell_type": "code",
   "execution_count": null,
   "id": "84901d62-5dcd-444a-868e-434bafd7485c",
   "metadata": {},
   "outputs": [],
   "source": [
    "# 시리즈 생성\n",
    "s = pd.Series(['사과', '배', '사과', '배', '바나나'])\n",
    "\n",
    "# 중복데이터 제거 (유니크한 데이터만 확인)\n",
    "s.unique()\n",
    "\n",
    "# 데이터 개수 세기\n",
    "s.value_counts()"
   ]
  }
 ],
 "metadata": {
  "kernelspec": {
   "display_name": "Python 3 (ipykernel)",
   "language": "python",
   "name": "python3"
  },
  "language_info": {
   "codemirror_mode": {
    "name": "ipython",
    "version": 3
   },
   "file_extension": ".py",
   "mimetype": "text/x-python",
   "name": "python",
   "nbconvert_exporter": "python",
   "pygments_lexer": "ipython3",
   "version": "3.10.18"
  }
 },
 "nbformat": 4,
 "nbformat_minor": 5
}
