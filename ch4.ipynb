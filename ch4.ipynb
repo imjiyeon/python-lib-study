{
 "cells": [
  {
   "cell_type": "markdown",
   "id": "aeb67dfb-e29b-4fff-a73f-62990995ef3e",
   "metadata": {},
   "source": [
    "## 4. 넘파이"
   ]
  },
  {
   "cell_type": "markdown",
   "id": "9758980c-3262-4fdb-9b1a-65d494d3ecde",
   "metadata": {},
   "source": [
    "shift + enter : 셀 실행 <br>\n",
    "alt + enter : 셀 추가"
   ]
  },
  {
   "cell_type": "markdown",
   "id": "ce4e4f18-3c8c-448c-95fc-3dacc336620e",
   "metadata": {},
   "source": [
    "4.1 다차원 배열 객체 ndarray"
   ]
  },
  {
   "cell_type": "code",
   "execution_count": null,
   "id": "c8ee4c7e-6da5-40d2-8f6f-36e617232d94",
   "metadata": {},
   "outputs": [],
   "source": [
    "# 백만개의 정수를 저장하는 넘파이 배열과 파이썬 리스트를 생성한다\n",
    "import numpy as np\n",
    "\n",
    "my_arr = np.arange(1_000_000)\n",
    "my_list = list(range(1_000_000))"
   ]
  },
  {
   "cell_type": "code",
   "execution_count": null,
   "id": "eb4dae09-083d-4c38-844a-4d495c6fd069",
   "metadata": {},
   "outputs": [],
   "source": [
    "# %timeit으로 실행 속도 측정\n",
    "# 넘파이를 사용한 코드가 훨씬 빠르다\n",
    "%timeit my_arr2 = my_arr * 2\n",
    "%timeit my_list2 = [x * 2 for x in my_list]"
   ]
  },
  {
   "cell_type": "code",
   "execution_count": null,
   "id": "0f7a05ef-e4e9-4231-bdfb-1d0e46fc6648",
   "metadata": {},
   "outputs": [],
   "source": [
    "# 1차원 배열 생성하기\n",
    "arr1 = np.array([6, 7.5, 8, 0, 1])\n",
    "arr1"
   ]
  },
  {
   "cell_type": "code",
   "execution_count": null,
   "id": "9b43fec9-0e87-47bd-a763-0ef66970f90f",
   "metadata": {},
   "outputs": [],
   "source": [
    "# 2차원 배열 생성하기\n",
    "import numpy as np\n",
    "arr2 = np.array([[1.5, -0.1, 3], [0, -3, 6.5]])\n",
    "arr2"
   ]
  },
  {
   "cell_type": "code",
   "execution_count": null,
   "id": "8cc4338c-7a00-4ae6-941a-6afd2f51c17a",
   "metadata": {},
   "outputs": [],
   "source": [
    "# 자료형, 차원, 행열크기 확인하기\n",
    "print(arr1.dtype, arr1.ndim, arr1.shape)\n",
    "print(arr2.dtype, arr2.ndim, arr2.shape)"
   ]
  },
  {
   "cell_type": "code",
   "execution_count": null,
   "id": "f1f39c62-f95c-4f14-8464-893137aef16d",
   "metadata": {},
   "outputs": [],
   "source": [
    "# 10개 크기의 1차원 배열 생성. 모든 값이 0.0으로 초기화\n",
    "np.zeros(10)\n",
    "# 3행 6열 크기의 2차원 배열 생성. 모든 값이 0.0으로 초기화\n",
    "np.zeros((3, 6))\n",
    "# 2,3,2 크기의 3차원 배열 생성. 임의의 값이 들어감\n",
    "np.empty((2, 3, 2))"
   ]
  },
  {
   "cell_type": "code",
   "execution_count": null,
   "id": "a1d6c2d3-f9e6-48e6-9bc3-20cb96bf7e5d",
   "metadata": {},
   "outputs": [],
   "source": [
    "# 파이썬의 range 함수와 같은 기능\n",
    "np.arange(15)"
   ]
  },
  {
   "cell_type": "code",
   "execution_count": null,
   "id": "f1cc5cb5-de69-4978-90a3-9e8e2973b62e",
   "metadata": {},
   "outputs": [],
   "source": [
    "# 배열의 타입을 직접 지정\n",
    "arr1 = np.array([1, 2, 3], dtype=np.float64)\n",
    "arr2 = np.array([1, 2, 3], dtype=np.int32)\n",
    "print(arr1, arr1.dtype)\n",
    "print(arr2, arr2.dtype)"
   ]
  },
  {
   "cell_type": "code",
   "execution_count": null,
   "id": "a0017723-a022-42af-8a98-2200268cc40e",
   "metadata": {},
   "outputs": [],
   "source": [
    "# astype : 배열의 형변환\n",
    "arr = np.array([1, 2, 3, 4, 5])\n",
    "print(arr.dtype)\n",
    "float_arr = arr.astype(np.float64) # int -> float64\n",
    "print(float_arr, float_arr.dtype)"
   ]
  },
  {
   "cell_type": "code",
   "execution_count": null,
   "id": "a96ecadb-493f-4dcd-b684-a69ee4b6eefe",
   "metadata": {},
   "outputs": [],
   "source": [
    "# 형변환\n",
    "# float -> int\n",
    "arr = np.array([3.7, -1.2, -2.6, 0.5, 12.9, 10.1])\n",
    "print(arr, arr.dtype)\n",
    "int_arr = arr.astype(np.int32)\n",
    "print(int_arr, int_arr.dtype)"
   ]
  },
  {
   "cell_type": "code",
   "execution_count": null,
   "id": "567fa663-4bc3-4ed1-abc2-bbb3d09b16d8",
   "metadata": {},
   "outputs": [],
   "source": [
    "# 형변환\n",
    "# string -> float\n",
    "# float 까지만 쓰면 넘파이가 자동으로 float64로 설정함\n",
    "numeric_strings = np.array([\"1.25\", \"-9.6\", \"42\"])\n",
    "str_arr = numeric_strings.astype(float)\n",
    "print(str_arr, str_arr.dtype)"
   ]
  },
  {
   "cell_type": "code",
   "execution_count": null,
   "id": "a0cbe6fd-ec0b-4812-9fd4-d28739fc1fd4",
   "metadata": {},
   "outputs": [],
   "source": [
    "# 넘파이 배열의 산술 연산\n",
    "# for문을 쓰지 않아도 각 원소에 계산이 적용됨\n",
    "arr = np.array([[1., 2., 3.], [4., 5., 6.]])\n",
    "print(arr + arr)\n",
    "print(arr - arr)"
   ]
  },
  {
   "cell_type": "code",
   "execution_count": null,
   "id": "8ff2ab8f-2b04-4413-bed3-f75294af045c",
   "metadata": {},
   "outputs": [],
   "source": [
    "# 비교연산을 하면 불리언 배열이 반환됨\n",
    "arr2 = np.array([[0., 4., 1.], [7., 2., 12.]])\n",
    "arr2 > arr"
   ]
  },
  {
   "cell_type": "code",
   "execution_count": null,
   "id": "3da1fc91-4ac4-48f9-83a3-86c5587337e2",
   "metadata": {},
   "outputs": [],
   "source": [
    "# 넘파일 배열 생성\n",
    "arr = np.arange(10)\n",
    "print(arr)\n",
    "\n",
    "# 배열 슬라이스\n",
    "print(arr[5:8])\n",
    "\n",
    "# 배열 슬라이스에 숫자를 넣으면 값이 전파되어, \n",
    "# arr[5] arr[6] arr[7]에 모두 12가 저장됨\n",
    "arr[5:8] = 12\n",
    "print(arr)\n",
    "print(arr[5:8])"
   ]
  },
  {
   "cell_type": "code",
   "execution_count": null,
   "id": "83662c1c-980a-4b37-9b38-bec9f88d7cf3",
   "metadata": {},
   "outputs": [],
   "source": [
    "# 슬라이스 배열을 변수에 담기\n",
    "arr_slice = arr[5:8]\n",
    "print(arr_slice)\n",
    "# 슬라이스 배열의 값을 바꾸면 원본 배열도 함꼐 변경됨\n",
    "# 파이썬의 리스트 슬라이스는 '복사본'을 만들지만,\n",
    "# 넘파이 배열의 슬라이스는 '뷰(view)'로 원본 데이터를 그대로 보여줌\n",
    "arr_slice[1] = 12345\n",
    "print(arr)"
   ]
  },
  {
   "cell_type": "code",
   "execution_count": null,
   "id": "b7aee317-57e1-4dab-8656-e84695f76135",
   "metadata": {},
   "outputs": [],
   "source": [
    "# [:]은 배열의 모든값\n",
    "arr_slice[:] = 64\n",
    "arr"
   ]
  },
  {
   "cell_type": "code",
   "execution_count": null,
   "id": "3ff074b5-782f-440d-86bc-30c40fa5fb4e",
   "metadata": {},
   "outputs": [],
   "source": [
    "# 2차원 배열 생성 \n",
    "arr2d = np.array([[1, 2, 3], [4, 5, 6], [7, 8, 9]])\n",
    "# 2차원 배열에서 각 요소는 1차원 배열\n",
    "arr2d[2]"
   ]
  },
  {
   "cell_type": "code",
   "execution_count": null,
   "id": "0fc9d2b4-28a6-4754-9780-65e10987dc56",
   "metadata": {},
   "outputs": [],
   "source": [
    "# 3행 3열 배열에서 특정 요소 꺼내기\n",
    "print(arr2d[0][2])\n",
    "print(arr2d[0, 2])"
   ]
  },
  {
   "cell_type": "code",
   "execution_count": null,
   "id": "25a71d7e-89e6-42d0-8517-dc07fb59eee1",
   "metadata": {},
   "outputs": [],
   "source": [
    "# 2차원 배열 슬라이스하기\n",
    "# 열을 기준으로 슬라이스 (0번부터 1번까지)\n",
    "print(arr2d[:2])\n",
    "\n",
    "# 각 열에서 슬라이스 하기\n",
    "# 배열[행범위, 앞에서 선택한 행에서 열범위]\n",
    "# 앞의 두 행(0,1)에서 열 1부터 끝까지(1,2) 선택\n",
    "print(arr2d[:2, 1:])"
   ]
  },
  {
   "cell_type": "code",
   "execution_count": null,
   "id": "be19a6eb-965d-46e3-ae99-b5adede8419a",
   "metadata": {},
   "outputs": [],
   "source": [
    "# 1행에서 열 0~1까지 선택\n",
    "lower_dim_slice = arr2d[1, :2]\n",
    "print(lower_dim_slice)\n",
    "# 1차원 2개 크기 배열\n",
    "print(lower_dim_slice.shape)"
   ]
  },
  {
   "cell_type": "code",
   "execution_count": null,
   "id": "2bc1ad40-1743-4e23-94db-f1a08b6eb8bb",
   "metadata": {},
   "outputs": [],
   "source": [
    "# 앞의 두 행(0,1)에서 세 번째 열만 선택 (1치원)\n",
    "print(arr2d[:2, 2])\n",
    "\n",
    "# 모든 행에서 첫 번째 열만 선택 (2차원)\n",
    "print(arr2d[:, :1])"
   ]
  },
  {
   "cell_type": "code",
   "execution_count": null,
   "id": "a2982e0b-3ff8-46ba-8055-c8330d747182",
   "metadata": {},
   "outputs": [],
   "source": [
    "# 불리언 색인\n",
    "# 학생 목록\n",
    "students = np.array([\"철수\", \"영희\", \"민수\", \"철수\", \"영희\"])\n",
    "# 학생별 대출 이력\n",
    "books = np.array([\n",
    "    [\"수학의 정석\", 7],   # 책제목, 대출일수\n",
    "    [\"해리포터\", 14],\n",
    "    [\"파이썬 입문\", 10],\n",
    "    [\"한국사\", 5],\n",
    "    [\"데미안\", 12]\n",
    "])\n",
    "# 학생목록과 대출이력은 인덱스 위치 기준으로 대응"
   ]
  },
  {
   "cell_type": "code",
   "execution_count": null,
   "id": "9e492ea1-ade4-4e18-8d23-caafeea9b119",
   "metadata": {},
   "outputs": [],
   "source": [
    "# 넘파이 배열에 비교연산을 쓰면 불리언 배열 반환\n",
    "print(students == \"철수\")\n",
    "\n",
    "# 불리언 배열 [True False False True False]를 books 배열에 적용하면,\n",
    "# True인 위치(0번째, 3번째)의 행만 뽑혀 나옴\n",
    "books[students == \"철수\"]"
   ]
  },
  {
   "cell_type": "code",
   "execution_count": null,
   "id": "a2b0fcd5-fbea-4edc-ac8e-ba1e175046e0",
   "metadata": {},
   "outputs": [],
   "source": [
    "# 철수의 대출 기록 보기\n",
    "# 1: => 두번째 열부터 마지막까지 (대출일수)\n",
    "print(books[students == \"철수\", 1:])\n",
    "# 1 => 두번째 열만 (대출일수)\n",
    "print(books[students == \"철수\", 1])\n",
    "\n",
    "# 철수가 아닌 항목 찾기\n",
    "print(students != \"철수\")"
   ]
  },
  {
   "cell_type": "code",
   "execution_count": null,
   "id": "c91252cc-3260-4a95-8627-189c19db0b97",
   "metadata": {},
   "outputs": [],
   "source": [
    "# 불리언색인을 사용해서 값 수정하기\n",
    "# \"수학의 정석\"을 찾아서 책제목 바꾸기\n",
    "books[books == \"수학의 정석\"] = \"자바의 정석\"\n",
    "print(books)\n",
    "\n",
    "# 철수가 아닌 행 전체를 7로 바꾸기\n",
    "books[students != \"철수\"] = 7\n",
    "print(books)"
   ]
  },
  {
   "cell_type": "markdown",
   "id": "2e2185ac-9a19-4828-8c26-3b461987ab52",
   "metadata": {},
   "source": [
    "4.1.6 팬시색인"
   ]
  },
  {
   "cell_type": "code",
   "execution_count": null,
   "id": "7caad516-b5d7-4ac9-b3c9-63aec3b3a32c",
   "metadata": {},
   "outputs": [],
   "source": [
    "# 데이터 준비\n",
    "# 8행 4열 크기의 배열 생성\n",
    "# zeros : 모든 요소를 0으로 초기화\n",
    "arr = np.zeros((8, 4))\n",
    "# 0부터 7까지 반복하면서\n",
    "# 각 행을 숫자로 채우기\n",
    "for i in range(8):\n",
    "    arr[i] = i\n",
    "arr"
   ]
  },
  {
   "cell_type": "code",
   "execution_count": null,
   "id": "e1723d0a-3c63-4b70-8f9a-b7df73bcdb2a",
   "metadata": {},
   "outputs": [],
   "source": [
    "# 배열에서 4행, 3행, 0행, 6행 순서대로 골라오기 \n",
    "# 팬시 인덱스 : 인덱스를 리스트로 넣으면 원하는 행만 나옴\n",
    "arr[[4, 3, 0, 6]]"
   ]
  },
  {
   "cell_type": "code",
   "execution_count": null,
   "id": "fbef3fd5-5183-4df0-829e-de23957359d4",
   "metadata": {},
   "outputs": [],
   "source": [
    "# 0부터 31까지 숫자들을 만들고 8행 4열 크기의 배열로 만들기\n",
    "arr = np.arange(32).reshape((8, 4))\n",
    "print(arr)\n",
    "# 행과 열을 지정해서 원하는 요소 뽑기\n",
    "# (1행, 0열), (5행, 3열), (7행, 1열), (2행, 2열)\n",
    "arr[[1, 5, 7, 2], [0, 3, 1, 2]]"
   ]
  },
  {
   "cell_type": "code",
   "execution_count": null,
   "id": "236a7ec5-e5de-4a4d-92a3-a296b2783794",
   "metadata": {},
   "outputs": [],
   "source": [
    "# 이중 팬시 인덱스\n",
    "# 먼저 배열에서 1,5,7,2 행을 골라옴 -> 부분배열에서 열을  0,3,1,2 순서로 다시 재배열\n",
    "# print(arr[[1, 5, 7, 2]]) # 중간 과정\n",
    "arr[[1, 5, 7, 2]][:, [0, 3, 1, 2]]"
   ]
  },
  {
   "cell_type": "code",
   "execution_count": null,
   "id": "5d4dd426-135c-49c0-9096-7dd751815f7e",
   "metadata": {},
   "outputs": [],
   "source": [
    "# (1행,0열), (5행,3열), (7행,1열), (2행,2열) 요소를 선택\n",
    "print(arr[[1, 5, 7, 2], [0, 3, 1, 2]]) # 이전 값 확인\n",
    "\n",
    "# 이전에 선택한 요소들의 값을 모두 0으로 변경\n",
    "arr[[1, 5, 7, 2], [0, 3, 1, 2]] = 0\n",
    "arr"
   ]
  },
  {
   "cell_type": "markdown",
   "id": "dfe134ab-fa7a-4713-879a-874a6f4028b6",
   "metadata": {},
   "source": [
    "4.1.7 배열 전치와 축 바꾸기"
   ]
  },
  {
   "cell_type": "code",
   "execution_count": 22,
   "id": "26bb9858-0d7c-4202-9e45-5d4299f63ba4",
   "metadata": {},
   "outputs": [
    {
     "name": "stdout",
     "output_type": "stream",
     "text": [
      "[[ 0  1  2  3  4]\n",
      " [ 5  6  7  8  9]\n",
      " [10 11 12 13 14]]\n",
      "[[ 0  5 10]\n",
      " [ 1  6 11]\n",
      " [ 2  7 12]\n",
      " [ 3  8 13]\n",
      " [ 4  9 14]]\n"
     ]
    }
   ],
   "source": [
    "# 배열의 행과 열 바꾸기\n",
    "\n",
    "# 0부터 14까지 숫자 목록 생성\n",
    "# reshape((3, 5)) : 3행 5열 짜리 2차원 배열 생성\n",
    "arr = np.arange(15).reshape((3, 5))\n",
    "print(arr)\n",
    "\n",
    "# .T : 행과 열 바꾸기\n",
    "print(arr.T)"
   ]
  },
  {
   "cell_type": "code",
   "execution_count": 23,
   "id": "7b3c6d8e-7577-45a3-8b48-41701e72d1da",
   "metadata": {},
   "outputs": [
    {
     "name": "stdout",
     "output_type": "stream",
     "text": [
      "[[ 0  1  0]\n",
      " [ 1  2 -2]\n",
      " [ 6  3  2]\n",
      " [-1  0 -1]\n",
      " [ 1  0  1]]\n"
     ]
    },
    {
     "data": {
      "text/plain": [
       "array([[39, 20, 12],\n",
       "       [20, 14,  2],\n",
       "       [12,  2, 10]])"
      ]
     },
     "execution_count": 23,
     "metadata": {},
     "output_type": "execute_result"
    }
   ],
   "source": [
    "# 5행 3열 크기의 2차원 배열 생성\n",
    "arr = np.array([[0, 1, 0], [1, 2, -2], [6, 3, 2], [-1, 0, -1], [1, 0, 1]])\n",
    "print(arr)\n",
    "\n",
    "# .dot : 배열의 열에대한 유사도를 구하는 공식 (유사도를 구하는 이유는 뒤에서!)\n",
    "np.dot(arr.T, arr)\n",
    "\n",
    "# np.dot()과 동일\n",
    "arr.T @ arr"
   ]
  },
  {
   "cell_type": "code",
   "execution_count": 25,
   "id": "65a3c134-e448-4018-8340-cfe3b26f5782",
   "metadata": {},
   "outputs": [
    {
     "name": "stdout",
     "output_type": "stream",
     "text": [
      "[[ 0  1  0]\n",
      " [ 1  2 -2]\n",
      " [ 6  3  2]\n",
      " [-1  0 -1]\n",
      " [ 1  0  1]]\n"
     ]
    },
    {
     "data": {
      "text/plain": [
       "array([[ 0,  1,  6, -1,  1],\n",
       "       [ 1,  2,  3,  0,  0],\n",
       "       [ 0, -2,  2, -1,  1]])"
      ]
     },
     "execution_count": 25,
     "metadata": {},
     "output_type": "execute_result"
    }
   ],
   "source": [
    "# 데이터 확인\n",
    "print(arr) \n",
    "# 행(0축)과 열(1축)을 서로 바꾸기 (전과 동일)\n",
    "arr.swapaxes(0, 1)"
   ]
  },
  {
   "cell_type": "markdown",
   "id": "ec1da36e-b2a7-4ad0-8898-093dc15a7bdc",
   "metadata": {},
   "source": [
    "4.2 난수 생성"
   ]
  },
  {
   "cell_type": "code",
   "execution_count": null,
   "id": "6365b3c7-d627-44a6-912e-c1d8a49b831b",
   "metadata": {},
   "outputs": [],
   "source": [
    "# 4행 4열 배열 생성\n",
    "samples = np.random.standard_normal(size=(4, 4))\n",
    "samples"
   ]
  },
  {
   "cell_type": "code",
   "execution_count": null,
   "id": "0623e405-a276-446f-8911-1757044cf053",
   "metadata": {},
   "outputs": [],
   "source": [
    "# 파이썬 내장 random 모듈과 넘파이의 random 모듈의 성능 비교\n",
    "from random import normalvariate\n",
    "N = 1_000_000 # 백만개\n",
    "\n",
    "# 리스트 컴프리헨션으로 난수를 하나씩 생성하기 때문에 속도가 느림\n",
    "# normalvariate(0, 1) : 평균 0, 표준편차 1인 난수 하나 생성 (-3~+3)\n",
    "%timeit samples = [normalvariate(0, 1) for _ in range(N)] # 수초 걸림\n",
    "\n",
    "# 넘파이는 백만개의 난수를 한번에 생성하기 때문에 속도가 훨씬 빠름\n",
    "%timeit np.random.standard_normal(N) # 몇십 ms 걸림"
   ]
  },
  {
   "cell_type": "code",
   "execution_count": null,
   "id": "42aa2263-bf63-4311-833a-f2c75211aa34",
   "metadata": {},
   "outputs": [],
   "source": [
    "# 난수 생성기 만들기\n",
    "# seed에 같은 숫자를 넣으면 -> 항상 같은 난수가 생성됨\n",
    "rng = np.random.default_rng(seed=12345)\n",
    "print(type(rng))\n",
    "\n",
    "# 2x3 배열 생성\n",
    "data1 = rng.standard_normal((2, 3))\n",
    "print(data1, type(data1))"
   ]
  },
  {
   "cell_type": "code",
   "execution_count": null,
   "id": "c11c2eeb-5975-451a-8ae3-3c11519413a6",
   "metadata": {},
   "outputs": [],
   "source": [
    "rng2 = np.random.default_rng(seed=12345)\n",
    "data2 = rng2.standard_normal((2, 3))\n",
    "data2"
   ]
  },
  {
   "cell_type": "markdown",
   "id": "93f7fd64-c53b-435e-aecc-b5272392d358",
   "metadata": {},
   "source": [
    "4.3 유니버설 함수"
   ]
  },
  {
   "cell_type": "code",
   "execution_count": null,
   "id": "01f926d6-ace7-4a8d-8c5f-8bbd11e46f6d",
   "metadata": {},
   "outputs": [],
   "source": [
    "# 0~9 배열 생성\n",
    "arr = np.arange(10)\n",
    "\n",
    "# 유니버설 함수 : 배열의 각 원소를 빠르게 처리하는 함수\n",
    "# 유니버설 함수를 사용하면 한번에 계산할 수 있음\n",
    "\n",
    "# add : 모든 배열 요소에 n만큼 더하기\n",
    "print('원본:', arr)\n",
    "np.add(arr, 1)"
   ]
  },
  {
   "cell_type": "code",
   "execution_count": null,
   "id": "c21a07c5-bbf8-4b3c-8e22-facd14496742",
   "metadata": {},
   "outputs": [],
   "source": [
    "# 평균0 표준편차1의 정규분포 (-3~+3)\n",
    "# 난수 8개 생성\n",
    "x = rng.standard_normal(8)\n",
    "y = rng.standard_normal(8)\n",
    "print(x)\n",
    "print(y)\n",
    "\n",
    "# maximum : 두 배열을 비교해서 최대값 구하기\n",
    "np.maximum(x, y)"
   ]
  },
  {
   "cell_type": "code",
   "execution_count": null,
   "id": "91d463fa-d1c5-4fab-8617-9b9242ab4ab9",
   "metadata": {},
   "outputs": [],
   "source": [
    "# 파이선 기본 함수 사용\n",
    "import math\n",
    "\n",
    "# sqrt : 제곱근 계산\n",
    "# print(math.sqrt(9))\n",
    "# print(math.sqrt(16))\n",
    "\n",
    "# exp : 지수 함수 계산 (e^x)\n",
    "print(math.exp(1))\n",
    "print(math.exp(2))\n",
    "print(math.exp(5))"
   ]
  },
  {
   "cell_type": "code",
   "execution_count": null,
   "id": "4f2436af-d4e4-4db0-bef8-d842904be3ee",
   "metadata": {},
   "outputs": [],
   "source": [
    "# 넘파이 배열 함수 사용\n",
    "# sqrt : 제곱근\n",
    "print(np.sqrt(arr))\n",
    "# exp : 지수\n",
    "print(np.exp(arr))"
   ]
  },
  {
   "cell_type": "markdown",
   "id": "5e3ce792-5d69-4dd8-9c82-bae4fda1313d",
   "metadata": {},
   "source": [
    "4.4 배열을 이용한 프로그래밍"
   ]
  },
  {
   "cell_type": "code",
   "execution_count": null,
   "id": "1aac78d1-db40-4b80-8517-c1814e45b1f0",
   "metadata": {},
   "outputs": [],
   "source": [
    "# for문 없이 간단히 배열 연산 가능\n",
    "\n",
    "# np.arange(3) : 0~2 배열 생성\n",
    "# meshgrid : 좌표격자를 만들기 위해 2개의 2차원 배열을 반환\n",
    "# xs : x축 기준 격자\n",
    "# ys : y축 기준 격자\n",
    "xs, ys = np.meshgrid(np.arange(3), np.arange(3))\n",
    "print(xs)\n",
    "print(ys)\n",
    "\n",
    "# 두 배열 더하기\n",
    "z = xs + ys\n",
    "z"
   ]
  },
  {
   "cell_type": "code",
   "execution_count": null,
   "id": "9f34e1c4-f7ef-4c01-a331-ddc1d43ce8d1",
   "metadata": {},
   "outputs": [],
   "source": [
    "# -5 이상 5 미만 까지 0.01 간격으로 값 생성\n",
    "# -5부터 4.99까지 0.01씩 증가하는 값의 배열\n",
    "points = np.arange(-5, 5, 0.01)\n",
    "xs, ys = np.meshgrid(points, points)\n",
    "print(xs)\n",
    "print(ys)\n",
    "# 이렇게 만든 2차원 배열은 맷플롯립을 이용해 시각화할 수 있음"
   ]
  },
  {
   "cell_type": "code",
   "execution_count": null,
   "id": "c7c4d70e-ee2d-4ba4-bc69-7ea90519bbda",
   "metadata": {},
   "outputs": [],
   "source": [
    "# 배열로 조건문 만들기\n",
    "# 두개의 데이터 배열\n",
    "arr1 = np.array([1.1, 1.2, 1.3, 1.4, 1.5])\n",
    "arr2 = np.array([2.1, 2.2, 2.3, 2.4, 2.5])\n",
    "# 조건 배열 (불리언 배열)\n",
    "cond = np.array([True, False, True, True, False])"
   ]
  },
  {
   "cell_type": "code",
   "execution_count": null,
   "id": "36e05649-15da-49cb-b242-e3214575c447",
   "metadata": {},
   "outputs": [],
   "source": [
    "# coda가 true면 arr1, false면 arr2를 선택\n",
    "result = [(x if c else y)\n",
    "          for x, y, c in zip(arr1, arr2, cond)]\n",
    "result"
   ]
  },
  {
   "cell_type": "code",
   "execution_count": null,
   "id": "619c4c43-245f-4749-aa63-9ca9db592154",
   "metadata": {},
   "outputs": [],
   "source": [
    "# 이번에는 넘파이로 조건문 쓰기\n",
    "# 파이썬 기본 코드보다 더 빠르고, 다차원배열에도 적용 가능\n",
    "result = np.where(cond, xarr, yarr)\n",
    "result"
   ]
  },
  {
   "cell_type": "code",
   "execution_count": null,
   "id": "e938f00a-0db9-4e75-8da0-7dc5cefe51ac",
   "metadata": {},
   "outputs": [],
   "source": [
    "# 평균0 표준편차1인 난수 생성\n",
    "# 4x4 크기의 배열 생성\n",
    "arr = rng.standard_normal((4, 4))\n",
    "print(arr)\n",
    "\n",
    "# 불리언 배열 대신 조건식을 넣을 수 있음\n",
    "# where(조건, 참일때값, 거짓일때값)\n",
    "# 요소가 0보다 크면 2, 아니면 -2로 치환\n",
    "np.where(arr > 0, 2, -2)"
   ]
  },
  {
   "cell_type": "code",
   "execution_count": null,
   "id": "1e972066-4469-414b-8385-e5ab034f1d89",
   "metadata": {},
   "outputs": [],
   "source": [
    "# 수학/통계 메소드\n",
    "\n",
    "# 평균0 표준편차1인 난수 생성\n",
    "# 5x4 크기의 배열 생성\n",
    "arr = rng.standard_normal((5, 4))\n",
    "print(arr)\n",
    "\n",
    "# 배열 객체 메소드로 평균 구하기\n",
    "arr.mean()\n",
    "# 넘파이 메소드로 평균 구하기 (배열 외에도 리스트, 튜플 등 사용 가능)\n",
    "np.mean(arr)\n",
    "# 배열의 합계 구하기\n",
    "arr.sum()"
   ]
  },
  {
   "cell_type": "code",
   "execution_count": null,
   "id": "33710d6f-6af9-4ef2-a7d5-c8d7a3d36546",
   "metadata": {},
   "outputs": [],
   "source": [
    "# 모든 행의 합계 구하기\n",
    "# axis=0 => 행 방향으로 계산\n",
    "print(arr.sum(axis=0))\n",
    "\n",
    "# 모든 열의 평균 구하기\n",
    "# axis=1 => 열 방향으로 계산\n",
    "print(arr.mean(axis=1))"
   ]
  },
  {
   "cell_type": "code",
   "execution_count": null,
   "id": "ca5e4fc9-0a57-4fb1-9248-98a7b1cf6cb2",
   "metadata": {},
   "outputs": [],
   "source": [
    "# cumsum : 누적값 구하기\n",
    "arr = np.array([0, 1, 2, 3, 4, 5, 6, 7])\n",
    "arr.cumsum()\n",
    "# 0\n",
    "# 0+1 = 1\n",
    "# 0+1+2 = 3\n",
    "# ..."
   ]
  },
  {
   "cell_type": "code",
   "execution_count": null,
   "id": "4f72bbef-b359-49ae-b33c-cb6731ab81cd",
   "metadata": {},
   "outputs": [],
   "source": [
    "# 3행 3열 크기의 배열 생성\n",
    "arr = np.array([[0, 1, 2], [3, 4, 5], [6, 7, 8]])\n",
    "print(arr)\n",
    "# 열 방향으로 누적값 구하기 (위->아래)\n",
    "print(arr.cumsum(axis=0))\n",
    "# 행 방향으로 누적값 구하기 (왼->오)\n",
    "print(arr.cumsum(axis=1))"
   ]
  },
  {
   "cell_type": "code",
   "execution_count": null,
   "id": "103d4905-2307-475f-b4df-6e3d43c76b1f",
   "metadata": {},
   "outputs": [],
   "source": [
    "# 불리언 배열을 위한 메소드\n",
    "\n",
    "# 평균0 표준편차1인 정규분포에서 난수 100개 생성\n",
    "arr = rng.standard_normal(100)\n",
    "\n",
    "# 양수 개수\n",
    "# arr > 0 => 배열의 요소를 하나씩 비교해서, 맞으면 1 아니면 0이 반환됨\n",
    "result1 = (arr > 0).sum()\n",
    "print(result1)\n",
    "\n",
    "# 음수 개수\n",
    "result2 = (arr <= 0).sum()\n",
    "print(result2)"
   ]
  },
  {
   "cell_type": "code",
   "execution_count": null,
   "id": "c3dfa0cf-7d27-42d3-8bf1-9376bed7abbd",
   "metadata": {},
   "outputs": [],
   "source": [
    "# 불리언 배열 생성\n",
    "bools = np.array([False, False, True, False])\n",
    "# any : 하나이상의 true가 있는지 검사\n",
    "print(bools.any())\n",
    "# all : 모든 요소가 true인지 검사\n",
    "print(bools.all())"
   ]
  },
  {
   "cell_type": "code",
   "execution_count": null,
   "id": "4f50054a-6e6c-4138-bed8-d4c2c914fd10",
   "metadata": {},
   "outputs": [],
   "source": [
    "# 정렬\n",
    "# 평균0 표준편차1인 정규분포에서 난수 6개 생성\n",
    "arr = rng.standard_normal(6)\n",
    "print(arr)\n",
    "# 배열 정렬\n",
    "arr.sort()\n",
    "print(arr)"
   ]
  },
  {
   "cell_type": "code",
   "execution_count": null,
   "id": "b69f9eea-bfef-4ae3-bfe9-7645925e37d5",
   "metadata": {},
   "outputs": [],
   "source": [
    "# 평균0 표준편차1인 정규분포에서 \n",
    "# 5행 3열 크기의 난수 2차원 배열 생성\n",
    "arr = rng.standard_normal((5, 3))\n",
    "arr"
   ]
  },
  {
   "cell_type": "code",
   "execution_count": null,
   "id": "dee70432-94f7-4e3c-b916-29b545c87997",
   "metadata": {},
   "outputs": [],
   "source": [
    "# 열 기준으로 정렬\n",
    "arr.sort(axis=0)\n",
    "print(arr)\n",
    "\n",
    "# 행 기준으로 정렬\n",
    "arr.sort(axis=1)\n",
    "print(arr)"
   ]
  },
  {
   "cell_type": "code",
   "execution_count": null,
   "id": "7ddfa5ba-7421-4a38-8a29-6fe150ecd24c",
   "metadata": {},
   "outputs": [],
   "source": [
    "# 배열이 아닌 넘파이의 sort함수를 사용\n",
    "# 원본배열은 그대로 두고, 정렬된 새로운 배열을 반환함\n",
    "arr2 = np.array([5, -10, 7, 1, 0, -3])\n",
    "sorted_arr2 = np.sort(arr2)\n",
    "\n",
    "print('원본 배열:', arr2)\n",
    "print('새로운 배열:', sorted_arr2)"
   ]
  },
  {
   "cell_type": "markdown",
   "id": "892219eb-3721-4328-a5b2-a096a7b3ed93",
   "metadata": {},
   "source": [
    "4.5 배열 데이터의 파일 입출력"
   ]
  },
  {
   "cell_type": "code",
   "execution_count": 27,
   "id": "f42acab3-892e-484c-bf28-c26298ddd7bc",
   "metadata": {},
   "outputs": [],
   "source": [
    "# 0부터 9까지 담긴 숫자 배열 생성\n",
    "arr = np.arange(10)\n",
    "\n",
    "# 배열을 파일로 저장 (넘파일 전용 파일 .npy)\n",
    "# 파일은 폴더 경로에서 확인\n",
    "np.save(\"some_array\", arr)"
   ]
  },
  {
   "cell_type": "code",
   "execution_count": 28,
   "id": "50f9a19f-9be7-44b0-a651-c0de517fc4d3",
   "metadata": {},
   "outputs": [
    {
     "data": {
      "text/plain": [
       "array([0, 1, 2, 3, 4, 5, 6, 7, 8, 9])"
      ]
     },
     "execution_count": 28,
     "metadata": {},
     "output_type": "execute_result"
    }
   ],
   "source": [
    "# 파일 불러오기\n",
    "np.load(\"some_array.npy\")"
   ]
  },
  {
   "cell_type": "code",
   "execution_count": 31,
   "id": "eafed1b8-6161-478b-a720-c9552c6d5ca2",
   "metadata": {},
   "outputs": [],
   "source": [
    "# 새로운 배열 생성\n",
    "arr2 = np.arange(10, 20)\n",
    "# 배열 여러개를 한번에 저장\n",
    "# 키=배열로 묶어서 저장\n",
    "np.savez(\"array_archive.npz\", a=arr, b=arr2)"
   ]
  },
  {
   "cell_type": "code",
   "execution_count": 33,
   "id": "8c681bb4-66d5-4479-a3f8-66b1a04f6703",
   "metadata": {},
   "outputs": [
    {
     "data": {
      "text/plain": [
       "array([0, 1, 2, 3, 4, 5, 6, 7, 8, 9])"
      ]
     },
     "execution_count": 33,
     "metadata": {},
     "output_type": "execute_result"
    }
   ],
   "source": [
    "# 파일 불러오기\n",
    "arch = np.load(\"array_archive.npz\")\n",
    "# b 배열만 꺼내기\n",
    "arch[\"b\"]"
   ]
  },
  {
   "cell_type": "code",
   "execution_count": null,
   "id": "4b3041ad-fb7f-4e23-8b81-1b20a0b85b10",
   "metadata": {},
   "outputs": [],
   "source": []
  }
 ],
 "metadata": {
  "kernelspec": {
   "display_name": "Python 3 (ipykernel)",
   "language": "python",
   "name": "python3"
  },
  "language_info": {
   "codemirror_mode": {
    "name": "ipython",
    "version": 3
   },
   "file_extension": ".py",
   "mimetype": "text/x-python",
   "name": "python",
   "nbconvert_exporter": "python",
   "pygments_lexer": "ipython3",
   "version": "3.10.18"
  }
 },
 "nbformat": 4,
 "nbformat_minor": 5
}
