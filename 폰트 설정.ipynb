{
 "cells": [
  {
   "cell_type": "code",
   "execution_count": 1,
   "id": "8f8fe2b9-eca5-43a6-a2d7-7d1bb5dc6aac",
   "metadata": {},
   "outputs": [
    {
     "data": {
      "text/html": [
       "\n",
       "<style>\n",
       "/* 코드 본문 색을 더 진하게 */\n",
       ".jp-Notebook .cm-content {\n",
       "  color: #000000 !important;   /* 기본 글자색: 진한 검정 */\n",
       "}\n",
       "\n",
       "/* 주석 색을 진한 초록으로 */\n",
       ".cm-line span[cm-comment] {\n",
       "  color: #006400 !important;   /* 어두운 녹색 */\n",
       "  font-style: normal !important;  /* 기울임 해제 */\n",
       "}\n",
       "\n",
       "/* 마크다운 셀 본문 */\n",
       ".jp-RenderedHTMLCommon {\n",
       "  color: #111111 !important;   /* 거의 검정 */\n",
       "}\n",
       "</style>\n"
      ],
      "text/plain": [
       "<IPython.core.display.HTML object>"
      ]
     },
     "execution_count": 1,
     "metadata": {},
     "output_type": "execute_result"
    }
   ],
   "source": [
    "from IPython.display import HTML\n",
    "HTML(\"\"\"\n",
    "<style>\n",
    "/* 코드 입력 부분(에디터 영역)만 배경 연하게 */\n",
    ".jp-Notebook .cm-editor {\n",
    "  background-color: #f9f9f9 !important;  /* 아주 연한 회색 */\n",
    "}\n",
    "\n",
    "/* 코드 글자 */\n",
    ".jp-Notebook .cm-content {\n",
    "  font-size: 20pt !important;\n",
    "  font-weight: 700 !important;\n",
    "  color: #000000 !important;\n",
    "}\n",
    "\n",
    "/* 주석 */\n",
    ".cm-line span[cm-comment] {\n",
    "  color: #006400 !important;\n",
    "  font-style: normal !important;\n",
    "}\n",
    "\n",
    "/* 마크다운 셀 */\n",
    ".jp-RenderedHTMLCommon {\n",
    "  font-size: 18pt !important;\n",
    "  color: #111111 !important;\n",
    "}\n",
    "\n",
    "/* 텍스트 출력 가독성 ↑ */\n",
    ".jp-OutputArea .jp-RenderedText pre,\n",
    ".jp-OutputArea .jp-OutputArea-output pre,\n",
    ".jp-OutputArea-output code {\n",
    "  color: #000 !important;\n",
    "  font-weight: 600 !important;\n",
    "  font-size: 18pt !important;\n",
    "  margin: 0 !important;\n",
    "}\n",
    "\n",
    "/* HTML로 렌더된 출력(표, 리스트 등)도 조금 더 진하게 */\n",
    ".jp-OutputArea .jp-RenderedHTMLCommon {\n",
    "  color: #111 !important;\n",
    "  font-size: 20pt !important;\n",
    "}\n",
    "</style>\n",
    "\"\"\")"
   ]
  }
 ],
 "metadata": {
  "kernelspec": {
   "display_name": "Python 3 (ipykernel)",
   "language": "python",
   "name": "python3"
  },
  "language_info": {
   "codemirror_mode": {
    "name": "ipython",
    "version": 3
   },
   "file_extension": ".py",
   "mimetype": "text/x-python",
   "name": "python",
   "nbconvert_exporter": "python",
   "pygments_lexer": "ipython3",
   "version": "3.10.18"
  }
 },
 "nbformat": 4,
 "nbformat_minor": 5
}
