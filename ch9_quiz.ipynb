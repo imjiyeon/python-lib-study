{
 "cells": [
  {
   "cell_type": "markdown",
   "id": "97f440b1-2110-4e36-9678-672da5ff724b",
   "metadata": {},
   "source": [
    "### 인천 마을회관 버스정류장 지도 만들기"
   ]
  },
  {
   "cell_type": "code",
   "execution_count": null,
   "id": "d23a3dab-07f0-433e-8bca-0df37d259f15",
   "metadata": {},
   "outputs": [],
   "source": [
    "# 모듈 불러오기\n",
    "import pandas as pd\n",
    "import folium"
   ]
  },
  {
   "cell_type": "markdown",
   "id": "cb2f3fc9-e739-447f-ae27-3c52f67a0bf7",
   "metadata": {},
   "source": [
    "csv 파일 불러오기"
   ]
  },
  {
   "cell_type": "code",
   "execution_count": null,
   "id": "fb02d247-8f5a-4f30-bf4e-f4dba5b0f73f",
   "metadata": {},
   "outputs": [],
   "source": [
    "# csv 파일 불러오기\n",
    "data = pd.read_csv('국토교통부_전국 버스정류장 위치정보_20241028.csv', encoding='euc-kr')\n",
    "# 필요한 컬럼만 선택\n",
    "df = data[['정류장명', '위도', '경도', '도시명']]"
   ]
  },
  {
   "cell_type": "markdown",
   "id": "6909980a-bd9e-4886-bf0e-4885f1fc2925",
   "metadata": {},
   "source": [
    "인천 정류장에서 '마을회관'이 포함된 정류장만 선택"
   ]
  },
  {
   "cell_type": "code",
   "execution_count": null,
   "id": "ec40ff03-9764-46d1-b2aa-927ef6c4619b",
   "metadata": {},
   "outputs": [],
   "source": [
    "# Series의 자료형: string\n",
    "# Series의 자료형이 string이면, str 속성을 꺼낼수 있음\n",
    "# 이어서 str 속성으로 문자열 함수를 사용할 수 있음\n",
    "df['정류장명'].str.contains('상가')"
   ]
  },
  {
   "cell_type": "markdown",
   "id": "56833511-a4d2-4564-b1fa-308932a638c1",
   "metadata": {},
   "source": [
    "자주 사용하는 문자열 함수\n",
    "- contains: 특정 문자열이 포함되었는지 확인\n",
    "- startwith: 특정 문자열로 시작하는지 확인\n",
    "- endwith: 특정 문자열로 끝나는지 확인"
   ]
  },
  {
   "cell_type": "code",
   "execution_count": null,
   "id": "d949e5cd-0ab9-4015-b0fb-6db8f37e5065",
   "metadata": {},
   "outputs": [],
   "source": [
    "# 1) 인천에 있는 버스정류장만 선택\n",
    "incheon = df[df['도시명'] == '인천광역시']\n",
    "# 2) 인천 정류장 중 '마을회관'이 포함된 정류장만 선택\n",
    "df1 = incheon[incheon['정류장명'].str.contains(\"마을회관\")]\n",
    "df1\n",
    "df1.count()"
   ]
  },
  {
   "cell_type": "markdown",
   "id": "cdaafcf3-8577-4c3b-8cf1-955a44ab0a07",
   "metadata": {},
   "source": [
    "서울 정류장에서 '상가'가 포함된 정류장만 선택"
   ]
  },
  {
   "cell_type": "code",
   "execution_count": null,
   "id": "8986718c-8d92-4001-b000-2d0e1296590c",
   "metadata": {},
   "outputs": [],
   "source": [
    "# 1) 서울에 있는 버스 정류장만 선택\n",
    "seoul = df[df['도시명'] == '서울특별시']\n",
    "seoul\n",
    "# 2) 서울 정류장 중 '상가'가 포함된 정류장만 선택\n",
    "df2 = seoul[seoul['정류장명'].str.contains(\"상가\")]\n",
    "df2\n",
    "df2.count()"
   ]
  },
  {
   "cell_type": "markdown",
   "id": "97acf58f-69f2-4e6d-bff6-2ce9523e458f",
   "metadata": {},
   "source": [
    "데이터 합치기\n",
    "- merge : 조건이 맞으면 연겨\n",
    "- concat : 그냥 이어붙이기\n",
    "    - axes=0 : 위아래로 연결. 기본값\n",
    "    -  exes=1 : 옆으로 연결"
   ]
  },
  {
   "cell_type": "code",
   "execution_count": null,
   "id": "5ab4cc22-1508-438d-bac9-220c6131e0f8",
   "metadata": {},
   "outputs": [],
   "source": [
    "bus = pd.concat([df1, df2])\n",
    "bus"
   ]
  },
  {
   "cell_type": "code",
   "execution_count": null,
   "id": "d0795bd6-4fb7-4ca4-8204-54c1ee7d432a",
   "metadata": {},
   "outputs": [],
   "source": [
    "map = folium.Map(location=[37.458077,126.715780], zoom_start=10)"
   ]
  },
  {
   "cell_type": "code",
   "execution_count": null,
   "id": "12f35004-41d8-4c45-a68c-76ac5eadc2f6",
   "metadata": {},
   "outputs": [],
   "source": [
    "# 정류장 마커 추가\n",
    "for i in bus.index:\n",
    "    name = bus.loc[i, '정류장명']\n",
    "    lat = bus.loc[i, '위도']\n",
    "    lon = bus.loc[i, '경도']\n",
    "    city = bus.loc[i, '도시명']\n",
    "\n",
    "    # 지역에 따라 마커 색 변경\n",
    "    if city == '인천광역시':\n",
    "        color = \"red\"\n",
    "    elif city == '서울특별시':\n",
    "        color = \"blue\"\n",
    "    \n",
    "    folium.Marker( [lat, lon], popup=name, tooltip=name, icon=folium.Icon(color=color) ).add_to(map)"
   ]
  },
  {
   "cell_type": "code",
   "execution_count": null,
   "id": "daf22bf0-84ef-4b34-861c-e102f1e13c55",
   "metadata": {},
   "outputs": [],
   "source": [
    "map"
   ]
  }
 ],
 "metadata": {
  "kernelspec": {
   "display_name": "Python 3 (ipykernel)",
   "language": "python",
   "name": "python3"
  },
  "language_info": {
   "codemirror_mode": {
    "name": "ipython",
    "version": 3
   },
   "file_extension": ".py",
   "mimetype": "text/x-python",
   "name": "python",
   "nbconvert_exporter": "python",
   "pygments_lexer": "ipython3",
   "version": "3.10.18"
  }
 },
 "nbformat": 4,
 "nbformat_minor": 5
}
