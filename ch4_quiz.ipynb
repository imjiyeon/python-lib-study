{
 "cells": [
  {
   "cell_type": "code",
   "execution_count": null,
   "id": "9a6c4ffc-45c0-4a6e-ae08-1dcf8e275a99",
   "metadata": {},
   "outputs": [],
   "source": [
    "import pandas as pd\n",
    "import numpy as np"
   ]
  },
  {
   "cell_type": "markdown",
   "id": "5aded26c-2f31-45c7-b2fb-4842642853f8",
   "metadata": {},
   "source": [
    "시리즈 생성/조회/수정"
   ]
  },
  {
   "cell_type": "code",
   "execution_count": null,
   "id": "07cd8fb9-82e7-4727-9fc5-4887b8f5a9c5",
   "metadata": {},
   "outputs": [],
   "source": [
    "# 문제 1\n",
    "s1 = pd.Series([5, 10, 15, 20])\n",
    "s2 = pd.Series([2, 4, 6, 8])\n",
    "\n",
    "# 문제 2\n",
    "s = pd.Series([70, 80, 90], index=['국어', '영어', '수학'])\n",
    "s.loc['국어']\n",
    "s.loc['수학'] = 75\n",
    "\n",
    "# 문제 3\n",
    "s = pd.Series([15, 27, 18], index=['봄', '여름', '가을'])\n",
    "s.loc['봄']\n",
    "s.loc['가을'] = 20\n",
    "\n",
    "# 문제 4\n",
    "s = pd.Series([1000, 1200, 1300], index=['01-01', '01-02', '01-03'])\n",
    "s['01-01']\n",
    "s['01-02'] = 1250\n",
    "\n",
    "# 문제 5\n",
    "s = pd.Series([300, 400, 500], index=['월', '화', '수'])\n",
    "s['화']\n",
    "s['수'] = 550"
   ]
  },
  {
   "cell_type": "markdown",
   "id": "e0907470-608f-495e-8f4a-2a7bd68e33cd",
   "metadata": {},
   "source": [
    "데이터 프레임 생성/조회/수정"
   ]
  },
  {
   "cell_type": "code",
   "execution_count": null,
   "id": "929f091b-9d46-4a59-9a81-cfdcd5c585c7",
   "metadata": {},
   "outputs": [],
   "source": [
    "# 문제 1\n",
    "data = {\"name\": [\"철수\", \"영희\", \"민수\"],\n",
    "        \"math\": [85, 90, 78]}\n",
    "df = pd.DataFrame(data)\n",
    "\n",
    "data = {\"day\": [\"월\", \"화\", \"수\"],\n",
    "        \"sales\": [1000, 1200, 900]}\n",
    "df = pd.DataFrame(data)\n",
    "\n",
    "# 문제 2\n",
    "data = np.array([[30, 10],\n",
    "                 [40, 20]])\n",
    "df = pd.DataFrame(data,\n",
    "                  index=['사과', '배'],\n",
    "                  columns=['판매량', '재고'])\n",
    "df.loc['사과', '판매량']\n",
    "df['가격'] = [1000, 1200]\n",
    "\n",
    "# 문제 3\n",
    "data = np.array([[950, 1200],\n",
    "                 [500, 800]])\n",
    "df = pd.DataFrame(data,\n",
    "                  index=['서울', '부산'],\n",
    "                  columns=['인구', '면적'])\n",
    "df.loc['서울', '면적']\n",
    "df['특산물'] = ['김치', '어묵']\n",
    "\n",
    "# 문제 4\n",
    "data = np.array([[15000, '홍길동전'],\n",
    "                 [20000, '해리포터']])\n",
    "df = pd.DataFrame(data,\n",
    "                  index=['책1', '책2'],\n",
    "                  columns=['가격', '제목'])\n",
    "df.loc['책2', '가격']\n",
    "df.insert(1, '저자', ['허균', 'J.K. 롤링'])\n",
    "\n",
    "# 문제 5\n",
    "data = np.array([[9.0, 14000],\n",
    "                 [8.2, 9500]])\n",
    "df = pd.DataFrame(data,\n",
    "                  index=['기생충', '인터스텔라'],\n",
    "                  columns=['평점', '관객수'])\n",
    "df.loc['기생충', '평점']\n",
    "df = df.drop(columns=['관객수'])"
   ]
  },
  {
   "cell_type": "markdown",
   "id": "ed316ac3-4968-4506-bc12-0f149f3f45c4",
   "metadata": {},
   "source": [
    "시리즈의 계산과 조건 검색"
   ]
  },
  {
   "cell_type": "code",
   "execution_count": null,
   "id": "7dd2e618-5d27-4b55-8272-7a0e2c86212e",
   "metadata": {},
   "outputs": [],
   "source": [
    "# 문제 1\n",
    "s = pd.Series([80, 90, 75, 85], index=['국어', '영어', '수학', '과학'])\n",
    "print(\"총점:\", s.sum())\n",
    "print(\"평균:\", s.mean())\n",
    "print(\"최고 점수:\", s.max())\n",
    "print(\"최저 점수:\", s.min())\n",
    "\n",
    "# 자주 사용하는 통계 함수: sum mean max min\n",
    "# numpy의 배열, pandas의 시리즈와 데이터프레임 모두 사용 가능\n",
    "\n",
    "# 문제 2\n",
    "s = pd.Series([2, 5, -1, 0, 7, -3, 4],\n",
    "              index=['월', '화', '수', '목', '금', '토', '일'])\n",
    "s >= 0       # 불리언 배열\n",
    "s[s >= 0]    # 조건을 만족하는 값만 추출"
   ]
  },
  {
   "cell_type": "markdown",
   "id": "4039a9ed-bbc3-4e79-8db3-84926a8ab665",
   "metadata": {},
   "source": [
    "데이터 프레임의 계산과 조건 검색"
   ]
  },
  {
   "cell_type": "code",
   "execution_count": null,
   "id": "f27dc61b-3beb-4e53-abe0-64a0af310f21",
   "metadata": {},
   "outputs": [],
   "source": [
    "# 문제 1\n",
    "data = np.array([[12000, 9.0],\n",
    "                 [8000, 8.5],\n",
    "                 [15000, 9.3]])\n",
    "df = pd.DataFrame(data,\n",
    "                  index=['기생충', '인터스텔라', '아바타'],\n",
    "                  columns=['관객수', '평점'])\n",
    "df['관객수'] + 1000\n",
    "df['평점'] >= 9.0\n",
    "df[df['평점'] >= 9.0]\n",
    "\n",
    "# 문제 2\n",
    "data = np.array([[25000, 30000],\n",
    "                 [40000, 15000]])\n",
    "df = pd.DataFrame(data,\n",
    "                  index=['치마', '바지'],\n",
    "                  columns=['1월 매출', '2월 매출'])\n",
    "df['합계'] = df['1월 매출'] + df['2월 매출']\n",
    "df['합계(만원)'] = df['합계'] / 10000"
   ]
  },
  {
   "cell_type": "markdown",
   "id": "733fa595-821c-46ee-95fd-9df448b0ebf6",
   "metadata": {},
   "source": [
    "nan 처리"
   ]
  },
  {
   "cell_type": "code",
   "execution_count": null,
   "id": "7300debc-f5c5-4e32-b1d2-ac7b2a438650",
   "metadata": {},
   "outputs": [],
   "source": [
    "# 문제 1\n",
    "data = [[20, 25, 15],\n",
    "        [18, 22, 19],\n",
    "        [25, 27, 23]]\n",
    "df = pd.DataFrame(data,\n",
    "                  index=['서울', '부산', '대구'],\n",
    "                  columns=['봄', '여름', '겨울'])\n",
    "# 서울의 여름 기온을 NaN으로 변경\n",
    "df.loc['서울', '여름'] = np.nan\n",
    "# 형변환을 안해도 nan를 넣으면 해당 열이 float으로 자동으로 바뀜\n",
    "df.dtypes\n",
    "# NaN이 있는 행 삭제\n",
    "df = df.dropna(axis=0)\n",
    "# # 부산의 봄 기온을 NaN으로 변경\n",
    "df.loc['부산', '봄'] = np.nan\n",
    "# NaN을 0으로 채우기\n",
    "df = df.fillna(0)\n",
    "\n",
    "# 문제 2\n",
    "# 데이터 생성\n",
    "data = [[80, 75, 90], \n",
    "        [85, 88, 82], \n",
    "        [70, 65, 78]]\n",
    "df = pd.DataFrame(data, index=['국어', '영어', '수학'], columns=['1반', '2반', '3반'])\n",
    "# 2반 영어 점수를 NaN으로 변경\n",
    "df.loc['영어', '2반'] = np.nan\n",
    "# 빈값이 포함된 열 삭제\n",
    "df = df.dropna(axis=1)\n",
    "# 3반 수학 점수를 NaN으로 변경\n",
    "df.loc['수학', '3반'] = np.nan\n",
    "# 4. 모든 빈값을 100으로 채우기\n",
    "df = df.fillna(100)"
   ]
  },
  {
   "cell_type": "markdown",
   "id": "0e3af168-8b0e-492a-b6b4-46682d373057",
   "metadata": {},
   "source": [
    "중복제거와 개수세기"
   ]
  },
  {
   "cell_type": "code",
   "execution_count": null,
   "id": "2229ad33-f119-409d-a1f7-d4942c181043",
   "metadata": {},
   "outputs": [],
   "source": [
    "# 문제1\n",
    "# 지역 목록을 시리즈로 만들어주세요\n",
    "# 값은 ['서울', '부산', '서울', '대구', '부산', '광주', '서울'] 입니다\n",
    "# 중복을 제거한 데이터만 출력하세요\n",
    "# 각 도시가 몇번 나왔는지 출력하세요\n",
    "s = pd.Series(['서울', '부산', '서울', '대구', '부산', '광주', '서울'])\n",
    "s.unique()\n",
    "s.value_counts()\n",
    "\n",
    "# 문제2\n",
    "# 이름 목록을 시리즈로 만들어주세요\n",
    "# 값은 ['민수', '지연', '철수', '민수', '영희', '민수', '지연'] 입니다\n",
    "# 가장 많이 나온 이름의 수를 출력하세요\n",
    "s = pd.Series(['민수', '지연', '철수', '민수', '영희', '민수', '지연'])\n",
    "print(\"가장 많이 나온 이름:\", s.value_counts().max())"
   ]
  }
 ],
 "metadata": {
  "kernelspec": {
   "display_name": "Python 3 (ipykernel)",
   "language": "python",
   "name": "python3"
  },
  "language_info": {
   "codemirror_mode": {
    "name": "ipython",
    "version": 3
   },
   "file_extension": ".py",
   "mimetype": "text/x-python",
   "name": "python",
   "nbconvert_exporter": "python",
   "pygments_lexer": "ipython3",
   "version": "3.10.18"
  }
 },
 "nbformat": 4,
 "nbformat_minor": 5
}
