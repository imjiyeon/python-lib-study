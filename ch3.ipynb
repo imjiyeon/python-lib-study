{
 "cells": [
  {
   "cell_type": "markdown",
   "id": "aeb67dfb-e29b-4fff-a73f-62990995ef3e",
   "metadata": {},
   "source": [
    "## 3. 넘파이\n",
    "다차원 배열을 편리하게 사용하게 해주는 파이썬 라이브러리"
   ]
  },
  {
   "cell_type": "markdown",
   "id": "ce4e4f18-3c8c-448c-95fc-3dacc336620e",
   "metadata": {},
   "source": [
    "3.1 ndarray  \n",
    "다차원 배열  \n",
    "모든 요소의 타입은 동일함  \n",
    "계산 속도가 빠르다"
   ]
  },
  {
   "cell_type": "code",
   "execution_count": null,
   "id": "c8ee4c7e-6da5-40d2-8f6f-36e617232d94",
   "metadata": {},
   "outputs": [],
   "source": [
    "# numpy 모듈을 가져와서 np로 부르기\n",
    "import numpy as np"
   ]
  },
  {
   "cell_type": "code",
   "execution_count": null,
   "id": "0f7a05ef-e4e9-4231-bdfb-1d0e46fc6648",
   "metadata": {},
   "outputs": [],
   "source": [
    "# 1차원 배열 생성하기\n",
    "a = np.array([1,2,3])\n",
    "a\n",
    "# b = np.array(['a','b','c'])\n",
    "# b"
   ]
  },
  {
   "cell_type": "code",
   "execution_count": null,
   "id": "9b43fec9-0e87-47bd-a763-0ef66970f90f",
   "metadata": {},
   "outputs": [],
   "source": [
    "# 2차원 배열 생성하기\n",
    "# 행(row) 열(column)\n",
    "arr = np.array([[1,2,3], [4,5,6]])\n",
    "arr"
   ]
  },
  {
   "cell_type": "code",
   "execution_count": null,
   "id": "e1535d9e-2c63-415e-89fa-49c57bac390a",
   "metadata": {},
   "outputs": [],
   "source": [
    "# arange : 파이썬의 range 함수 같이 숫자를 생성하는 함수\n",
    "# 0~9 숫자 10개 생성\n",
    "a = np.arange(10)\n",
    "a\n",
    "# 1부터 10까지\n",
    "b = np.arange(1,11)\n",
    "b\n",
    "# 1부터 10까지, 2간격으로\n",
    "c = np.arange(1,11,2)\n",
    "c"
   ]
  },
  {
   "cell_type": "code",
   "execution_count": null,
   "id": "f1f39c62-f95c-4f14-8464-893137aef16d",
   "metadata": {},
   "outputs": [],
   "source": [
    "# 10개 크기의 1차원 배열 생성. 모든 값이 0.0으로 초기화\n",
    "np.zeros(10)\n",
    "# 3행 6열 크기의 2차원 배열 생성. 모든 값이 0.0으로 초기화\n",
    "np.zeros((3, 3))"
   ]
  },
  {
   "cell_type": "code",
   "execution_count": null,
   "id": "8cc4338c-7a00-4ae6-941a-6afd2f51c17a",
   "metadata": {},
   "outputs": [],
   "source": [
    "# 1차원 배열 생성\n",
    "a = np.array([1,2,3])\n",
    "print(a.dtype) #자료형 확인\n",
    "print(a.ndim) #차원\n",
    "print(a.shape) #행열크기\n",
    "# 2차원 배열 생성\n",
    "b = np.array([ [1,2,3], [4,5,6] ])\n",
    "print(b.dtype) #자료형 확인\n",
    "print(b.ndim) #차원\n",
    "print(b.shape) #행열크기"
   ]
  },
  {
   "cell_type": "code",
   "execution_count": null,
   "id": "a96ecadb-493f-4dcd-b684-a69ee4b6eefe",
   "metadata": {},
   "outputs": [],
   "source": [
    "# astype : 자료형 변경\n",
    "# float -> int\n",
    "arr = np.array([1.1,1.2,1.3])\n",
    "print(arr, arr.dtype)\n",
    "arr2 = arr.astype(np.int32)\n",
    "print(arr2, arr2.dtype)"
   ]
  },
  {
   "cell_type": "code",
   "execution_count": null,
   "id": "a7492d3b-f15c-4ed8-900e-feb4b0b8bdf6",
   "metadata": {},
   "outputs": [],
   "source": [
    "# 파이썬의 리스트에 있는 각 요소에 3 더하기\n",
    "lis = [1,2,3]\n",
    "# lis + 3\n",
    "# 리스트는 이대로 계산 불가\n",
    "# 반복문을 사용해야함\n",
    "for i in lis:\n",
    "    print(i + 3)"
   ]
  },
  {
   "cell_type": "code",
   "execution_count": null,
   "id": "a0cbe6fd-ec0b-4812-9fd4-d28739fc1fd4",
   "metadata": {},
   "outputs": [],
   "source": [
    "# 넘파이 배열은 for문을 쓰지 않아도 각 원소에 계산이 된다\n",
    "a = np.array([1,2,3])\n",
    "a+3\n",
    "a-3\n",
    "a*3"
   ]
  },
  {
   "cell_type": "code",
   "execution_count": null,
   "id": "8ff2ab8f-2b04-4413-bed3-f75294af045c",
   "metadata": {},
   "outputs": [],
   "source": [
    "# 배열간의 연산\n",
    "# 비교를 하면 불리언 배열이 반환됨\n",
    "b = np.array([4,5,6])\n",
    "b > a"
   ]
  },
  {
   "cell_type": "markdown",
   "id": "6c885aa9-5ad0-4278-8fce-ad854c766be8",
   "metadata": {},
   "source": [
    "1차원 배열 인덱싱과 슬라이스"
   ]
  },
  {
   "cell_type": "code",
   "execution_count": null,
   "id": "3da1fc91-4ac4-48f9-83a3-86c5587337e2",
   "metadata": {},
   "outputs": [],
   "source": [
    "# 1차원 배열\n",
    "arr = np.arange(10)\n",
    "print(arr)\n",
    "\n",
    "# 특정 요소 꺼내기\n",
    "print(arr[0])\n",
    "\n",
    "# 배열 슬라이스\n",
    "print(arr[5:8])\n",
    "\n",
    "# 배열 슬라이스에 숫자를 넣으면 값이 전파되어, \n",
    "# arr[5] arr[6] arr[7]에 모두 12가 저장됨\n",
    "arr[5:8] = 99\n",
    "print(arr)"
   ]
  },
  {
   "cell_type": "code",
   "execution_count": null,
   "id": "83662c1c-980a-4b37-9b38-bec9f88d7cf3",
   "metadata": {},
   "outputs": [],
   "source": [
    "# 슬라이스 배열을 변수에 담기\n",
    "arr_slice = arr[5:8]\n",
    "print(s)\n",
    "# 파이썬의 리스트 슬라이스는 '복사본'을 만들지만,\n",
    "# 넘파이 배열의 슬라이스는 '뷰(view)'로 원본 데이터를 그대로 보여줌\n",
    "# 슬라이스 배열의 값을 바꾸면 원본 배열도 함께 변경되므로 조심해서 사용\n",
    "arr_slice[1] = 111\n",
    "print(arr)"
   ]
  },
  {
   "cell_type": "code",
   "execution_count": null,
   "id": "b7aee317-57e1-4dab-8656-e84695f76135",
   "metadata": {},
   "outputs": [],
   "source": [
    "# [:]은 배열의 모든값\n",
    "arr_slice[:] = 64\n",
    "arr"
   ]
  },
  {
   "cell_type": "markdown",
   "id": "dfc61b5d-28c5-44dc-b9f4-6efee44c7613",
   "metadata": {},
   "source": [
    "2차원 배열 인덱싱과 슬라이스"
   ]
  },
  {
   "cell_type": "code",
   "execution_count": null,
   "id": "3ff074b5-782f-440d-86bc-30c40fa5fb4e",
   "metadata": {},
   "outputs": [],
   "source": [
    "# 2차원 배열\n",
    "arr = np.array([[1, 2, 3], [4, 5, 6], [7, 8, 9]])\n",
    "# 2차원 배열에서 각 요소는 1차원 배열\n",
    "arr[2]"
   ]
  },
  {
   "cell_type": "code",
   "execution_count": null,
   "id": "0fc9d2b4-28a6-4754-9780-65e10987dc56",
   "metadata": {},
   "outputs": [],
   "source": [
    "# 특정 요소 꺼내기\n",
    "print(arr[0][2])\n",
    "print(arr[0, 2])"
   ]
  },
  {
   "cell_type": "code",
   "execution_count": null,
   "id": "f12f499b-b269-47ee-bbf6-9befe91b8d5a",
   "metadata": {},
   "outputs": [],
   "source": [
    "# 값 바꾸기\n",
    "arr[1][1] = 0\n",
    "arr[1, 1] = 0\n",
    "arr"
   ]
  },
  {
   "cell_type": "code",
   "execution_count": null,
   "id": "25a71d7e-89e6-42d0-8517-dc07fb59eee1",
   "metadata": {},
   "outputs": [],
   "source": [
    "# 2차원 배열 슬라이스하기\n",
    "# 열을 기준으로 슬라이스 (0번부터 1번까지)\n",
    "arr[:2]\n",
    "\n",
    "# 배열[행범위, 앞에서 선택한 행에서 열범위]\n",
    "# 모든 행에서 첫 번째 열만 선택 (2차원)\n",
    "arr[:, :1]\n",
    "\n",
    "# 1행~2행, 1열~2열 선택\n",
    "arr[1:3, 1:3]\n",
    "\n",
    "# 0~1행, 0~1열 선택\n",
    "arr[:2, :2]\n",
    "\n",
    "# 1행의 0~1열 선택\n",
    "arr[1, 0:2]"
   ]
  },
  {
   "cell_type": "markdown",
   "id": "1fbe78a3-5132-4d57-8af7-9693a4a3134c",
   "metadata": {},
   "source": [
    "불리언 인덱스"
   ]
  },
  {
   "cell_type": "code",
   "execution_count": null,
   "id": "a2982e0b-3ff8-46ba-8055-c8330d747182",
   "metadata": {},
   "outputs": [],
   "source": [
    "# 철수의 대출 이력 조회하기\n",
    "\n",
    "# 학생 목록\n",
    "students = np.array([\"철수\", \"영희\", \"민수\", \"철수\", \"영희\"])\n",
    "\n",
    "# 학생별 대출 이력\n",
    "books = np.array([\n",
    "    [\"수학의 정석\", 7],   # 책제목, 대출일수\n",
    "    [\"해리포터\", 14],\n",
    "    [\"파이썬 입문\", 10],\n",
    "    [\"한국사\", 5],\n",
    "    [\"데미안\", 12]\n",
    "])\n",
    "# 학생목록과 대출이력은 인덱스 위치 기준으로 대응"
   ]
  },
  {
   "cell_type": "code",
   "execution_count": null,
   "id": "9e492ea1-ade4-4e18-8d23-caafeea9b119",
   "metadata": {},
   "outputs": [],
   "source": [
    "# 넘파이 배열에 비교연산을 쓰면 불리언 배열 반환\n",
    "print(students == \"철수\")\n",
    "\n",
    "# 불리언 배열 [True False False True False]를 books 배열에 적용하면,\n",
    "# True인 위치(0번째, 3번째)의 행만 뽑혀 나옴\n",
    "books[students == \"철수\"]\n",
    "\n",
    "# 철수의 대출 이력만 조회"
   ]
  },
  {
   "cell_type": "code",
   "execution_count": null,
   "id": "a2b0fcd5-fbea-4edc-ac8e-ba1e175046e0",
   "metadata": {},
   "outputs": [],
   "source": [
    "# 철수의 대출 기록 보기\n",
    "# 1: => 두번째 열부터 마지막까지 (대출일수)\n",
    "print(books[students == \"철수\", 1:])\n",
    "# 1 => 두번째 열만 (대출일수)\n",
    "print(books[students == \"철수\", 1])\n",
    "\n",
    "# 철수가 아닌 항목 찾기\n",
    "print(students != \"철수\")"
   ]
  },
  {
   "cell_type": "code",
   "execution_count": null,
   "id": "c91252cc-3260-4a95-8627-189c19db0b97",
   "metadata": {},
   "outputs": [],
   "source": [
    "# 불리언색인을 사용해서 값 수정하기\n",
    "# \"수학의 정석\"을 찾아서 책제목 바꾸기\n",
    "books[books == \"수학의 정석\"] = \"자바의 정석\"\n",
    "print(books)\n",
    "\n",
    "# 철수가 아닌 행 전체를 7로 바꾸기\n",
    "books[students != \"철수\"] = 7\n",
    "print(books)"
   ]
  },
  {
   "cell_type": "markdown",
   "id": "dfe134ab-fa7a-4713-879a-874a6f4028b6",
   "metadata": {},
   "source": [
    "3.2 배열의 모양 바꾸기"
   ]
  },
  {
   "cell_type": "code",
   "execution_count": null,
   "id": "26bb9858-0d7c-4202-9e45-5d4299f63ba4",
   "metadata": {},
   "outputs": [],
   "source": [
    "# reshape : 배열의 형태를 바꿈\n",
    "# 1차원 배열 -> 2차원 배열 변환\n",
    "# arange(1,10) : 1~9 9개 크기의 1차원 배열\n",
    "# reshape(3, 3) : 3행 3열 짜리 2차원 배열 생성\n",
    "arr = np.arange(1,10).reshape(3, 3)\n",
    "arr\n",
    "\n",
    "# 1부터 8까지 숫자가 담긴 1차원 배열 생성\n",
    "# 2행 4열 크기의 배열로 변환\n",
    "x = np.arange(1,9).reshape(2,4)\n",
    "x"
   ]
  },
  {
   "cell_type": "code",
   "execution_count": null,
   "id": "7b3c6d8e-7577-45a3-8b48-41701e72d1da",
   "metadata": {},
   "outputs": [],
   "source": [
    "# # 3행 3열 배열 생성\n",
    "# a = np.arange(1,10).reshape(3,3)\n",
    "# a\n",
    "\n",
    "# # dot : 행렬 곱셈\n",
    "# np.dot(a, a)"
   ]
  },
  {
   "cell_type": "markdown",
   "id": "ec1da36e-b2a7-4ad0-8898-093dc15a7bdc",
   "metadata": {},
   "source": [
    "3.3 랜덤값 생성"
   ]
  },
  {
   "cell_type": "code",
   "execution_count": null,
   "id": "6365b3c7-d627-44a6-912e-c1d8a49b831b",
   "metadata": {},
   "outputs": [],
   "source": [
    "# random 함수와 비슷\n",
    "# 표준 편차가 1인 표준정규분포에서 난수 생성(범위: -3~3)\n",
    "samples = np.random.standard_normal(10)\n",
    "samples"
   ]
  },
  {
   "cell_type": "code",
   "execution_count": null,
   "id": "894e7604-d9b4-41f4-a431-c043b122c3a6",
   "metadata": {},
   "outputs": [],
   "source": [
    "# 균일 분포 : 0~1 사이에서 구간별로 동일한 확률로 난수 생성\n",
    "arr = np.random.uniform(size=10)\n",
    "print(arr)"
   ]
  },
  {
   "cell_type": "code",
   "execution_count": null,
   "id": "d7952f10-2323-40c1-936a-699e2515093e",
   "metadata": {},
   "outputs": [],
   "source": [
    "# 정수형 랜덤값 만들기\n",
    "# 범위: 1~10\n",
    "# 개수: 10개\n",
    "arr = np.random.randint(1,11, 10)\n",
    "arr"
   ]
  },
  {
   "cell_type": "markdown",
   "id": "93f7fd64-c53b-435e-aecc-b5272392d358",
   "metadata": {},
   "source": [
    "3.4 유니버설 함수  \n",
    "반복문 없이 배열 전체에 계산을 해주는 함수"
   ]
  },
  {
   "cell_type": "code",
   "execution_count": null,
   "id": "01f926d6-ace7-4a8d-8c5f-8bbd11e46f6d",
   "metadata": {},
   "outputs": [],
   "source": [
    "# 0~9 배열 생성\n",
    "arr = np.arange(10)\n",
    "arr\n",
    "\n",
    "# add : 모든 배열 요소에 n만큼 더하기\n",
    "np.add(arr, 1)"
   ]
  },
  {
   "cell_type": "code",
   "execution_count": null,
   "id": "c21a07c5-bbf8-4b3c-8e22-facd14496742",
   "metadata": {},
   "outputs": [],
   "source": [
    "x = np.array([1,3,2,4,5])\n",
    "y = np.array([3,4,5,6,7])\n",
    "\n",
    "# maximum : 두 배열을 비교해서 최대값 구하기\n",
    "np.maximum(x, y)"
   ]
  },
  {
   "cell_type": "markdown",
   "id": "5e3ce792-5d69-4dd8-9c82-bae4fda1313d",
   "metadata": {},
   "source": [
    "3.5 배열을 이용한 프로그래밍"
   ]
  },
  {
   "cell_type": "markdown",
   "id": "39b4ad5d-eb34-41ac-8244-3481056c22d7",
   "metadata": {},
   "source": [
    "조건문"
   ]
  },
  {
   "cell_type": "code",
   "execution_count": null,
   "id": "c7c4d70e-ee2d-4ba4-bc69-7ea90519bbda",
   "metadata": {},
   "outputs": [],
   "source": [
    "# 두개의 배열\n",
    "arr1 = np.array([1, 2, 3])\n",
    "arr2 = np.array([10, 20, 30])\n",
    "# 불리언 배열\n",
    "cond = np.array([True, True, False])"
   ]
  },
  {
   "cell_type": "code",
   "execution_count": null,
   "id": "619c4c43-245f-4749-aa63-9ca9db592154",
   "metadata": {},
   "outputs": [],
   "source": [
    "# 조건문\n",
    "# where(조건, 참일때값, 거짓일때값)\n",
    "# true면 arr1에서 선택하고, false면 arr2에서 선택\n",
    "result = np.where(cond, arr1, arr2)\n",
    "result"
   ]
  },
  {
   "cell_type": "code",
   "execution_count": null,
   "id": "e938f00a-0db9-4e75-8da0-7dc5cefe51ac",
   "metadata": {},
   "outputs": [],
   "source": [
    "arr = np.array([-2,-1,0,1,2])\n",
    "\n",
    "# 불리언 배열 대신 조건식 넣기\n",
    "# 요소가 0보다 크면 'o', 아니면 'x'로 치환\n",
    "np.where(arr > 0, 'o', 'x')"
   ]
  },
  {
   "cell_type": "markdown",
   "id": "888137ed-b919-4fb7-b977-f8409dd7c5d0",
   "metadata": {},
   "source": [
    "통계를 구할 때 자주 사용하는 함수들  \n",
    "(최대 최소 합계 평균)"
   ]
  },
  {
   "cell_type": "code",
   "execution_count": null,
   "id": "1e972066-4469-414b-8385-e5ab034f1d89",
   "metadata": {},
   "outputs": [],
   "source": [
    "arr = np.array([1,2,3,4,5])\n",
    "# 최대값\n",
    "np.max(arr)\n",
    "# 최소값\n",
    "np.min(arr)\n",
    "# 합계\n",
    "np.sum(arr)\n",
    "# 평균\n",
    "np.mean(arr)"
   ]
  },
  {
   "cell_type": "markdown",
   "id": "30ef45ac-ed47-4f99-b106-065669959265",
   "metadata": {},
   "source": [
    "행/열 단위로 합계 구하기"
   ]
  },
  {
   "cell_type": "code",
   "execution_count": null,
   "id": "33710d6f-6af9-4ef2-a7d5-c8d7a3d36546",
   "metadata": {},
   "outputs": [],
   "source": [
    "arr = np.arange(1,10).reshape(3,3)\n",
    "print(arr)\n",
    "# 모든 행의 합계 구하기\n",
    "# axis=0 => 세로 방향으로 계산\n",
    "print(arr.sum(axis=0))\n",
    "# axis=1 => 가로 방향으로 계산 \n",
    "print(arr.sum(axis=1))"
   ]
  },
  {
   "cell_type": "markdown",
   "id": "57200e32-6d81-497d-b6f5-bcaa709c6d4d",
   "metadata": {},
   "source": [
    "누적값 구하기"
   ]
  },
  {
   "cell_type": "code",
   "execution_count": null,
   "id": "ca5e4fc9-0a57-4fb1-9248-98a7b1cf6cb2",
   "metadata": {},
   "outputs": [],
   "source": [
    "# cumsum : 누적값 구하기\n",
    "# 중간 결과값을 볼 수 있음. 누적값을 구하는 과정\n",
    "arr = np.array([1, 2, 3, 4, 5])\n",
    "arr.cumsum()\n",
    "# 0\n",
    "# 0+1 = 1\n",
    "# 0+1+2 = 3\n",
    "# ..."
   ]
  },
  {
   "cell_type": "markdown",
   "id": "50e90aa2-cf4c-412e-a6ac-721050a0ba73",
   "metadata": {},
   "source": [
    "2차원 배열의 누적값 구하기"
   ]
  },
  {
   "cell_type": "code",
   "execution_count": null,
   "id": "4f72bbef-b359-49ae-b33c-cb6731ab81cd",
   "metadata": {},
   "outputs": [],
   "source": [
    "# 3행 3열 크기의 배열 생성\n",
    "arr = np.array([[0, 1, 2], [3, 4, 5], [6, 7, 8]])\n",
    "print(arr)\n",
    "# 세로 방향으로 누적값 구하기 (위->아래)\n",
    "print(arr.cumsum(axis=0))\n",
    "# 가로 방향으로 누적값 구하기 (왼->오)\n",
    "print(arr.cumsum(axis=1))\n",
    "# 앞에 있는 값을 더함"
   ]
  },
  {
   "cell_type": "markdown",
   "id": "3d65b131-1057-4f9d-bbc9-d22a72082ec3",
   "metadata": {},
   "source": [
    "any 함수와 all 함수"
   ]
  },
  {
   "cell_type": "code",
   "execution_count": null,
   "id": "c3dfa0cf-7d27-42d3-8bf1-9376bed7abbd",
   "metadata": {},
   "outputs": [],
   "source": [
    "# 불리언 배열 생성\n",
    "bools = np.array([False, False, True, False])\n",
    "\n",
    "# any : 하나이상의 true가 있는지 검사\n",
    "print(bools.any())\n",
    "\n",
    "# all : 모든 요소가 true인지 검사\n",
    "print(bools.all())"
   ]
  },
  {
   "cell_type": "code",
   "execution_count": null,
   "id": "7ddfa5ba-7421-4a38-8a29-6fe150ecd24c",
   "metadata": {},
   "outputs": [],
   "source": [
    "# 넘파이의 sort함수를 사용\n",
    "# 원본배열은 그대로 두고, 정렬된 새로운 배열을 반환함\n",
    "arr = np.array([1,3,4,2,5])\n",
    "result = np.sort(arr)\n",
    "\n",
    "print('원본 배열:', arr)\n",
    "print('새로운 배열:', result)"
   ]
  }
 ],
 "metadata": {
  "kernelspec": {
   "display_name": "Python 3 (ipykernel)",
   "language": "python",
   "name": "python3"
  },
  "language_info": {
   "codemirror_mode": {
    "name": "ipython",
    "version": 3
   },
   "file_extension": ".py",
   "mimetype": "text/x-python",
   "name": "python",
   "nbconvert_exporter": "python",
   "pygments_lexer": "ipython3",
   "version": "3.10.18"
  }
 },
 "nbformat": 4,
 "nbformat_minor": 5
}
