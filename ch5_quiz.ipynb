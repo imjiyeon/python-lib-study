{
 "cells": [
  {
   "cell_type": "code",
   "execution_count": null,
   "id": "cad0f744-53e8-4de7-a994-93a3af4f80cf",
   "metadata": {},
   "outputs": [],
   "source": [
    "import numpy as np\n",
    "import pandas as pd"
   ]
  },
  {
   "cell_type": "markdown",
   "id": "1195ed07-054a-4ccb-87f7-8ed7d87a8367",
   "metadata": {},
   "source": [
    "CSV 파일 불러오기"
   ]
  },
  {
   "cell_type": "code",
   "execution_count": null,
   "id": "e2a9ccdd-1fd5-43a4-8078-fd1d4c87fb54",
   "metadata": {},
   "outputs": [],
   "source": [
    "# 문제1\n",
    "df = pd.read_csv(\"quiz/products.csv\", encoding=\"utf-8\")\n",
    "df\n",
    "# 인덱스를 상품명으로 변경\n",
    "df = df.set_index(\"상품명\")\n",
    "# 모든 상품명 출력\n",
    "df.index\n",
    "# 사과의 가격 출력\n",
    "df.loc[\"사과\", \"가격\"]\n",
    "# 바나나의 재고 출력\n",
    "df.loc[\"바나나\", \"재고\"]\n",
    "# 포도의 가격을 4500으로 수정\n",
    "df.loc[\"포도\", \"가격\"] = 4500\n",
    "# 딸기의 재고를 10으로 수정\n",
    "df.loc[\"딸기\", \"재고\"] = 10"
   ]
  },
  {
   "cell_type": "code",
   "execution_count": null,
   "id": "1700fc98-564e-4658-93d1-2f37bee7e677",
   "metadata": {},
   "outputs": [],
   "source": [
    "# 문제2\n",
    "df = pd.read_csv('quiz/sales.csv', encoding=\"euc-kr\")\n",
    "# 인덱스 설정\n",
    "df = df.set_index('month')\n",
    "# sales 컬럼 전체 출력\n",
    "df[\"sales\"]\n",
    "# 2월의 모든 데이터를 출력\n",
    "df.loc[\"2월\"]\n",
    "# 이윤의 합계과 평균\n",
    "df[\"profit\"].sum()\n",
    "df[\"profit\"].mean()\n",
    "# profit이 300 이상인 행만 출력\n",
    "df[df[\"profit\"] >= 300]"
   ]
  },
  {
   "cell_type": "code",
   "execution_count": null,
   "id": "457b8c13-d32b-447c-a65d-79d295056123",
   "metadata": {},
   "outputs": [],
   "source": [
    "# 문제3\n",
    "df = pd.read_csv(\"quiz/weather.csv\", encoding=\"euc-kr\")\n",
    "# 각 도시의 봄 기온을 모두 출력\n",
    "df[\"spring\"]\n",
    "# 서울의 모든 데이터를 출력\n",
    "df.iloc[0]\n",
    "# 겨울의 평균 기온 구하기\n",
    "df[\"winter\"].mean()\n",
    "# 여름 기온이 28도 이상인 도시만 출력\n",
    "df[df[\"summer\"] >= 28]"
   ]
  },
  {
   "cell_type": "markdown",
   "id": "75e4005e-1c5f-4a49-8d28-89da68282ca0",
   "metadata": {},
   "source": [
    "JSON 파일 불러오기"
   ]
  },
  {
   "cell_type": "code",
   "execution_count": null,
   "id": "5f55c74f-17f0-4f58-9bf6-6009363ccb04",
   "metadata": {},
   "outputs": [],
   "source": [
    "# 문제1\n",
    "df = pd.read_json(\"quiz/products.json\")\n",
    "df = df.set_index(\"상품명\")\n",
    "\n",
    "# 모든 상품명 출력\n",
    "df.index\n",
    "\n",
    "# 가격이 3000원 이상인 상품 출력\n",
    "df[df['가격'] >= 3000]\n",
    "\n",
    "# 평균 가격\n",
    "int(df['가격'].mean())  # 정수로 출력\n",
    "\n",
    "# 새로운 컬럼 '총액' 추가 (가격 * 재고)\n",
    "df['총액'] = df['가격'] * df['재고']\n",
    "df\n",
    "\n",
    "# 딸기의 가격을 6000으로 수정\n",
    "df.loc['딸기', '가격'] = 6000\n",
    "df\n",
    "\n",
    "# 재고 컬럼 삭제\n",
    "df = df.drop(columns=['재고'])\n",
    "df"
   ]
  },
  {
   "cell_type": "code",
   "execution_count": null,
   "id": "78f34ede-c81d-4719-948c-203f2c94cad9",
   "metadata": {},
   "outputs": [],
   "source": [
    "# 문제2\n",
    "df = pd.read_json(\"quiz/books.json\")\n",
    "df = df.set_index(\"제목\")\n",
    "# 가격이 20000원 이상인 책\n",
    "df[df['가격'] >= 20000]\n",
    "# 대출가능권수가 2권 이하인 책\n",
    "df[df['대출가능권수'] <= 2]\n",
    "# 가격이 비싼 순으로 정렬\n",
    "df.sort_values('가격', ascending=False)\n",
    "# 대출가능권수가 많은 순으로 정렬\n",
    "df.sort_values('대출가능권수', ascending=False)\n",
    "# 전체 평균 가격\n",
    "int(df['가격'].mean())  # 정수로 출력"
   ]
  },
  {
   "cell_type": "markdown",
   "id": "fc601275-a710-4be0-be91-392741dfe01b",
   "metadata": {},
   "source": [
    "공공데이터 활용하기1 (정류장)"
   ]
  },
  {
   "cell_type": "code",
   "execution_count": null,
   "id": "3afaf50c-dae8-41ce-a6c5-199b54c770ec",
   "metadata": {},
   "outputs": [],
   "source": [
    "df = pd.read_csv(\"quiz/인천광역시_정류장별 이용승객 현황_20250731.csv\", encoding=\"euc-kr\")\n",
    "df"
   ]
  },
  {
   "cell_type": "code",
   "execution_count": null,
   "id": "4d0bf459-dc67-4a4b-aca1-6bd32226c92d",
   "metadata": {},
   "outputs": [],
   "source": [
    "# 총승차건수 10만 이상\n",
    "df[df[\"총승차건수\"] >= 100000]\n",
    "\n",
    "# 총하차건수 0건\n",
    "df[df[\"총하차건수\"] == 0]\n",
    "\n",
    "# 현금승차건수가 100건 이상인 정류장\n",
    "df[df[\"승차건수(현금)\"] >= 100]\n",
    "\n",
    "# 현금승차건수가 카드승차건수보다 많은 정류장\n",
    "df[df[\"승차건수(현금)\"] > df[\"승차건수(카드)\"]]"
   ]
  },
  {
   "cell_type": "markdown",
   "id": "8756dacb-4ede-4621-86db-63d4dfa0c848",
   "metadata": {},
   "source": [
    "공공데이터 활용하기2 (주차장)"
   ]
  },
  {
   "cell_type": "code",
   "execution_count": null,
   "id": "fb71ceff-4b56-457f-a387-08737617680f",
   "metadata": {},
   "outputs": [],
   "source": [
    "df = pd.read_csv(\"quiz/인천광역시 중구_공영주차장 현황_20250601.csv\", encoding=\"utf-8\")\n",
    "df"
   ]
  },
  {
   "cell_type": "code",
   "execution_count": null,
   "id": "1781b461-f159-4ac9-9da5-a5956ce8c0d2",
   "metadata": {},
   "outputs": [],
   "source": [
    "# 주차구획수가 100대 이상인 주차장\n",
    "df[df[\"주차구획수\"] >= 100]\n",
    "\n",
    "# 평일 종료 시간이 '21:00'인 주차장\n",
    "df[df[\"평일운영종료시각\"] == \"21:00\"]\n",
    "\n",
    "# 요금정보가 '무료'인 주차장\n",
    "df[df[\"요금정보\"] == \"무료\"]\n",
    "\n",
    "# 모든 주차장의 총 주차구획수와 평균\n",
    "df[\"주차구획수\"].sum()\n",
    "df[\"주차구획수\"].mean()"
   ]
  }
 ],
 "metadata": {
  "kernelspec": {
   "display_name": "Python 3 (ipykernel)",
   "language": "python",
   "name": "python3"
  },
  "language_info": {
   "codemirror_mode": {
    "name": "ipython",
    "version": 3
   },
   "file_extension": ".py",
   "mimetype": "text/x-python",
   "name": "python",
   "nbconvert_exporter": "python",
   "pygments_lexer": "ipython3",
   "version": "3.10.18"
  }
 },
 "nbformat": 4,
 "nbformat_minor": 5
}
