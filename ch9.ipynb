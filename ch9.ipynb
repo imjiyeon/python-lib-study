{
 "cells": [
  {
   "cell_type": "markdown",
   "id": "c82430f3-1c60-4e32-a9ea-ad1d8c251933",
   "metadata": {},
   "source": [
    "### 인천 초중등 학교 지도 그리기"
   ]
  },
  {
   "cell_type": "markdown",
   "id": "77bf07df-4bd0-44cd-ab33-bae77ad34b66",
   "metadata": {},
   "source": [
    "필요한 모듈 불러오기"
   ]
  },
  {
   "cell_type": "code",
   "execution_count": null,
   "id": "f0b51581-4ec1-4bf2-a9c4-9496b37e2925",
   "metadata": {},
   "outputs": [],
   "source": [
    "import pandas as pd\n",
    "import folium"
   ]
  },
  {
   "cell_type": "markdown",
   "id": "fded98f6-b1b1-4d33-9200-ac3b078a8207",
   "metadata": {},
   "source": [
    "전국 초중등학교 위치 데이터 불러오기"
   ]
  },
  {
   "cell_type": "code",
   "execution_count": null,
   "id": "64876485-53ea-42bd-81fa-f4264b569d8a",
   "metadata": {},
   "outputs": [],
   "source": [
    "data = pd.read_csv('전국초중등학교위치표준데이터.csv', encoding='euc-kr')\n",
    "data"
   ]
  },
  {
   "cell_type": "markdown",
   "id": "a190c2d8-9557-4b81-82a2-fb358655ca98",
   "metadata": {},
   "source": [
    "인천에 있는 학교만 보기"
   ]
  },
  {
   "cell_type": "code",
   "execution_count": null,
   "id": "ab949021-7a57-44a6-bc2c-7a4ddc9dbec0",
   "metadata": {},
   "outputs": [],
   "source": [
    "# 필요한 컬럼만 선택\n",
    "df = data[['학교명', '시도교육청명', '학교급구분', '위도', '경도']]\n",
    "# 다시 인천만 필터링\n",
    "selected = df[df['시도교육청명'] == '인천광역시교육청']\n",
    "selected"
   ]
  },
  {
   "cell_type": "markdown",
   "id": "ce75bc2d-c325-4042-b6d5-93164187df38",
   "metadata": {},
   "source": [
    "지도 만들기"
   ]
  },
  {
   "cell_type": "code",
   "execution_count": null,
   "id": "d937ccc5-cc99-4817-8847-9ecd52592b92",
   "metadata": {},
   "outputs": [],
   "source": [
    "# 기본 지도 생성\n",
    "# location: 지도위에 중심 위치 (경도, 위도)\n",
    "# zoom_start: 값이 작을수록 확대됨\n",
    "map = folium.Map(location=[37.4563, 126.7052], zoom_start=20)"
   ]
  },
  {
   "cell_type": "markdown",
   "id": "e1e13213-b32e-495e-aa53-13421aacdb8f",
   "metadata": {},
   "source": [
    "지도 위에 마커 그리기"
   ]
  },
  {
   "cell_type": "code",
   "execution_count": null,
   "id": "7f888c03-3e80-4b32-b5c4-a41ad7ec0e62",
   "metadata": {},
   "outputs": [],
   "source": [
    "# 마커를 만들고 지도에 추가\n",
    "# 위치, 마우스 올리면 보이는 툴팁\n",
    "# 샘플로 사용할 위치는 구글 지도에서 가져오기 \n",
    "folium.Marker([37.5665, 126.9780], tooltip='학교').add_to(map)"
   ]
  },
  {
   "cell_type": "markdown",
   "id": "83072317-d258-403f-8bfc-2e04d80e7394",
   "metadata": {},
   "source": [
    "학교 위치를 마커로 추가하기"
   ]
  },
  {
   "cell_type": "code",
   "execution_count": null,
   "id": "401d2ef7-1ff4-45e9-8f54-cd7842fdae8d",
   "metadata": {},
   "outputs": [],
   "source": [
    "for i in selected.index:\n",
    "    name = selected.loc[i, '학교명']\n",
    "    lat = selected.loc[i, '위도']\n",
    "    lon = selected.loc[i, '경도']\n",
    "    marker = folium.Marker([lat,lon], popup=name).add_to(map)"
   ]
  },
  {
   "cell_type": "markdown",
   "id": "6bf3f3b0-9435-43d5-b779-c26f390936c0",
   "metadata": {},
   "source": [
    "초중고 마커 색 구분하기"
   ]
  },
  {
   "cell_type": "code",
   "execution_count": null,
   "id": "3265b6b4-e917-47f0-b47d-6462971242ba",
   "metadata": {},
   "outputs": [],
   "source": [
    "# 초중고 마커 색 구분\n",
    "for i in selected.index:\n",
    "    name = selected.loc[i, '학교명']\n",
    "    lat = selected.loc[i, '위도']\n",
    "    lon = selected.loc[i, '경도']\n",
    "    marker = folium.Marker([lat,lon], popup=name).add_to(map)\n",
    "    if selected['학교급구분'][i] == '초등학교':\n",
    "        code_color = 'orange'\n",
    "    elif selected['학교급구분'][i] == '중학교':\n",
    "        code_color = 'green'\n",
    "    elif selected['학교급구분'][i] == '고등학교':\n",
    "        code_color = 'blue'\n",
    "    marker = folium.Marker([lat,lon], popup=name, icon=folium.Icon(color=code_color)).add_to(map)"
   ]
  },
  {
   "cell_type": "code",
   "execution_count": null,
   "id": "0be8af3d-7468-489b-a85b-605db363bb33",
   "metadata": {},
   "outputs": [],
   "source": [
    "map"
   ]
  }
 ],
 "metadata": {
  "kernelspec": {
   "display_name": "Python 3 (ipykernel)",
   "language": "python",
   "name": "python3"
  },
  "language_info": {
   "codemirror_mode": {
    "name": "ipython",
    "version": 3
   },
   "file_extension": ".py",
   "mimetype": "text/x-python",
   "name": "python",
   "nbconvert_exporter": "python",
   "pygments_lexer": "ipython3",
   "version": "3.10.18"
  }
 },
 "nbformat": 4,
 "nbformat_minor": 5
}
