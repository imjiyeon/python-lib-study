{
 "cells": [
  {
   "cell_type": "code",
   "execution_count": null,
   "id": "f0b51581-4ec1-4bf2-a9c4-9496b37e2925",
   "metadata": {},
   "outputs": [],
   "source": [
    "import pandas as pd\n",
    "import folium"
   ]
  },
  {
   "cell_type": "code",
   "execution_count": null,
   "id": "64876485-53ea-42bd-81fa-f4264b569d8a",
   "metadata": {},
   "outputs": [],
   "source": [
    "data = pd.read_csv('전국초중등학교위치표준데이터.csv', encoding='euc-kr')\n",
    "data"
   ]
  },
  {
   "cell_type": "code",
   "execution_count": null,
   "id": "ab949021-7a57-44a6-bc2c-7a4ddc9dbec0",
   "metadata": {},
   "outputs": [],
   "source": [
    "df = data[['학교명', '시도교육청명', '학교급구분', '위도', '경도']]\n",
    "# 인천만 선택\n",
    "selected = df[df['시도교육청명'] == '인천광역시교육청']\n",
    "selected"
   ]
  },
  {
   "cell_type": "code",
   "execution_count": null,
   "id": "d937ccc5-cc99-4817-8847-9ecd52592b92",
   "metadata": {},
   "outputs": [],
   "source": [
    "# 기본 지도 생성\n",
    "map = folium.Map(location=[37.4563, 126.7052], zoom_start=12)"
   ]
  },
  {
   "cell_type": "code",
   "execution_count": null,
   "id": "7f888c03-3e80-4b32-b5c4-a41ad7ec0e62",
   "metadata": {},
   "outputs": [],
   "source": [
    "# 마커 추가\n",
    "# folium.Marker([37.5665, 126.9780], tooltip='학교').add_to(map)\n",
    "for i in selected.index:\n",
    "    name = selected.loc[i, '학교명']\n",
    "    lat = selected.loc[i, '위도']\n",
    "    lon = selected.loc[i, '경도']\n",
    "    marker = folium.Marker([lat,lon], popup=name).add_to(map)"
   ]
  },
  {
   "cell_type": "code",
   "execution_count": null,
   "id": "3265b6b4-e917-47f0-b47d-6462971242ba",
   "metadata": {},
   "outputs": [],
   "source": [
    "# 초중고 마커 색 구분\n",
    "for i in selected.index:\n",
    "    name = selected.loc[i, '학교명']\n",
    "    lat = selected.loc[i, '위도']\n",
    "    lon = selected.loc[i, '경도']\n",
    "    marker = folium.Marker([lat,lon], popup=name).add_to(map)\n",
    "    if selected['학교급구분'][i] == '초등학교':\n",
    "        code_color = 'orange'\n",
    "    elif selected['학교급구분'][i] == '중학교':\n",
    "        code_color = 'green'\n",
    "    elif selected['학교급구분'][i] == '고등학교':\n",
    "        code_color = 'blue'\n",
    "    marker = folium.Marker([lat,lon], popup=name, icon=folium.Icon(color=code_color)).add_to(map)"
   ]
  },
  {
   "cell_type": "code",
   "execution_count": null,
   "id": "0be8af3d-7468-489b-a85b-605db363bb33",
   "metadata": {},
   "outputs": [],
   "source": [
    "map"
   ]
  }
 ],
 "metadata": {
  "kernelspec": {
   "display_name": "Python 3 (ipykernel)",
   "language": "python",
   "name": "python3"
  },
  "language_info": {
   "codemirror_mode": {
    "name": "ipython",
    "version": 3
   },
   "file_extension": ".py",
   "mimetype": "text/x-python",
   "name": "python",
   "nbconvert_exporter": "python",
   "pygments_lexer": "ipython3",
   "version": "3.10.18"
  }
 },
 "nbformat": 4,
 "nbformat_minor": 5
}
