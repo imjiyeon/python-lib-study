{
 "cells": [
  {
   "cell_type": "markdown",
   "id": "afe7aea8-111b-4fc1-bb8b-d1a90e52afd0",
   "metadata": {},
   "source": [
    "### 8.맷플롯립 (Matplotlib)\n",
    "데이터 시각화를 위해 사용되는 모듈로, 그래프와 차트를 그릴때 활용함"
   ]
  },
  {
   "cell_type": "markdown",
   "id": "f8789917-30e8-411a-9ce4-1c054a956b0d",
   "metadata": {},
   "source": [
    "모듈 가져오기"
   ]
  },
  {
   "cell_type": "code",
   "execution_count": null,
   "id": "0b004c7d-a66d-4473-ac36-9537e1969021",
   "metadata": {},
   "outputs": [],
   "source": [
    "import numpy as np\n",
    "# Matplotlib : 데이터 시각화를 위한 여러 모듈로 구성됨\n",
    "# matplotlib.pyplot : 그 중 그래프를 제공하는 모듈\n",
    "import matplotlib.pyplot as plt"
   ]
  },
  {
   "cell_type": "markdown",
   "id": "7dd94e13-1de7-44b9-8404-fd82a29a18dd",
   "metadata": {},
   "source": [
    "한글 설정  \n",
    "<small>주피터 노트북에서 그래프를 그리면 한글이 깨져서 설정이 필요함</small>"
   ]
  },
  {
   "cell_type": "code",
   "execution_count": null,
   "id": "ebca0d70-be87-4a2c-b110-fa77c473935c",
   "metadata": {},
   "outputs": [],
   "source": [
    "from matplotlib import rc\n",
    "rc('font', family='Malgun Gothic')"
   ]
  },
  {
   "cell_type": "markdown",
   "id": "a3883a76-3485-42c6-b770-14270323378e",
   "metadata": {},
   "source": [
    "#### 8.1 그래프 그리기"
   ]
  },
  {
   "cell_type": "markdown",
   "id": "5ea63813-2d57-40f9-a2cb-b0d815e5a167",
   "metadata": {},
   "source": [
    "선 그래프"
   ]
  },
  {
   "cell_type": "code",
   "execution_count": null,
   "id": "9b6a3c5d-835e-4847-aceb-4b5b3202c45c",
   "metadata": {},
   "outputs": [],
   "source": [
    "# 1~10 숫자를 담은 배열 생성\n",
    "a = np.arange(1,11)\n",
    "a\n",
    "# 선 그래프 그리기\n",
    "# x축: 자동으로 설정됨\n",
    "# y축: 숫자 리스트\n",
    "plt.plot(a)"
   ]
  },
  {
   "cell_type": "code",
   "execution_count": null,
   "id": "ddb83801-351e-4c53-b677-8a599c421cbc",
   "metadata": {},
   "outputs": [],
   "source": [
    "a = ['1반', '2반', '3반', '4반']\n",
    "b = [80, 90, 85, 95]\n",
    "# x축: 반\n",
    "# y축: 시험 점수\n",
    "plt.plot(a, b)"
   ]
  },
  {
   "cell_type": "markdown",
   "id": "bd83a6ba-195a-4577-a6a4-fe3256b14cca",
   "metadata": {},
   "source": [
    "막대 그래프"
   ]
  },
  {
   "cell_type": "code",
   "execution_count": null,
   "id": "d00e36b0-6c2d-4ab5-8643-7cf1890d7d48",
   "metadata": {},
   "outputs": [],
   "source": [
    "# 학급별 성적 데이터\n",
    "a = ['1반', '2반', '3반', '4반']\n",
    "b = [80, 90, 85, 95]\n",
    "# 막대 그래프 그리기\n",
    "# x축: 반\n",
    "# y축: 시험 점수\n",
    "plt.bar(a, b)"
   ]
  },
  {
   "cell_type": "markdown",
   "id": "a9f265bc-c4eb-4fe9-9353-1e0bc0f93d89",
   "metadata": {},
   "source": [
    "산전도 그래프"
   ]
  },
  {
   "cell_type": "code",
   "execution_count": null,
   "id": "2938d413-cf44-4c12-ad17-22bee41b0f2a",
   "metadata": {},
   "outputs": [],
   "source": [
    "x = [30, 25, 10, 50, 25]\n",
    "y = [9, 3, 10, 6, 2]\n",
    "# x와 y를 점으로 찍기\n",
    "plt.scatter(x, y)"
   ]
  },
  {
   "cell_type": "markdown",
   "id": "adc1744e-bd16-41a5-a369-fe17544bbd83",
   "metadata": {},
   "source": [
    "히스토그램  \n",
    "<small>데이터를 구간별로 나누어서 그래프로 나타낸 것</small>"
   ]
  },
  {
   "cell_type": "code",
   "execution_count": null,
   "id": "cb557a85-e9e5-4e7d-9040-87a6ff3ed7bb",
   "metadata": {},
   "outputs": [],
   "source": [
    "# 시험 점수 100개 만들기\n",
    "# 평균 70점 표준편차 10점\n",
    "# 대부분의 점수는 60~80점 사이에 분포\n",
    "scores = np.random.normal(70,10,100)\n",
    "# 히스토그램 그리기\n",
    "plt.hist(scores, bins=10) # 구간을 10개로 나눔\n",
    "plt.title('시험 점수 분포') # 그래프 제목\n",
    "plt.xlabel('점수 구간') # x축 이름\n",
    "plt.ylabel('학생 수') # y축 이름"
   ]
  },
  {
   "cell_type": "markdown",
   "id": "415c593e-271a-43a7-ae16-b075bcd76c94",
   "metadata": {},
   "source": [
    "#### 8.2 여러 그래프 그리기"
   ]
  },
  {
   "cell_type": "markdown",
   "id": "6231b61d-e997-4ec3-a10a-bdf00ce4fb6b",
   "metadata": {},
   "source": [
    "figure(피겨) : 도화지(캔버스)  \n",
    "axes(엑시스) : 도화지 위에 그리는 그래프  \n",
    "plot() / bar() / scatter() : 그래프 안에 그림(선, 막대, 점)을 그리는 도구  \n",
    "\n",
    "figure는 언제 쓸까?  \n",
    "도화지 하나에 여러개의 그래프를 그릴 때  \n",
    "도화지 사이즈 설정할 때"
   ]
  },
  {
   "cell_type": "code",
   "execution_count": null,
   "id": "f17c9a45-d646-4e2f-8e2f-752da09f253b",
   "metadata": {},
   "outputs": [],
   "source": [
    "# figure을 안써도 plot 함수를 사용하면 자동으로 figure(도화지)가 생성됨\n",
    "plt.plot(np.arange(1,11))"
   ]
  },
  {
   "cell_type": "markdown",
   "id": "61104e86-71e8-42b7-9189-d18779b1d11a",
   "metadata": {},
   "source": [
    "작은 사이즈로 도화지 그리기"
   ]
  },
  {
   "cell_type": "code",
   "execution_count": null,
   "id": "f870d83b-ba3e-419d-93df-57d6ab245742",
   "metadata": {},
   "outputs": [],
   "source": [
    "# 가로 3인치 × 세로 3인치 크기의 도화지 그리기\n",
    "plt.figure(figsize=(3,3))\n",
    "plt.plot(np.arange(1,11))"
   ]
  },
  {
   "cell_type": "markdown",
   "id": "a7a6947b-d831-4b34-ac32-597ffe2b5f4a",
   "metadata": {},
   "source": [
    "여러 그래프 그리기  \n",
    "<small>gig와 axs 수동으로 만들기</small>"
   ]
  },
  {
   "cell_type": "code",
   "execution_count": null,
   "id": "101205fa-8dfb-483b-86d3-c5c73c8c2db6",
   "metadata": {},
   "outputs": [],
   "source": [
    "# figure 생성\n",
    "fig = plt.figure(figsize=(10,3))\n",
    "\n",
    "# 그래프 영역 나누기\n",
    "# 왼쪽 칸 (1행 2열 중 1번째)\n",
    "ax1 = fig.add_subplot(1,2,1)  \n",
    "# 오른쪽 칸 (1행 2열 중 2번째)\n",
    "ax2 = fig.add_subplot(1,2,2)  \n",
    "\n",
    "# # 5명 학생의 시험 점수\n",
    "# students = [1,2,3,4,5] # 학생 번호\n",
    "# scores = [80, 90, 70, 85, 95] # 점수\n",
    "\n",
    "# # 첫번째 그래프\n",
    "# ax1.plot(scores)\n",
    "# # 두번째 그래프\n",
    "# ax2.bar(students, scores)"
   ]
  },
  {
   "cell_type": "markdown",
   "id": "78e02775-7356-41e6-909d-2d7021c6de87",
   "metadata": {},
   "source": [
    "여러 그래프 그리기2  \n",
    "<small>fig와 axs 쉽게 만들기</small>"
   ]
  },
  {
   "cell_type": "code",
   "execution_count": null,
   "id": "03e8bd3c-d165-49e1-ad65-027f01d2f33d",
   "metadata": {},
   "outputs": [],
   "source": [
    "# figure 생성 + 1행 2열로 그래프 영역 나누기\n",
    "fig, axs = plt.subplots(1, 2, figsize=(10,3))\n",
    "\n",
    "# 5명 학생의 시험 점수\n",
    "students = [1,2,3,4,5]   # 학생 번호\n",
    "scores = [80, 90, 70, 85, 95]  # 점수\n",
    "\n",
    "# 첫번째 그래프 그리기\n",
    "axs[0].plot(scores)\n",
    "\n",
    "# 두번째 그래프 그리기\n",
    "axs[1].bar(students, scores)\n",
    "\n",
    "# 서브플롯에 텍스트 추가\n",
    "axs[1].text(2, 90, \"제일 높은 점수!\", color=\"red\", ha=\"center\", va=\"bottom\")"
   ]
  },
  {
   "cell_type": "markdown",
   "id": "91bf62f0-dd9f-4259-a28c-a4b7366b176d",
   "metadata": {},
   "source": [
    "#### 8.3 그래프 꾸미기"
   ]
  },
  {
   "cell_type": "markdown",
   "id": "3741a07f-d1ce-491d-a6df-5c31174c2aa5",
   "metadata": {},
   "source": [
    "색상과 선스타일"
   ]
  },
  {
   "cell_type": "code",
   "execution_count": null,
   "id": "71997bc1-d37b-4b62-bdfd-a01ba0e15769",
   "metadata": {},
   "outputs": [],
   "source": [
    "# 시험성적 데이터\n",
    "x = ['1반','2반','3반','4반'] #반\n",
    "y = [80,90,85,100] #시험점수\n",
    "\n",
    "# 선 그래프 그리기\n",
    "# plt.plot(y) #y만 입력. x는 자동으로 생성됨\n",
    "# plt.plot(x, y) \n",
    "# plt.plot(x, y, [색상], [선스타일])\n",
    "\n",
    "# 색상과 선스타일을 선택하여 그래프 그리기\n",
    "plt.plot(x, y, color='red', linestyle='-') #빨간 실선\n",
    "plt.plot(x, y, color='blue', linestyle='--') #파란 긴 점선\n",
    "plt.plot(x, y, color='gray', linestyle=':') #회색 점선"
   ]
  },
  {
   "cell_type": "markdown",
   "id": "9fc4ec97-f628-420e-b6d2-bd5e1f2cd72b",
   "metadata": {},
   "source": [
    "마커 꾸미기"
   ]
  },
  {
   "cell_type": "code",
   "execution_count": null,
   "id": "90326aa3-821d-4d71-b57e-7b5495704652",
   "metadata": {},
   "outputs": [],
   "source": [
    "# 시험성적 데이터\n",
    "x = ['1반','2반','3반','4반'] #반\n",
    "y = [80,90,85,100] #시험점수\n",
    "\n",
    "# plt.plot(x, y, marker='o') #원형 모양 마커\n",
    "# plt.plot(x, y, marker='^') #세모 모양 마커\n",
    "# plt.plot(x, y marker='*') #별 모양 마커\n",
    "plt.plot(x, y, marker='s') #네모 모양 마커"
   ]
  },
  {
   "cell_type": "markdown",
   "id": "95eeaa16-5535-4abf-b68b-737d28ea4053",
   "metadata": {},
   "source": [
    "그래프에 텍스트 출력하기  \n",
    "<small>\n",
    "ha (horizontalalignment): 가로 정렬  \n",
    "left(왼쪽) center(가운데) right(오른쪽)  \n",
    "va (verticalalignment): 세로 정렬  \n",
    "top(위쪽) center(가운데) bottom(아래쪽)\n",
    "</small>"
   ]
  },
  {
   "cell_type": "code",
   "execution_count": null,
   "id": "2597ac10-9aed-4507-a84b-77b9d0b15cf9",
   "metadata": {},
   "outputs": [],
   "source": [
    "# 요일별 마신 커피 수\n",
    "x = [\"월\", \"화\", \"수\", \"목\", \"금\"]\n",
    "y = [1, 2, 0, 3, 2]\n",
    "\n",
    "# 막대 그래프 그리기\n",
    "plt.bar(x, y, color='skyblue')\n",
    "\n",
    "# 제일 커피를 마신날 표시하기\n",
    "# 위치(x y), 텍스트, 색\n",
    "plt.text(\"목\", 3, \"제일 많이 마신 날\", color='red') # 막대와 텍스트가 겹침\n",
    "\n",
    "# 텍스트의 위치를 변경\n",
    "# ha='center' -> 가운데 정렬\n",
    "# va='bottom' -> 막대 위에 표시. 텍스트 아래 부분을 막대 끝에 붙이겠다는 의미\n",
    "plt.text(\"목\", 3, \"제일 많이 마신 날\", color='red', ha='center', va='bottom')\n",
    "# va='top' -> 텍스트 위 부분을 막대 끝에 붙이겠다는 의미\n",
    "plt.text(\"목\", 3, \"제일 많이 마신 날\", color='red', ha='center', va='top')"
   ]
  },
  {
   "cell_type": "markdown",
   "id": "d71d9095-a264-4252-b0f6-b0813d46810a",
   "metadata": {},
   "source": [
    "#### 8.4 시본으로 그래프 그리기\n",
    "- lineplot: 선 그래프\n",
    "- barplot: 막대 그래프\n",
    "- scatterplot: 산점도\n",
    "- histplot: 히스토그램"
   ]
  },
  {
   "cell_type": "markdown",
   "id": "048d1f9b-a680-4e2e-85e4-679bc100da9b",
   "metadata": {},
   "source": [
    "준비"
   ]
  },
  {
   "cell_type": "code",
   "execution_count": null,
   "id": "f2b129f7-8e22-451a-83b5-4cabcc0fe775",
   "metadata": {},
   "outputs": [],
   "source": [
    "import pandas as pd\n",
    "import seaborn as sns # 모듈 불러오기\n",
    "sns.set_theme(font=\"Malgun Gothic\") # 한글 깨짐 방지"
   ]
  },
  {
   "cell_type": "code",
   "execution_count": null,
   "id": "a759a159-6f4d-4282-9da4-a30401a31b8a",
   "metadata": {},
   "outputs": [],
   "source": [
    "# 시험 점수 데이터를 데이터 프레임에 저장\n",
    "df = pd.DataFrame({ '이름':['영희','철수','민수','지연'], \n",
    "                    '점수':[85,90,80,100], \n",
    "                    '반':['1반','1반','2반','2반'] })\n",
    "df"
   ]
  },
  {
   "cell_type": "markdown",
   "id": "a72cc0d3-2a3f-4375-a509-14bbd7d9ee2e",
   "metadata": {},
   "source": [
    "선 그래프"
   ]
  },
  {
   "cell_type": "code",
   "execution_count": null,
   "id": "f71c7499-53e5-4efe-a624-8f5aa32bb0ea",
   "metadata": {},
   "outputs": [],
   "source": [
    "# 데이터를 데이터프레임으로 입력\n",
    "# sns.lineplot(데이터, x축라벨, y축라벨)\n",
    "# x축: '이름' 컬럼\n",
    "# y축: '점수' 컬럼\n",
    "# 데이터 프레임에 열이 많아도, 그래프에는 선택한 컬럼만 표시됨\n",
    "sns.lineplot(data=df, x=\"이름\", y=\"점수\")\n",
    "\n",
    "# 그래프 제목\n",
    "plt.title(\"학생별 점수\")"
   ]
  },
  {
   "cell_type": "markdown",
   "id": "0b38dd5c-e4c0-4dd0-9f9b-083007ea0657",
   "metadata": {},
   "source": [
    "막대 그래프"
   ]
  },
  {
   "cell_type": "code",
   "execution_count": null,
   "id": "9666ea14-f45d-49e2-b690-a24d2a9aefc5",
   "metadata": {},
   "outputs": [],
   "source": [
    "# 막대 그래프 그리기\n",
    "sns.barplot(data=df, x=\"이름\", y=\"점수\")\n",
    "# 그래프 제목\n",
    "plt.title(\"학생별 점수\")"
   ]
  },
  {
   "cell_type": "markdown",
   "id": "d8e85d28-a9e2-45f0-ab3f-0bdd7255cd85",
   "metadata": {},
   "source": [
    "산점도"
   ]
  },
  {
   "cell_type": "code",
   "execution_count": null,
   "id": "25b2ac46-6a06-43a6-81fd-4a4e884f3630",
   "metadata": {},
   "outputs": [],
   "source": [
    "# 산점도 그리기\n",
    "sns.scatterplot(data=df, x=\"이름\", y=\"점수\")\n",
    "# 그래프 제목\n",
    "plt.title(\"학생별 점수\")"
   ]
  },
  {
   "cell_type": "markdown",
   "id": "6f6c0461-0807-4309-a60c-241c49d39ebc",
   "metadata": {},
   "source": [
    "히스토그램"
   ]
  },
  {
   "cell_type": "code",
   "execution_count": null,
   "id": "c156d4fc-3e16-4782-bc21-f18ed97d37ae",
   "metadata": {},
   "outputs": [],
   "source": [
    "# 시험 점수 100개 만들기\n",
    "scores = np.random.randint(50,101,100)\n",
    "df = pd.DataFrame( { '점수':scores } )\n",
    "\n",
    "# 구간을 10개로 나눔\n",
    "# 히스토그램은 y축을 빈도수로 자동계산해줌 \n",
    "sns.histplot(data=df, x=\"점수\", bins=5)\n",
    "\n",
    "# x축 라벨\n",
    "plt.xlabel(\"시험 점수\")\n",
    "# y축 라벨\n",
    "plt.ylabel(\"학생 수\")"
   ]
  },
  {
   "cell_type": "markdown",
   "id": "6f5e3b3f-76cc-4c67-a75f-9c73be0dbb99",
   "metadata": {},
   "source": [
    "#### 8.5 시본으로 여러 그래프 그리기"
   ]
  },
  {
   "cell_type": "markdown",
   "id": "07d36c28-a621-48ae-8b61-048cd3093753",
   "metadata": {},
   "source": [
    "서브 플롯은 하나의 figure 안에 여러개의 axes를 배치하는 기능이다.\n",
    "- figure: 도화지\n",
    "- axes: 그래프가 그려지는 영역 (서브플롯이라고도 부름)"
   ]
  },
  {
   "cell_type": "code",
   "execution_count": null,
   "id": "7a9bfb17-2c46-4df5-a4d3-4bc369f10faa",
   "metadata": {},
   "outputs": [],
   "source": [
    "# 캔버스를 1행 2열로 나누기\n",
    "# 캔버스 크기는 가로 10인치 세로3인치\n",
    "# 피겨와 엑시스가 한번에 생성됨\n",
    "# 엑시스는 2개 크기의 배열로 반환됨\n",
    "fig, axs = plt.subplots(1, 2, figsize=(10, 3))\n",
    "\n",
    "# 첫번째 서브플롯에 막대 그래프 그리기\n",
    "# 어느 서브플롯에 들어갈지 지정\n",
    "sns.barplot(data=df, x=\"이름\", y=\"점수\", ax=axs[0])\n",
    "axs[0].set_title(\"막대 그래프\")\n",
    "\n",
    "# 두번째 서브플롯에 선 그래프 그리기\n",
    "sns.lineplot(data=df, x=\"이름\", y=\"점수\", ax=axs[1])\n",
    "axs[1].set_title(\"선 그래프\")\n",
    "\n",
    "# 다른 그래프랑 글자가 겹치지 않게\n",
    "plt.tight_layout()"
   ]
  },
  {
   "cell_type": "markdown",
   "id": "5d1d3e19-e5d9-409b-b6ec-146edba773b7",
   "metadata": {},
   "source": [
    "#### 8.6 시본으로 그래프 꾸미기"
   ]
  },
  {
   "cell_type": "markdown",
   "id": "0cff3fa2-75ac-44f0-8d86-5174113c28a4",
   "metadata": {},
   "source": [
    "막대 그래프 꾸미기"
   ]
  },
  {
   "cell_type": "code",
   "execution_count": null,
   "id": "e3f097c5-4d66-4350-a39e-7d2d45a89626",
   "metadata": {},
   "outputs": [],
   "source": [
    "# hue: 그래프에 추가로 반 컬럼에 따라 색을 나눔\n",
    "# xy 외에 다른 값으로 색을 구분할 때 사용\n",
    "sns.barplot(data=df, x=\"이름\", y=\"점수\", hue=\"반\")"
   ]
  },
  {
   "cell_type": "markdown",
   "id": "754f8592-1a4b-4651-a40b-264b62d85461",
   "metadata": {},
   "source": [
    "막대 색상, 그래프 제목, xy축 라벨"
   ]
  },
  {
   "cell_type": "code",
   "execution_count": null,
   "id": "8f5e2b41-2a93-4421-bc5a-ad507d8b7075",
   "metadata": {},
   "outputs": [],
   "source": [
    "# 막대 색상: 파스텔 톤으로\n",
    "sns.barplot(data=df, x=\"이름\", y=\"점수\", palette=\"pastel\")\n",
    "# 그래프 제목: 볼드체 + 글자 크기 더크게\n",
    "plt.title(\"학생별 점수\", fontsize=14, fontweight=\"bold\")\n",
    "# x축 라벨\n",
    "plt.xlabel(\"학생 이름\")\n",
    "# y축 라벨\n",
    "plt.ylabel(\"시험 점수\")"
   ]
  },
  {
   "cell_type": "markdown",
   "id": "331c7900-e72a-4f49-aa65-3a3a63032751",
   "metadata": {},
   "source": [
    "선 스타일, 마커모양, 그래프 제목, xy축 라벨"
   ]
  },
  {
   "cell_type": "code",
   "execution_count": null,
   "id": "68dbe859-7c49-4928-be76-44630915777e",
   "metadata": {},
   "outputs": [],
   "source": [
    "# 선 스타일: 초록색 + 더 두껍게 \n",
    "# 동그라미 마커 모양\n",
    "sns.lineplot(data=df, x=\"이름\", y=\"점수\", marker=\"o\", linewidth=3, color=\"green\")\n",
    "# 그래프 제목: 글자 크기 더 크게\n",
    "plt.title(\"학생별 점수\", fontsize=14)\n",
    "# x축 라벨\n",
    "plt.xlabel(\"학생 이름\")\n",
    "# y축 라벨\n",
    "plt.ylabel(\"시험 점수\")"
   ]
  },
  {
   "cell_type": "code",
   "execution_count": null,
   "id": "2e5c6c27-81a2-4c6e-bc9c-e7820e6e8656",
   "metadata": {},
   "outputs": [],
   "source": []
  }
 ],
 "metadata": {
  "kernelspec": {
   "display_name": "Python 3 (ipykernel)",
   "language": "python",
   "name": "python3"
  },
  "language_info": {
   "codemirror_mode": {
    "name": "ipython",
    "version": 3
   },
   "file_extension": ".py",
   "mimetype": "text/x-python",
   "name": "python",
   "nbconvert_exporter": "python",
   "pygments_lexer": "ipython3",
   "version": "3.10.18"
  }
 },
 "nbformat": 4,
 "nbformat_minor": 5
}
