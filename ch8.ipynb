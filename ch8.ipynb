{
 "cells": [
  {
   "cell_type": "markdown",
   "id": "afe7aea8-111b-4fc1-bb8b-d1a90e52afd0",
   "metadata": {},
   "source": [
    "### 8.맷플롯립 (Matplotlib)\n",
    "데이터 시각화를 위해 사용되는 모듈로, 그래프와 차트를 그릴때 활용함"
   ]
  },
  {
   "cell_type": "markdown",
   "id": "f8789917-30e8-411a-9ce4-1c054a956b0d",
   "metadata": {},
   "source": [
    "모듈 가져오기"
   ]
  },
  {
   "cell_type": "code",
   "execution_count": null,
   "id": "0b004c7d-a66d-4473-ac36-9537e1969021",
   "metadata": {},
   "outputs": [],
   "source": [
    "import numpy as np\n",
    "# Matplotlib : 데이터 시각화를 위한 여러 모듈로 구성됨\n",
    "# matplotlib.pyplot : 그 중 그래프를 제공하는 모듈\n",
    "import matplotlib.pyplot as plt"
   ]
  },
  {
   "cell_type": "markdown",
   "id": "7dd94e13-1de7-44b9-8404-fd82a29a18dd",
   "metadata": {},
   "source": [
    "한글 설정  \n",
    "<small>주피터 노트북에서 그래프를 그리면 한글이 깨져서 설정이 필요함</small>"
   ]
  },
  {
   "cell_type": "code",
   "execution_count": null,
   "id": "ebca0d70-be87-4a2c-b110-fa77c473935c",
   "metadata": {},
   "outputs": [],
   "source": [
    "from matplotlib import rc\n",
    "rc('font', family='Malgun Gothic')"
   ]
  },
  {
   "cell_type": "markdown",
   "id": "a3883a76-3485-42c6-b770-14270323378e",
   "metadata": {},
   "source": [
    "#### 8.1 그래프 그리기"
   ]
  },
  {
   "cell_type": "markdown",
   "id": "5ea63813-2d57-40f9-a2cb-b0d815e5a167",
   "metadata": {},
   "source": [
    "선 그래프"
   ]
  },
  {
   "cell_type": "code",
   "execution_count": null,
   "id": "9b6a3c5d-835e-4847-aceb-4b5b3202c45c",
   "metadata": {},
   "outputs": [],
   "source": [
    "# 1~10 숫자를 담은 배열 생성\n",
    "a = np.arange(1,11)\n",
    "a\n",
    "# 선 그래프 그리기\n",
    "# x축: 리스트의 값\n",
    "# y축: 자동으로 설정됨\n",
    "plt.plot(a)"
   ]
  },
  {
   "cell_type": "markdown",
   "id": "bd83a6ba-195a-4577-a6a4-fe3256b14cca",
   "metadata": {},
   "source": [
    "막대 그래프"
   ]
  },
  {
   "cell_type": "code",
   "execution_count": null,
   "id": "d00e36b0-6c2d-4ab5-8643-7cf1890d7d48",
   "metadata": {},
   "outputs": [],
   "source": [
    "# 학급별 성적 데이터\n",
    "a = ['1반', '2반', '3반', '4반']\n",
    "b = [80, 90, 85, 95]\n",
    "# 막대 그래프 그리기\n",
    "# x축: 반\n",
    "# y축: 자동으로 설정됨\n",
    "# y축은 파이썬 자동으로 분석해서 범위를 잡아준다\n",
    "plt.bar(a, b)"
   ]
  },
  {
   "cell_type": "markdown",
   "id": "a9f265bc-c4eb-4fe9-9353-1e0bc0f93d89",
   "metadata": {},
   "source": [
    "산전도 그래프"
   ]
  },
  {
   "cell_type": "code",
   "execution_count": null,
   "id": "2938d413-cf44-4c12-ad17-22bee41b0f2a",
   "metadata": {},
   "outputs": [],
   "source": [
    "x = [30, 25, 10, 50, 25]\n",
    "y = [9, 3, 10, 6, 2]\n",
    "# x와 y를 점으로 찍기\n",
    "# y축은 파이썬이 분석해서 자동으로 범위를 잡아준다\n",
    "# y축은 0~10까지 자동으로 설정됨\n",
    "plt.scatter(x, y)"
   ]
  },
  {
   "cell_type": "markdown",
   "id": "adc1744e-bd16-41a5-a369-fe17544bbd83",
   "metadata": {},
   "source": [
    "히스토그램  \n",
    "<small>데이터를 구간별로 나누어서 그래프로 나타낸 것</small>"
   ]
  },
  {
   "cell_type": "code",
   "execution_count": null,
   "id": "cb557a85-e9e5-4e7d-9040-87a6ff3ed7bb",
   "metadata": {},
   "outputs": [],
   "source": [
    "# 시험 점수 100개 만들기\n",
    "# 평균 70점 표준편차 10점\n",
    "# 대부분의 점수는 60~80점 사이에 분포\n",
    "scores = np.random.normal(70,10,100)\n",
    "# 히스토그램 그리기\n",
    "plt.hist(scores, bins=10) # 구간을 10개로 나눔\n",
    "plt.title('시험 점수 분포') # 그래프 제목\n",
    "plt.xlabel('점수 구간') # x축 이름\n",
    "plt.ylabel('학생 수') # y축 이름"
   ]
  },
  {
   "cell_type": "markdown",
   "id": "415c593e-271a-43a7-ae16-b075bcd76c94",
   "metadata": {},
   "source": [
    "#### 8.2 여러 그래프 그리기"
   ]
  },
  {
   "cell_type": "markdown",
   "id": "6231b61d-e997-4ec3-a10a-bdf00ce4fb6b",
   "metadata": {},
   "source": [
    "figure(피겨) : 도화지(캔버스)  \n",
    "axes(엑시스) : 도화지 위에 그리는 그래프  \n",
    "plot() / bar() / scatter() : 그래프 안에 그림(선, 막대, 점)을 그리는 도구  \n",
    "\n",
    "figure는 언제 쓸까?  \n",
    "도화지 하나에 여러개의 그래프를 그릴 때  \n",
    "도화지 사이즈 설정할 때"
   ]
  },
  {
   "cell_type": "code",
   "execution_count": null,
   "id": "f17c9a45-d646-4e2f-8e2f-752da09f253b",
   "metadata": {},
   "outputs": [],
   "source": [
    "# figure을 안써도 plot 함수를 사용하면 자동으로 figure(도화지)가 생성됨\n",
    "plt.plot(np.arange(1,11))"
   ]
  },
  {
   "cell_type": "markdown",
   "id": "61104e86-71e8-42b7-9189-d18779b1d11a",
   "metadata": {},
   "source": [
    "작은 사이즈로 도화지 그리기"
   ]
  },
  {
   "cell_type": "code",
   "execution_count": null,
   "id": "f870d83b-ba3e-419d-93df-57d6ab245742",
   "metadata": {},
   "outputs": [],
   "source": [
    "# 가로 3인치 × 세로 3인치 크기의 도화지 그리기\n",
    "plt.figure(figsize=(3,3))\n",
    "plt.plot(np.arange(1,11))"
   ]
  },
  {
   "cell_type": "markdown",
   "id": "a7a6947b-d831-4b34-ac32-597ffe2b5f4a",
   "metadata": {},
   "source": [
    "여러 그래프 그리기  \n",
    "<small>gig와 axs 수동으로 만들기</small>"
   ]
  },
  {
   "cell_type": "code",
   "execution_count": null,
   "id": "101205fa-8dfb-483b-86d3-c5c73c8c2db6",
   "metadata": {},
   "outputs": [],
   "source": [
    "# figure 생성\n",
    "fig = plt.figure(figsize=(10,3))\n",
    "\n",
    "# 그래프 영역 나누기\n",
    "# 왼쪽 칸 (1행 2열 중 1번째)\n",
    "ax1 = fig.add_subplot(1,2,1)  \n",
    "# 오른쪽 칸 (1행 2열 중 2번째)\n",
    "ax2 = fig.add_subplot(1,2,2)  \n",
    "\n",
    "# 5명 학생의 시험 점수\n",
    "students = [1,2,3,4,5] # 학생 번호\n",
    "scores = [80, 90, 70, 85, 95] # 점수\n",
    "\n",
    "# 첫번째 그래프\n",
    "ax1.plot(scores)\n",
    "# 두번째 그래프\n",
    "ax2.bar(students, scores)"
   ]
  },
  {
   "cell_type": "markdown",
   "id": "78e02775-7356-41e6-909d-2d7021c6de87",
   "metadata": {},
   "source": [
    "여러 그래프 그리기2  \n",
    "<small>fig와 axs 쉽게 만들기</small>"
   ]
  },
  {
   "cell_type": "code",
   "execution_count": null,
   "id": "03e8bd3c-d165-49e1-ad65-027f01d2f33d",
   "metadata": {},
   "outputs": [],
   "source": [
    "# figure 생성 + 1행 2열로 그래프 영역 나누기\n",
    "fig, axs = plt.subplots(1, 2, figsize=(10,3))\n",
    "\n",
    "# 5명 학생의 시험 점수\n",
    "students = [1,2,3,4,5]   # 학생 번호\n",
    "scores = [80, 90, 70, 85, 95]  # 점수\n",
    "\n",
    "# 첫번째 그래프 그리기\n",
    "axs[0].plot(scores)\n",
    "\n",
    "# 두번째 그래프 그리기\n",
    "axs[1].bar(students, scores)"
   ]
  },
  {
   "cell_type": "markdown",
   "id": "91bf62f0-dd9f-4259-a28c-a4b7366b176d",
   "metadata": {},
   "source": [
    "#### 8.3 그래프 꾸미기"
   ]
  },
  {
   "cell_type": "markdown",
   "id": "3741a07f-d1ce-491d-a6df-5c31174c2aa5",
   "metadata": {},
   "source": [
    "색상과 선스타일"
   ]
  },
  {
   "cell_type": "code",
   "execution_count": null,
   "id": "f42c196b-f5eb-4ae8-9dbe-144364885d9d",
   "metadata": {},
   "outputs": [],
   "source": [
    "a = [1,2,3,4,5]\n",
    "# 빨간 실선\n",
    "plt.plot(a, color='red', linestyle='-')\n",
    "# 파란 긴 점선\n",
    "plt.plot(a, color='blue', linestyle='--')\n",
    "# 회색 점선\n",
    "plt.plot(a, color='gray', linestyle=':')"
   ]
  },
  {
   "cell_type": "markdown",
   "id": "9fc4ec97-f628-420e-b6d2-bd5e1f2cd72b",
   "metadata": {},
   "source": [
    "마커 꾸미기"
   ]
  },
  {
   "cell_type": "code",
   "execution_count": null,
   "id": "90326aa3-821d-4d71-b57e-7b5495704652",
   "metadata": {},
   "outputs": [],
   "source": [
    "a = [1, 3, 2, 5]\n",
    "# 원형 마커\n",
    "plt.plot(a, marker='o')\n",
    "# 세모 마커\n",
    "plt.plot(a, marker='^')\n",
    "# 별 모양 마커\n",
    "plt.plot(a, marker='*')"
   ]
  },
  {
   "cell_type": "markdown",
   "id": "95eeaa16-5535-4abf-b68b-737d28ea4053",
   "metadata": {},
   "source": [
    "그래프에 텍스트 출력하기  \n",
    "<small>\n",
    "ha (horizontalalignment): 가로 정렬  \n",
    "left(왼쪽) center(가운데) right(오른쪽)  \n",
    "va (verticalalignment): 세로 정렬  \n",
    "top(위쪽) center(가운데) bottom(아래쪽)\n",
    "</small>"
   ]
  },
  {
   "cell_type": "code",
   "execution_count": null,
   "id": "2597ac10-9aed-4507-a84b-77b9d0b15cf9",
   "metadata": {},
   "outputs": [],
   "source": [
    "# 요일별 커피 마신 잔 수\n",
    "day = [\"월\", \"화\", \"수\", \"목\", \"금\"]\n",
    "coffee = [1, 2, 0, 3, 2]\n",
    "\n",
    "plt.bar(day, coffee, color='skyblue')\n",
    "\n",
    "# 목요일 값 위에 텍스트 표시\n",
    "plt.text(\"목\", 3, \"제일 많이 마신 날\", color='red')\n",
    "# plt.text(\"목\", 3, \"제일 많이 마신 날\", color='red', ha='center', va='bottom')\n",
    "\n",
    "plt.show()"
   ]
  }
 ],
 "metadata": {
  "kernelspec": {
   "display_name": "Python 3 (ipykernel)",
   "language": "python",
   "name": "python3"
  },
  "language_info": {
   "codemirror_mode": {
    "name": "ipython",
    "version": 3
   },
   "file_extension": ".py",
   "mimetype": "text/x-python",
   "name": "python",
   "nbconvert_exporter": "python",
   "pygments_lexer": "ipython3",
   "version": "3.10.18"
  }
 },
 "nbformat": 4,
 "nbformat_minor": 5
}
