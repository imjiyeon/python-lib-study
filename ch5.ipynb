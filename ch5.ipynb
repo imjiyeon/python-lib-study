{
 "cells": [
  {
   "cell_type": "markdown",
   "metadata": {},
   "source": [
    "## 6. 데이터 로딩과 저장, 파일 형식"
   ]
  },
  {
   "cell_type": "markdown",
   "metadata": {},
   "source": [
    "6.1 텍스트 파일에서 데이터를 읽고 쓰는 법"
   ]
  },
  {
   "cell_type": "code",
   "execution_count": null,
   "metadata": {},
   "outputs": [],
   "source": [
    "import numpy as np\n",
    "import pandas as pd"
   ]
  },
  {
   "cell_type": "code",
   "execution_count": null,
   "metadata": {},
   "outputs": [],
   "source": [
    "# 먼저 ex1.csv 파일 직접 열어서 내용 확인하기\n",
    "\n",
    "# read_csv : csv 파일을 읽어서 데이터프레임으로 반환\n",
    "df = pd.read_csv(\"examples/ex1.csv\")\n",
    "df"
   ]
  },
  {
   "cell_type": "code",
   "execution_count": null,
   "metadata": {},
   "outputs": [],
   "source": [
    "# 먼저 ex2.csv 파일 직접 열어서 내용 확인하기\n",
    "\n",
    "# csv에 제목행이 없어서 첫번째행을 컬럼으로 인식함\n",
    "pd.read_csv(\"examples/ex2.csv\")\n",
    "\n",
    "# header=None 옵션을 주면 첫번째 행도 그냥 데이터로 읽고\n",
    "# 컬럼 이름은 0 1 2로 자동 생성됨\n",
    "pd.read_csv(\"examples/ex2.csv\", header=None)\n",
    "\n",
    "# 직접 열 이름 지정하기\n",
    "pd.read_csv(\"examples/ex2.csv\", names=[\"a\", \"b\", \"c\", \"d\", \"message\"])"
   ]
  },
  {
   "cell_type": "code",
   "execution_count": null,
   "metadata": {},
   "outputs": [],
   "source": [
    "# message의 열을 데이터프레임의 인덱스로 설정\n",
    "names = [\"a\", \"b\", \"c\", \"d\", \"message\"]\n",
    "pd.read_csv(\"examples/ex2.csv\", names=names, index_col=\"message\")"
   ]
  },
  {
   "cell_type": "code",
   "execution_count": null,
   "metadata": {},
   "outputs": [],
   "source": [
    "# 먼저 csv_mindex.csv 파일 직접 열어서 내용 확인하기\n",
    "\n",
    "# csv 파일을 읽어서 데이터프레임으로 반환\n",
    "# index_col 옵션 -> 두 열을 합쳐서 계층적 인덱스 만들기\n",
    "# 실제 인덱스 : (one,a) (one,b)\n",
    "parsed = pd.read_csv(\"examples/csv_mindex.csv\",\n",
    "                     index_col=[\"key1\", \"key2\"])\n",
    "parsed"
   ]
  },
  {
   "cell_type": "code",
   "execution_count": null,
   "metadata": {},
   "outputs": [],
   "source": [
    "!cat examples/ex3.txt"
   ]
  },
  {
   "cell_type": "code",
   "execution_count": null,
   "metadata": {},
   "outputs": [],
   "source": [
    "# 먼저 ex3.txt 파일 직접 열어서 내용 확인\n",
    "# 구분자 : 공백\n",
    "\n",
    "# 텍스트 파일 읽어서 데이터프레임으로 반환\n",
    "# \\s+ => 정규표현식\n",
    "# \\s는 공백문자, \\s+는 하나 이상의 연속된 공백 문자\n",
    "result = pd.read_csv(\"examples/ex3.txt\", sep=\"\\s+\")\n",
    "result"
   ]
  },
  {
   "cell_type": "code",
   "execution_count": null,
   "metadata": {},
   "outputs": [],
   "source": [
    "# 먼저 ex4.txt 파일 직접 열어서 내용 확인\n",
    "\n",
    "# 첫번째(hey)를 헤더로 인식\n",
    "# message~foo까지 데이터로 인식\n",
    "# pd.read_csv()의 기본 구분자는 ,(쉼표)\n",
    "# 3번째와 4번째 줄은 csv 형식에 안맞아서 nan으로 채워짐\n",
    "pd.read_csv(\"examples/ex4.csv\")\n",
    "\n",
    "# skiprows 옵션 -> 0,2,3 행 건너뛰기\n",
    "pd.read_csv(\"examples/ex4.csv\", skiprows=[0, 2, 3])"
   ]
  },
  {
   "cell_type": "code",
   "execution_count": null,
   "metadata": {},
   "outputs": [],
   "source": [
    "# 먼저 ex5.txt 파일 직접 열어서 내용 확인\n",
    "\n",
    "# \"na\"나 비어있는 값은 nan(잘못된값)로 처리됨\n",
    "result = pd.read_csv(\"examples/ex5.csv\")\n",
    "result"
   ]
  },
  {
   "cell_type": "code",
   "execution_count": null,
   "metadata": {},
   "outputs": [],
   "source": [
    "# isna : 데이터프레임이나 시리즈에서 nan를 찾는 함수\n",
    "pd.isna(result)"
   ]
  },
  {
   "cell_type": "code",
   "execution_count": null,
   "metadata": {},
   "outputs": [],
   "source": [
    "# na_values 옵션 -> 문자열 리스트를 받아서 누락된 값으로 처리\n",
    "# world와 foo도 누락된값(na)로 취급\n",
    "result = pd.read_csv(\"examples/ex5.csv\", na_values=[\"world\",\"foo\"])\n",
    "result\n",
    "\n",
    "# \"na\"나 null 같은 값들은 누락된값 목록에 이미 포함됨"
   ]
  },
  {
   "cell_type": "code",
   "execution_count": null,
   "metadata": {},
   "outputs": [],
   "source": [
    "# 딕셔너리로 열마다 다른 na값 처리\n",
    "\n",
    "# message 컬럼에서는 \"foo\", \"NA\" → NaN 처리\n",
    "# something 컬럼에서는 \"two\" → NaN 처리\n",
    "sentinels = {\"message\": [\"foo\", \"NA\"], \"something\": [\"two\"]}\n",
    "pd.read_csv(\"examples/ex5.csv\", na_values=sentinels)"
   ]
  },
  {
   "cell_type": "markdown",
   "metadata": {},
   "source": [
    "6.1.1 텍스트 파일 조금씩 읽어 오기"
   ]
  },
  {
   "cell_type": "code",
   "execution_count": null,
   "metadata": {},
   "outputs": [],
   "source": [
    "# csv 파일에서 최대 행 10개만 표시하기\n",
    "pd.options.display.max_rows = 10"
   ]
  },
  {
   "cell_type": "code",
   "execution_count": null,
   "metadata": {},
   "outputs": [],
   "source": [
    "# 중간은 ...로 표시\n",
    "result = pd.read_csv(\"examples/ex6.csv\")\n",
    "result"
   ]
  },
  {
   "cell_type": "code",
   "execution_count": null,
   "metadata": {},
   "outputs": [],
   "source": [
    "# 파일 전체를 읽는 대신 처음 5줄만 읽기\n",
    "# nrows 옵션 -> 처음 몇줄만 지정\n",
    "pd.read_csv(\"examples/ex6.csv\", nrows=5)"
   ]
  },
  {
   "cell_type": "markdown",
   "metadata": {},
   "source": [
    "6.1.2 데이터를 텍스트 형식으로 기록하기"
   ]
  },
  {
   "cell_type": "code",
   "execution_count": null,
   "metadata": {},
   "outputs": [],
   "source": [
    "# 앞에서 본 ex5.csv 파일 다시 보기\n",
    "data = pd.read_csv(\"examples/ex5.csv\")\n",
    "data"
   ]
  },
  {
   "cell_type": "code",
   "execution_count": null,
   "metadata": {},
   "outputs": [],
   "source": [
    "# 데이터프레임을 다시 csv로 내보내기\n",
    "data.to_csv(\"examples/out.csv\")\n",
    "\n",
    "# out.csv 파일 내용 확인하기\n",
    "# 기본 구분자는 쉼표(,)"
   ]
  },
  {
   "cell_type": "code",
   "execution_count": null,
   "metadata": {},
   "outputs": [],
   "source": [
    "# 데이터프레임을 다시 csv로 내보내기\n",
    "# sys.stdout : 파일 대신 화면으로 출력\n",
    "# sep=\"|\" : 구분자는 파이프(|)\n",
    "import sys\n",
    "data.to_csv(sys.stdout, sep=\"|\")"
   ]
  },
  {
   "cell_type": "code",
   "execution_count": null,
   "metadata": {},
   "outputs": [],
   "source": [
    "# na_rep 옵션 : na를 다른 값으로 표시 \n",
    "data.to_csv(sys.stdout, na_rep=\"NULL\")"
   ]
  },
  {
   "cell_type": "code",
   "execution_count": null,
   "metadata": {},
   "outputs": [],
   "source": [
    "# 행인덱스와 열이름 표시 안함\n",
    "data.to_csv(sys.stdout, index=False, header=False)"
   ]
  },
  {
   "cell_type": "code",
   "execution_count": null,
   "metadata": {},
   "outputs": [],
   "source": [
    "# 열이름을 a,b,c로 표시\n",
    "data.to_csv(sys.stdout, index=False, columns=[\"a\", \"b\", \"c\"])"
   ]
  },
  {
   "cell_type": "markdown",
   "metadata": {},
   "source": [
    "6.1.4 JSON 데이터"
   ]
  },
  {
   "cell_type": "code",
   "execution_count": null,
   "metadata": {},
   "outputs": [],
   "source": [
    "# 복사할 것!\n",
    "# json 문자열 준비\n",
    "obj = \"\"\"\n",
    "{\"name\": \"Wes\",\n",
    " \"cities_lived\": [\"Akron\", \"Nashville\", \"New York\", \"San Francisco\"],\n",
    " \"pet\": null,\n",
    " \"siblings\": [{\"name\": \"Scott\", \"age\": 34, \"hobbies\": [\"guitars\", \"soccer\"]},\n",
    "              {\"name\": \"Katie\", \"age\": 42, \"hobbies\": [\"diving\", \"art\"]}]\n",
    "}\n",
    "\"\"\"\n",
    "\n",
    "# 파이썬의 딕셔너리와 구조가 비슷함\n",
    "# key : 문자열만 가능\n",
    "# value : 숫자, 문자열, 빈값, 리스트, 딕셔너리 등 가능"
   ]
  },
  {
   "cell_type": "code",
   "execution_count": null,
   "metadata": {},
   "outputs": [],
   "source": [
    "# loads : 'json문자열'을 '딕셔너리'로 변환하는 함수\n",
    "import json\n",
    "result = json.loads(obj)\n",
    "result\n",
    "\n",
    "# 왜 변환할까? json문자열은 통데이터라서, 원하는 부분만 뽑기 어려움\n",
    "# 이름 출력\n",
    "result[\"name\"]"
   ]
  },
  {
   "cell_type": "code",
   "execution_count": null,
   "metadata": {},
   "outputs": [],
   "source": [
    "# dumps : '딕셔너리'를 'json문자열'로 변환하는 함수\n",
    "asjson = json.dumps(result)\n",
    "asjson\n",
    "\n",
    "# 왜 변환할까?\n",
    "# 예를 들어 API를 호출할 때, 딕셔너리 같은 파이썬 객체를 직접 보낼 수 없음\n",
    "# 네트워크 통신은 기본적으로 문자열이나 바이트형태만 주고 받음"
   ]
  },
  {
   "cell_type": "code",
   "execution_count": null,
   "metadata": {},
   "outputs": [],
   "source": [
    "# JSON -> 데이터프레임 으로 변환\n",
    "siblings = pd.DataFrame(result[\"siblings\"], columns=[\"name\", \"age\"])\n",
    "siblings"
   ]
  },
  {
   "cell_type": "code",
   "execution_count": null,
   "metadata": {},
   "outputs": [],
   "source": [
    "# example.json 파일 열어서 확인하기\n",
    "\n",
    "# JSON데이터를 파싱해서 데이터프레임으로 읽어오기\n",
    "data = pd.read_json(\"examples/example.json\")\n",
    "data\n",
    "\n",
    "# read_json 함수는 JSON배열의 요소를 행으로 처리"
   ]
  },
  {
   "cell_type": "code",
   "execution_count": null,
   "metadata": {},
   "outputs": [],
   "source": [
    "# 데이터프레임 -> JSON\n",
    "# 변환하여 화면에 출력\n",
    "print(data.to_json(sys.stdout))"
   ]
  },
  {
   "cell_type": "markdown",
   "metadata": {},
   "source": [
    "6.1.5 xml과 HTML: 웹 스크래핑"
   ]
  },
  {
   "cell_type": "markdown",
   "metadata": {},
   "source": [
    "먼저 라이브러리 설치 <br>\n",
    "conda activate myenv <br>\n",
    "conda install lxml beautifulsoup4 html5lib"
   ]
  },
  {
   "cell_type": "code",
   "execution_count": null,
   "metadata": {},
   "outputs": [],
   "source": [
    "# fdic_failed_bank_list.html 파일 열어서 확인하기\n",
    "\n",
    "# html 파일 읽기\n",
    "# html 문서 안에서 <table> 태그를 찾고 dataframe 리스트로 반환\n",
    "tables = pd.read_html(\"examples/fdic_failed_bank_list.html\")\n",
    "\n",
    "# 몇개의 <table>을 읽어왔는지 확인\n",
    "len(tables)\n",
    "\n",
    "# 첫번째 테이블에서 위에 있는 5개의 행 출력\n",
    "failures = tables[0]\n",
    "failures.head()\n",
    "\n",
    "# html 파일 열기 > 개발자도구 열기 > 해당 데이터가 있는 부분 확인"
   ]
  },
  {
   "cell_type": "code",
   "execution_count": null,
   "metadata": {},
   "outputs": [],
   "source": [
    "# 각 연도별 은행 파산 건수를 세기\n",
    "\n",
    "# 1.데이터프레임에서 \"Closing Date\"열만 선택\n",
    "# 2.문자열->날짜로 변환\n",
    "# 3.dt.yer : 날짜에서 연도만 추출\n",
    "# 4.각 연도별 건수 세기\n",
    "close_timestamps = pd.to_datetime(failures[\"Closing Date\"])\n",
    "close_timestamps.dt.year.value_counts()"
   ]
  },
  {
   "cell_type": "markdown",
   "metadata": {},
   "source": [
    "xml 파싱하기"
   ]
  },
  {
   "cell_type": "code",
   "execution_count": null,
   "metadata": {},
   "outputs": [],
   "source": [
    "# xml 파일 내용 먼저 확인하기\n",
    "\n",
    "# xml 파일을 읽어서 dataframe으로 변환\n",
    "path = \"datasets/mta_perf/Performance_MNR.xml\"\n",
    "perf2 = pd.read_xml(path)\n",
    "# 위에 있는 5행만 보기\n",
    "perf2.head()\n",
    "\n",
    "# 결과를 파일에서 찾아보기"
   ]
  },
  {
   "cell_type": "markdown",
   "metadata": {},
   "source": [
    "6.2 이진 데이터 형식"
   ]
  },
  {
   "cell_type": "markdown",
   "metadata": {},
   "source": [
    "6.2.1 마이크로소프트 엑셀 파일 읽기"
   ]
  },
  {
   "cell_type": "markdown",
   "metadata": {},
   "source": [
    "라이브러리 먼저 설치 <br>\n",
    "conda install openpyxl xlrd"
   ]
  },
  {
   "cell_type": "code",
   "execution_count": null,
   "metadata": {},
   "outputs": [],
   "source": [
    "# 엑셀 파일 먼저 열어보기\n",
    "\n",
    "xlsx = pd.ExcelFile(\"examples/ex1.xlsx\")"
   ]
  },
  {
   "cell_type": "code",
   "execution_count": null,
   "metadata": {},
   "outputs": [],
   "source": [
    "# 엑셀에서 시트 이름 확인\n",
    "xlsx.sheet_names"
   ]
  },
  {
   "cell_type": "code",
   "execution_count": null,
   "metadata": {},
   "outputs": [],
   "source": [
    "# 시트 데이터를 읽어서 dataframe으로 변환\n",
    "xlsx.parse(sheet_name=\"Sheet1\")"
   ]
  },
  {
   "cell_type": "code",
   "execution_count": null,
   "metadata": {},
   "outputs": [],
   "source": [
    "# 첫번째 열을 데이터프레임의 인덱스로 설정\n",
    "xlsx.parse(sheet_name=\"Sheet1\", index_col=0)"
   ]
  },
  {
   "cell_type": "code",
   "execution_count": null,
   "metadata": {},
   "outputs": [],
   "source": [
    "# pd.read_excel 함수를 사용해서 엑셀 읽기\n",
    "frame = pd.read_excel(\"examples/ex1.xlsx\", sheet_name=\"Sheet1\")\n",
    "frame"
   ]
  },
  {
   "cell_type": "code",
   "execution_count": null,
   "metadata": {},
   "outputs": [],
   "source": [
    "# writer 객체 생성 (엑셀 파일 쓰기 모드)\n",
    "writer = pd.ExcelWriter(\"examples/ex2.xlsx\")\n",
    "\n",
    "# dataframe을 엑셀파일로 내보내기\n",
    "frame.to_excel(writer, sheet_name=\"Sheet1\")\n",
    "\n",
    "# 파일 닫기\n",
    "writer.close()"
   ]
  },
  {
   "cell_type": "code",
   "execution_count": null,
   "metadata": {},
   "outputs": [],
   "source": [
    "# writer 없이 더 간단하게 엑셀 파일 만들기\n",
    "frame.to_excel(\"examples/ex2.xlsx\")"
   ]
  },
  {
   "cell_type": "markdown",
   "metadata": {},
   "source": [
    "6.3 웹 API와 함께 사용하기"
   ]
  },
  {
   "cell_type": "code",
   "execution_count": null,
   "metadata": {},
   "outputs": [],
   "source": [
    "import requests\n",
    "\n",
    "# 샘플 github api 주소\n",
    "url = \"https://api.github.com/repos/pandas-dev/pandas/issues\"\n",
    "\n",
    "# api 호출\n",
    "resp = requests.get(url)\n",
    "\n",
    "# 정상적으로 호출했는지 확인\n",
    "resp"
   ]
  },
  {
   "cell_type": "code",
   "execution_count": null,
   "metadata": {},
   "outputs": [],
   "source": [
    "# 응답메세지를 파싱해서 딕셔너리로 변환\n",
    "data = resp.json()\n",
    "data\n",
    "data[0][\"title\"]"
   ]
  },
  {
   "cell_type": "code",
   "execution_count": null,
   "metadata": {},
   "outputs": [],
   "source": [
    "# json데이터를 dataframe으로 변환하고\n",
    "# 보고싶은 필드만 선택\n",
    "issues = pd.DataFrame(data, columns=[\"number\", \"title\",\n",
    "                                     \"labels\", \"state\"])\n",
    "issues"
   ]
  },
  {
   "cell_type": "code",
   "execution_count": null,
   "metadata": {},
   "outputs": [],
   "source": [
    "6.4 데이터베이스와 함께 사용하기"
   ]
  },
  {
   "cell_type": "code",
   "execution_count": null,
   "metadata": {},
   "outputs": [],
   "source": [
    "# 설치형 db : MySQL, Oracle 등\n",
    "# SQLite은 파일형 데이터베이스\n",
    "# 파일만 있으면 어디서든 열수 있음\n",
    "\n",
    "import sqlite3\n",
    "\n",
    "query = \"\"\"\n",
    "CREATE TABLE test\n",
    "(a VARCHAR(20), b VARCHAR(20),\n",
    " c REAL,        d INTEGER\n",
    ");\"\"\"\n",
    "\n",
    "# mydata.sqlite 경로에 데이터베이스를 생성\n",
    "con = sqlite3.connect(\"mydata.sqlite\")\n",
    "\n",
    "# sqlite 데이터베이스에 테이블 생성\n",
    "con.execute(query)\n",
    "con.commit()"
   ]
  },
  {
   "cell_type": "markdown",
   "metadata": {},
   "source": [
    "라이브러리 설치 <br>\n",
    "conda install sqlalchemy"
   ]
  },
  {
   "cell_type": "code",
   "execution_count": null,
   "metadata": {},
   "outputs": [],
   "source": [
    "import sqlalchemy as sqla\n",
    "\n",
    "# 추가할 데이터를 dataframe으로 생성\n",
    "data = pd.DataFrame([\n",
    "    (\"Atlanta\", \"Georgia\", 1.25, 6),\n",
    "    (\"Tallahassee\", \"Florida\", 2.6, 3),\n",
    "    (\"Sacramento\", \"California\", 1.7, 5)\n",
    "], columns=[\"a\", \"b\", \"c\", \"d\"])\n",
    "\n",
    "# 데이터베이스 연결\n",
    "db = sqla.create_engine(\"sqlite:///mydata.sqlite\")\n",
    "\n",
    "# 테이블이 존재한다면 추가\n",
    "# index=False : 인덱스 열은 저장 안함\n",
    "# 테이블명, 데이터베이스명, 옵션\n",
    "data.to_sql(\"test\", db, if_exists=\"append\", index=False)"
   ]
  },
  {
   "cell_type": "code",
   "execution_count": null,
   "metadata": {},
   "outputs": [],
   "source": [
    "# 테이블에서 모든 행을 조회\n",
    "# 반환타입은 dataframe\n",
    "pd.read_sql(\"SELECT * FROM test\", db)"
   ]
  }
 ],
 "metadata": {
  "kernelspec": {
   "display_name": "Python 3 (ipykernel)",
   "language": "python",
   "name": "python3"
  },
  "language_info": {
   "codemirror_mode": {
    "name": "ipython",
    "version": 3
   },
   "file_extension": ".py",
   "mimetype": "text/x-python",
   "name": "python",
   "nbconvert_exporter": "python",
   "pygments_lexer": "ipython3",
   "version": "3.10.18"
  }
 },
 "nbformat": 4,
 "nbformat_minor": 4
}
