{
 "cells": [
  {
   "cell_type": "markdown",
   "id": "c792ee3e-b3c0-4412-9d70-a46368c405ad",
   "metadata": {},
   "source": [
    "### 5. 데이터 불러오기와 간단한 분석까지"
   ]
  },
  {
   "cell_type": "code",
   "execution_count": null,
   "id": "08a79549-f8d2-4425-92dd-386f5f9b7dce",
   "metadata": {},
   "outputs": [],
   "source": [
    "import numpy as np\n",
    "import pandas as pd\n",
    "import json\n",
    "import sqlite3"
   ]
  },
  {
   "cell_type": "markdown",
   "id": "74eb59c0-ec78-47bd-93f4-4a5763111737",
   "metadata": {},
   "source": [
    "#### 5.1 파일 다루기"
   ]
  },
  {
   "cell_type": "markdown",
   "id": "ad02421e-8c91-418e-9334-288714d27a78",
   "metadata": {},
   "source": [
    "CSV 파일 불러오기1"
   ]
  },
  {
   "cell_type": "code",
   "execution_count": null,
   "id": "f6ba81b3-9ba6-4a2f-b01e-7bd0745abfdf",
   "metadata": {},
   "outputs": [],
   "source": [
    "# read_csv: csv 파일을 읽어서 데이터프레임으로 반환\n",
    "df = pd.read_csv(\"sample/sample1.csv\")\n",
    "\n",
    "# 프레임의 행열 이름 확인\n",
    "# df.index\n",
    "# df.columns\n",
    "\n",
    "# 학번 컬럼을 인덱스로 바꾸기\n",
    "df = df.set_index(\"student_id\")"
   ]
  },
  {
   "cell_type": "markdown",
   "id": "8f2f3e03-ae35-4c0c-a485-930a929e113c",
   "metadata": {},
   "source": [
    "CSV 파일 불러오기2"
   ]
  },
  {
   "cell_type": "code",
   "execution_count": null,
   "id": "78d61244-1a3a-4a53-844e-4ca2c6816e28",
   "metadata": {},
   "outputs": [],
   "source": [
    "# 파일에 한글이 포함되어 있어서 에러남\n",
    "# df = pd.read_csv(\"sample/sample2.csv\")\n",
    "# 인코딩 추가\n",
    "df = pd.read_csv(\"sample/sample2.csv\", encoding=\"euc-kr\")\n",
    "df\n",
    "# 기존 컬럼은 유지하면서, 상품명을 인덱스로 설정\n",
    "df.index = df['상품명']\n",
    "df"
   ]
  },
  {
   "cell_type": "markdown",
   "id": "3b8ada3e-9e4f-4dca-a7eb-954a5dce2555",
   "metadata": {},
   "source": [
    "JSON 파일 불러오기1  \n",
    "<small>\n",
    "파이썬의 딕셔너리와 비슷한 구조\n",
    "</small>"
   ]
  },
  {
   "cell_type": "code",
   "execution_count": null,
   "id": "b9583da4-0d81-4310-b660-1f4d5fe1c6da",
   "metadata": {},
   "outputs": [],
   "source": [
    "# 파일 열기\n",
    "f = open(\"sample/sample3.json\", \"r\")\n",
    "# load: json 파일을 읽어서 딕셔너리로 반환\n",
    "dic = json.load(f)\n",
    "dic"
   ]
  },
  {
   "cell_type": "markdown",
   "id": "3db751e2-a3f6-4264-8844-b952d2796564",
   "metadata": {},
   "source": [
    "JSON 파일 불러오기2"
   ]
  },
  {
   "cell_type": "code",
   "execution_count": null,
   "id": "c59014a9-76b1-41fa-9823-e68cb54309a1",
   "metadata": {},
   "outputs": [],
   "source": [
    "# 한글이 포함되어 있어서 에러남\n",
    "# f = open(\"sample/sample4.json\", \"r\")\n",
    "# 인코딩 추가\n",
    "f = open(\"sample/sample4.json\", \"r\", encoding='utf-8')\n",
    "# json 단일 객체면 딕셔너리로 반환됨\n",
    "dic = json.load(f)\n",
    "dic\n",
    "# 키와 값 꺼내기\n",
    "for key, value in dic.items():\n",
    "    print(key, value)"
   ]
  },
  {
   "cell_type": "markdown",
   "id": "35d54be7-fe73-435f-afbf-c20f65e37711",
   "metadata": {},
   "source": [
    "JSON 파일 불러오기3"
   ]
  },
  {
   "cell_type": "code",
   "execution_count": null,
   "id": "a16be58a-2407-4892-b266-a87adc6eb80d",
   "metadata": {},
   "outputs": [],
   "source": [
    "# 판다스의 read_json 함수 사용\n",
    "# json 배열 형태일때 데이터 프레임으로 반환됨\n",
    "df = pd.read_json(\"sample/sample5.json\")\n",
    "df\n",
    "# 프레임의 인덱스와 컬럼\n",
    "df.index\n",
    "df.columns\n",
    "\n",
    "# 홍길동의 나이 꺼내기\n",
    "df.loc[0,'age']\n",
    "\n",
    "# 홍길동 정보만 꺼내기\n",
    "df.loc[0,:]"
   ]
  },
  {
   "cell_type": "markdown",
   "id": "1d1a7aff-8f03-4695-ad28-f62eb9670ab4",
   "metadata": {},
   "source": [
    "#### 5.2 데이터베이스 연결하기  \n",
    "<small>\n",
    "파일형 데이터베이스: MySQL, Oracle<br>\n",
    "설치형 데이터베이스: SQLite<br>\n",
    "설치형 데이터베이스는 파일만 있으면 어디서든 열 수 있다!    \n",
    "</small>"
   ]
  },
  {
   "cell_type": "markdown",
   "id": "437686dd-fe57-47a7-b8e8-5502ce48a256",
   "metadata": {},
   "source": [
    "테이블 생성 및 데이터 추가"
   ]
  },
  {
   "cell_type": "code",
   "execution_count": null,
   "id": "e74f8ba5-4508-4f23-b625-19cf51c1328f",
   "metadata": {},
   "outputs": [],
   "source": [
    "# mydata.sqlite 라는 이름으로 데이터베이스 생성 또는 연결\n",
    "con = sqlite3.connect(\"mydata.sqlite\")\n",
    "\n",
    "# 테이블 생성 쿼리\n",
    "# con.execute(\"CREATE TABLE student (id INTEGER, name TEXT, age INTEGER)\")\n",
    "\n",
    "# 데이터 추가\n",
    "# con.execute(\"INSERT INTO student VALUES (1, '홍길동', 25)\")\n",
    "# con.execute(\"INSERT INTO student VALUES (2, '김철수', 30)\")\n",
    "# con.commit()"
   ]
  },
  {
   "cell_type": "markdown",
   "id": "27d98878-35da-4822-bf79-d324a6499bd5",
   "metadata": {},
   "source": [
    "데이터 전체 조회"
   ]
  },
  {
   "cell_type": "code",
   "execution_count": null,
   "id": "3f902496-3a31-452b-b20e-9fab57b043af",
   "metadata": {},
   "outputs": [],
   "source": [
    "# SELECT 실행\n",
    "cur = con.execute(\"SELECT * FROM student\")\n",
    "\n",
    "# 결과 가져오기\n",
    "rows = cur.fetchall()\n",
    "# 튜플이 담긴 리스트\n",
    "rows\n",
    "# 출력\n",
    "for row in rows:\n",
    "    print(row)"
   ]
  },
  {
   "cell_type": "markdown",
   "id": "9570939f-2a9d-4c78-8709-60ba5cd48d85",
   "metadata": {},
   "source": [
    "데이터 단건 조회"
   ]
  },
  {
   "cell_type": "code",
   "execution_count": null,
   "id": "e646f817-3c5d-4abc-a00e-58f591d6ef86",
   "metadata": {},
   "outputs": [],
   "source": [
    "# SELECT 실행 (특정 id=1 학생만 조회)\n",
    "cur = con.execute(\"SELECT * FROM student WHERE id = 1\")\n",
    "\n",
    "# 단건 가져오기\n",
    "row = cur.fetchone()\n",
    "\n",
    "# 출력\n",
    "row"
   ]
  },
  {
   "cell_type": "markdown",
   "id": "eace33fa-97c2-44bb-9681-668e6114cf13",
   "metadata": {},
   "source": [
    "#### 5.3 공공데이터 활용하기"
   ]
  },
  {
   "cell_type": "markdown",
   "id": "985519b1-9cd3-46d6-a516-688c92c03043",
   "metadata": {},
   "source": [
    "csv 파일 불러오기"
   ]
  },
  {
   "cell_type": "code",
   "execution_count": null,
   "id": "5836db6a-18c6-4606-b870-269941ef5b68",
   "metadata": {},
   "outputs": [],
   "source": [
    "df = pd.read_csv(\"sample/OBS_ASOS_TIM_20250916015211.csv\", encoding=\"utf-8\")\n",
    "df"
   ]
  },
  {
   "cell_type": "markdown",
   "id": "e6b74fe4-2fb4-4c04-8881-a42c80359afe",
   "metadata": {},
   "source": [
    "인천의 하루 평균 기온과 습도 구하기"
   ]
  },
  {
   "cell_type": "code",
   "execution_count": null,
   "id": "6438d34d-4c49-476f-a87d-50667c421a60",
   "metadata": {},
   "outputs": [],
   "source": [
    "# 기온만 선택\n",
    "df[\"기온(°C)\"]\n",
    "\n",
    "# 평균 기온 계산\n",
    "avg = int(df[\"기온(°C)\"].mean())\n",
    "print(f'하루 평균 기온: {avg}(°C)')\n",
    "\n",
    "# 습도만 선택\n",
    "df[\"습도(%)\"]\n",
    "\n",
    "# 평균 습도 계산\n",
    "avg2 = int(df[\"습도(%)\"].mean())\n",
    "print(f'하루 평균 습도: {avg2}(%)')"
   ]
  },
  {
   "cell_type": "markdown",
   "id": "ca0fd27c-b8bc-484a-8404-c6bcb388769b",
   "metadata": {},
   "source": [
    "하루 중에 제일 더운 시간 찾기"
   ]
  },
  {
   "cell_type": "code",
   "execution_count": null,
   "id": "2d77a922-339c-4abe-9064-1bc4fc31d357",
   "metadata": {},
   "outputs": [],
   "source": [
    "# 기온 최고값 인덱스\n",
    "i = df['기온(°C)'].idxmax()\n",
    "\n",
    "# 해당 행의 일시와 기온 조회\n",
    "df.loc[i, '일시']\n",
    "df.loc[i, '기온(°C)']"
   ]
  }
 ],
 "metadata": {
  "kernelspec": {
   "display_name": "Python 3 (ipykernel)",
   "language": "python",
   "name": "python3"
  },
  "language_info": {
   "codemirror_mode": {
    "name": "ipython",
    "version": 3
   },
   "file_extension": ".py",
   "mimetype": "text/x-python",
   "name": "python",
   "nbconvert_exporter": "python",
   "pygments_lexer": "ipython3",
   "version": "3.10.18"
  }
 },
 "nbformat": 4,
 "nbformat_minor": 5
}
