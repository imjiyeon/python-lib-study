{
 "cells": [
  {
   "cell_type": "markdown",
   "id": "0fad6674-68f2-4716-a45b-f21931eff3cb",
   "metadata": {},
   "source": [
    "### 6. 데이터 탐색과 전처리"
   ]
  },
  {
   "cell_type": "code",
   "execution_count": null,
   "id": "695dcfd8-b510-4b07-acb7-4d4e3313e248",
   "metadata": {},
   "outputs": [],
   "source": [
    "import numpy as np\n",
    "import pandas as pd"
   ]
  },
  {
   "cell_type": "markdown",
   "id": "15c5b918-f48f-4946-9853-0dd75fe27547",
   "metadata": {},
   "source": [
    "#### 6.1 데이터 탐색하기"
   ]
  },
  {
   "cell_type": "markdown",
   "id": "520b107e-2c97-4076-8ed9-c0136631e6c1",
   "metadata": {},
   "source": [
    "서울 마포구 코로나 확진자 현황 CSV 파일 가지고 오기"
   ]
  },
  {
   "cell_type": "code",
   "execution_count": null,
   "id": "773b857d-1b5d-4816-a6e8-03beb9cb6cf3",
   "metadata": {},
   "outputs": [],
   "source": [
    "# csv 파일을 읽어서 데이터 프레임으로 변환\n",
    "data = pd.read_csv('sample/서울특별시 마포구_법정동별_월별_코로나19 확진자 현황.csv', encoding='euc-kr')\n",
    "data"
   ]
  },
  {
   "cell_type": "markdown",
   "id": "b365b22f-5476-47f7-88f0-44c01ee781a4",
   "metadata": {},
   "source": [
    "필요한 컬럼만 선택하기"
   ]
  },
  {
   "cell_type": "code",
   "execution_count": null,
   "id": "2255b80f-ed81-4265-8730-af4fb442b0a4",
   "metadata": {},
   "outputs": [],
   "source": [
    "# 컬럼 하나만 선택\n",
    "data['확진자수']\n",
    "\n",
    "# 컬럼 여러개 선택\n",
    "# 시도명과 시군구명은 모두 똑같아서 의미가 없음\n",
    "# 필요한 컬럼만 선택하기 (기준연도, 기준월, 법정동, 확진자수)\n",
    "df = data[ [ '기준연도', '기준월', '법정동', '확진자수' ] ]\n",
    "df"
   ]
  },
  {
   "cell_type": "markdown",
   "id": "1333d5df-5d84-4bc4-ba8d-c84510fdee61",
   "metadata": {},
   "source": [
    "시리즈 탐색하기\n",
    "- head: 데이터 앞부분만 확인 (5행)\n",
    "- count: 데이터 개수 (누락된 값 제외)\n",
    "- unique: 중복을 제거한 고유한 값 확인\n",
    "- value_counts: 데이터 개수 확인"
   ]
  },
  {
   "cell_type": "code",
   "execution_count": null,
   "id": "f4fa4e9a-1716-4189-9c2f-32724f6d0708",
   "metadata": {},
   "outputs": [],
   "source": [
    "# 확진자수 컬럼 꺼내기\n",
    "# 데이터 프레임의 열은 시리즈\n",
    "s = df['확진자수']\n",
    "# 데이터가 너무 많으면 보기 불편함. 앞부부만 확인\n",
    "s.head()\n",
    "# 데이터 전체 개수\n",
    "s.count()\n",
    "# 중복을 제거한 고유값 확인\n",
    "s.unique()\n",
    "# 데이터별 개수\n",
    "s.value_counts()"
   ]
  },
  {
   "cell_type": "markdown",
   "id": "79a8e549-5666-4678-8dcc-95c95ab96370",
   "metadata": {},
   "source": [
    "#### 6.2 없는 데이터 nan 처리"
   ]
  },
  {
   "cell_type": "markdown",
   "id": "3d3b8fae-4b8d-436b-ae57-e5321dd1d547",
   "metadata": {},
   "source": [
    "nan: csv에서 빈셀을 의미. 빈값."
   ]
  },
  {
   "cell_type": "code",
   "execution_count": null,
   "id": "a899752c-c803-44a8-9bd2-594eaaa1a3b3",
   "metadata": {},
   "outputs": [],
   "source": [
    "# 3번 4번 행을 보면, 확진자수가 없음\n",
    "# 빈셀은 nan로 처리됨\n",
    "df"
   ]
  },
  {
   "cell_type": "markdown",
   "id": "0bb403bd-6559-40ec-99db-e23cd748b3f6",
   "metadata": {},
   "source": [
    "빈값이 있는지 확인하기\n",
    "- isnull() : 빈값이 있는지 확인  \n",
    "- isnull().sum() : 빈값이 있는 행의 개수 확인"
   ]
  },
  {
   "cell_type": "code",
   "execution_count": null,
   "id": "3a053e40-1198-4fd0-bcd2-ba27a30dc342",
   "metadata": {},
   "outputs": [],
   "source": [
    "# 확진자가 없는 행 개수 확인\n",
    "df['확진자수'].isnull()\n",
    "df['확진자수'].isnull().sum() # 2명"
   ]
  },
  {
   "cell_type": "markdown",
   "id": "e805325d-95fa-48f5-b1a5-276bc68c4e4d",
   "metadata": {},
   "source": [
    "빈값 삭제하기\n",
    "- dropna: 빈값이 있는 행을 모두 삭제\n",
    "- df.dropna(subset=['컬럼']): 특정 컬럼에 빈값이 있는 행을 모두 삭제"
   ]
  },
  {
   "cell_type": "code",
   "execution_count": null,
   "id": "f26551a7-2fe3-44b1-b768-2a5996f2419a",
   "metadata": {},
   "outputs": [],
   "source": [
    "# 법정동, 확진자수가 없는 행이 모두 삭제됨\n",
    "df.dropna()\n",
    "# 확진자수가 없는 행만 삭제됨\n",
    "df.dropna(subset=['확진자수'])\n",
    "# dropna는 원본은 안바꿈\n",
    "df"
   ]
  },
  {
   "cell_type": "markdown",
   "id": "6a0a37d1-8d4d-4292-ac54-cbe930e07867",
   "metadata": {},
   "source": [
    "빈값을 다른값으로 변경하기"
   ]
  },
  {
   "cell_type": "code",
   "execution_count": null,
   "id": "3d731856-c465-402e-9105-8852293849c4",
   "metadata": {},
   "outputs": [],
   "source": [
    "df['법정동'].fillna('모름')\n",
    "df['확진자수'].fillna(0)\n",
    "# 한번에 처리\n",
    "df = df.fillna({ '법정동':'모름', '확진자수':0 })\n",
    "df"
   ]
  },
  {
   "cell_type": "markdown",
   "id": "9e930d6e-25e7-4b1e-9d25-8227d3198a5e",
   "metadata": {},
   "source": [
    "#### 6.3 조건 검색"
   ]
  },
  {
   "cell_type": "markdown",
   "id": "5791fa32-c570-4d13-bd1c-29268ef8dd53",
   "metadata": {},
   "source": [
    "특정 조건에 맞는 행 검색하기"
   ]
  },
  {
   "cell_type": "code",
   "execution_count": null,
   "id": "cee07d68-3c5a-4a18-ac70-d2b4b4c1c9d9",
   "metadata": {},
   "outputs": [],
   "source": [
    "# 확진자수가 3000명 이상인 행 찾기\n",
    "df['확진자수'] >= 3000\n",
    "df[df['확진자수'] >= 3000]"
   ]
  },
  {
   "cell_type": "code",
   "execution_count": null,
   "id": "6b78aadc-7c0e-4ddb-9184-5269bafe4126",
   "metadata": {},
   "outputs": [],
   "source": [
    "# 확진자수가 제일 많은 행 찾기\n",
    "# 확진자수를 기준으로 내림차순 정렬 후 앞부분만 출력\n",
    "df.sort_values('확진자수', ascending=False).head()"
   ]
  },
  {
   "cell_type": "markdown",
   "id": "1ed4ce59-f95d-4870-9267-c38924f4286a",
   "metadata": {},
   "source": [
    "시리즈의 문자열 함수"
   ]
  },
  {
   "cell_type": "code",
   "execution_count": null,
   "id": "c08134f9-5a8d-4a06-9a2d-c75a0362e25f",
   "metadata": {},
   "outputs": [],
   "source": [
    "# na가 있으면 에러남\n",
    "df = df.fillna({ '법정동':'모름', '확진자수':0 })\n",
    "\n",
    "# 특정 문자열이 포함된 행만 찾기\n",
    "df[df['법정동'].str.contains('덕')]\n",
    "# 특정 문자열로 시작하는 값만 찾기\n",
    "df[df['법정동'].str.startswith('염')]\n",
    "# 특정 문자열로 끝나는 값만 찾기\n",
    "df[df['법정동'].str.endswith('리동')]"
   ]
  },
  {
   "cell_type": "markdown",
   "id": "6e761df9-9f3d-46b2-8c00-d1b585767494",
   "metadata": {},
   "source": [
    "#### 6.4 집계 및 변형\n",
    "- groupby(컬럼) : 특정 컬럼을 기준으로 데이터 합치기"
   ]
  },
  {
   "cell_type": "code",
   "execution_count": null,
   "id": "5aa2c263-bb90-4bb8-9bd8-2893cf4e74cc",
   "metadata": {},
   "outputs": [],
   "source": [
    "# 월 상관없이 동으로 묶은다음에 총 확진자수 구하기\n",
    "# 법정동 컬럼을 기준으로 그룹핑을 하고 합계 구하기\n",
    "# 다른 컬럼들도 합산이 되는데, 안쓸꺼니까 무시\n",
    "result = df.groupby('법정동').sum()\n",
    "result['확진자수']\n",
    "\n",
    "df[df['법정동'] == '공덕동']"
   ]
  },
  {
   "cell_type": "markdown",
   "id": "1b105f14-ffe1-4392-a413-5aebb89002e9",
   "metadata": {},
   "source": [
    "컬럼의 타입 확인하기\n",
    "- type(): 컬럼의 객체 타입을 보여줌\n",
    "- .dtypes: 컬럼의 원소 타입을 보여줌\n",
    "- info(): 데이터 프레임의 전체 컬럼 정보를 보여줌"
   ]
  },
  {
   "cell_type": "code",
   "execution_count": null,
   "id": "132b4073-d499-4979-98df-127aa8ae4fac",
   "metadata": {},
   "outputs": [],
   "source": [
    "# 객체타입은 Series\n",
    "type(df['확진자수'])\n",
    "# 각 원소의 타입은 float\n",
    "df['확진자수'].dtypes\n",
    "# 전체 컬럼 정보 확인\n",
    "# int(정수) object(문자열) float(실수)\n",
    "df.info()"
   ]
  },
  {
   "cell_type": "markdown",
   "id": "3ab35e74-3c8a-4b0a-9016-8b611c133760",
   "metadata": {},
   "source": [
    "컬럼의 타입 변경하기\n",
    "- astype({컬럼명: 타입})"
   ]
  },
  {
   "cell_type": "code",
   "execution_count": null,
   "id": "23ea78b7-9bc2-4778-846c-0593b4ad3698",
   "metadata": {},
   "outputs": [],
   "source": [
    "# 확진자수는 정수인데 실수로 표시됨\n",
    "# 확진자수 컬럼의 타입을 int로 변경\n",
    "df.astype({'확진자수':'int64'})"
   ]
  }
 ],
 "metadata": {
  "kernelspec": {
   "display_name": "Python 3 (ipykernel)",
   "language": "python",
   "name": "python3"
  },
  "language_info": {
   "codemirror_mode": {
    "name": "ipython",
    "version": 3
   },
   "file_extension": ".py",
   "mimetype": "text/x-python",
   "name": "python",
   "nbconvert_exporter": "python",
   "pygments_lexer": "ipython3",
   "version": "3.10.18"
  }
 },
 "nbformat": 4,
 "nbformat_minor": 5
}
