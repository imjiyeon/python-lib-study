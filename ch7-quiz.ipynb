{
 "cells": [
  {
   "cell_type": "code",
   "execution_count": null,
   "id": "846f6edf-f67c-42f5-abb9-77d4048398c4",
   "metadata": {},
   "outputs": [],
   "source": [
    "import pandas as pd"
   ]
  },
  {
   "cell_type": "markdown",
   "id": "33fe5fbc-a9e1-40df-a4fe-7151897ea34d",
   "metadata": {},
   "source": [
    "시리즈의 멀티 인덱스"
   ]
  },
  {
   "cell_type": "code",
   "execution_count": null,
   "id": "d54bf578-dc2a-4302-84ed-04f33aad2bc6",
   "metadata": {},
   "outputs": [],
   "source": [
    "# 1.\n",
    "# 매출 데이터를 담은 Series를 먄들고, 멀티 인덱스를 설정하세요\n",
    "# 인덱스: 지역-지점\n",
    "# 값: 매출\n",
    "\n",
    "# 서울 전체 매출을 조회하세요\n",
    "# 부산 해운대점 매출을 조회하세요"
   ]
  },
  {
   "cell_type": "code",
   "execution_count": null,
   "id": "86f85d08-d63f-4e4d-a904-79a0cd64ef7d",
   "metadata": {},
   "outputs": [],
   "source": [
    "s = pd.Series( [120, 100, 90, 80],                     \n",
    "               index=[[\"서울\", \"서울\", \"부산\", \"부산\"],   \n",
    "                      [\"강남점\", \"강북점\", \"해운대점\", \"서면점\"]])\n",
    "s\n",
    "# 서울 전체 지점 매출 조회\n",
    "# s[\"서울\"]\n",
    "# # 부산 해운대점 매출 조회\n",
    "# s.loc[(\"부산\", \"해운대점\")]"
   ]
  },
  {
   "cell_type": "code",
   "execution_count": null,
   "id": "b4005f08-0266-439e-8934-3bdae9ec25aa",
   "metadata": {},
   "outputs": [],
   "source": [
    "# 2.\n",
    "# 쇼핑몰의 판매량 데이터를 담은 Series를 만들고, 멀티 인덱스을 설정하세요\n",
    "# 인덱스 : 카테고리–상품명\n",
    "# 값: 판매량\n",
    "\n",
    "# 전자제품 카테고리 전체 판매량을 조회하세요\n",
    "# 식품 카테고리의 라면 판매량을 조회하세요"
   ]
  },
  {
   "cell_type": "code",
   "execution_count": null,
   "id": "2aa9e8c4-ed27-4ef6-96f0-58484b2a20ef",
   "metadata": {},
   "outputs": [],
   "source": [
    "# 쇼핑몰 판매량 데이터 (카테고리–상품명, 값=판매량)\n",
    "s = pd.Series(\n",
    "    [300, 250, 500, 400], \n",
    "    index=[[\"전자제품\", \"전자제품\", \"식품\", \"식품\"],\n",
    "           [\"노트북\", \"휴대폰\", \"라면\", \"과자\"]]\n",
    ")\n",
    "s\n",
    "# # 전자제품 카테고리 전체 판매량 조회\n",
    "# s[\"전자제품\"]\n",
    "# # 식품 카테고리의 라면 판매량 조회\n",
    "# s.loc[(\"식품\", \"라면\")]"
   ]
  },
  {
   "cell_type": "code",
   "execution_count": null,
   "id": "7cf6442e-6b0d-4268-8eed-487b01e64a87",
   "metadata": {},
   "outputs": [],
   "source": [
    "# 3.\n",
    "# 도서관의 대출 건수를 담은 Series를 만들고 멀티 인덱스를 설정하세요\n",
    "# 인덱스: 학년–과목\n",
    "# 값: 대출 건수\n",
    "\n",
    "# 1학년 전체 대출 건수를 조회하세요\n",
    "# 2학년 수학 과목의 대출 건수를 조회하세요"
   ]
  },
  {
   "cell_type": "code",
   "execution_count": null,
   "id": "cd444703-e191-476e-ac85-1c07d55a7fe6",
   "metadata": {},
   "outputs": [],
   "source": [
    "# 도서관 대출 건수 데이터 (학년–과목, 값=대출 건수)\n",
    "s = pd.Series(\n",
    "    [40, 35, 50, 45],\n",
    "    index=[[\"1학년\", \"1학년\", \"2학년\", \"2학년\"],\n",
    "           [\"국어\", \"수학\", \"국어\", \"수학\"]]\n",
    ")\n",
    "s\n",
    "# # 1학년 전체 대출 건수 조회\n",
    "# s[\"1학년\"]\n",
    "# # 2학년 수학 과목의 대출 건수 조회\n",
    "# s.loc[(\"2학년\", \"수학\")]"
   ]
  },
  {
   "cell_type": "markdown",
   "id": "b9b15e85-bddd-4972-a3bc-d26f6dff9c68",
   "metadata": {},
   "source": [
    "데이터 프레임의 멀티 인덱스"
   ]
  },
  {
   "cell_type": "code",
   "execution_count": null,
   "id": "91705219-8f8d-4452-9acc-dcf79953d394",
   "metadata": {},
   "outputs": [],
   "source": [
    "# 1.\n",
    "# 도서관 대출 건수를 담은 DataFrame를 만들고, 멀티 인덱스를 설정하세요\n",
    "# 행 인덱스: 도서관–월\n",
    "# 열: 소설, 과학\n",
    "# 값: 대출 건수\n",
    "\n",
    "# 중앙도서관 전체 대출 건수를 조회하세요\n",
    "# 시립도서관 2월의 과학 대출 건수를 조회하세요"
   ]
  },
  {
   "cell_type": "code",
   "execution_count": null,
   "id": "330f208a-fd01-42c4-944e-5a0dc963f806",
   "metadata": {},
   "outputs": [],
   "source": [
    "df = pd.DataFrame(\n",
    "    [[120, 45], [95, 60], [150, 70], [110, 55]],\n",
    "    index=[\n",
    "        [\"중앙도서관\", \"중앙도서관\", \"시립도서관\", \"시립도서관\"],\n",
    "        [\"1월\", \"2월\", \"1월\", \"2월\"]\n",
    "    ],\n",
    "    columns=[\"소설\", \"과학\"]\n",
    ")\n",
    "df\n",
    "\n",
    "# # 중앙도서관 전체 대출 건수 조회\n",
    "# df.loc[\"중앙도서관\"]\n",
    "\n",
    "# # 시립도서관 2월의 과학 대출 건수 조회\n",
    "# df.loc[(\"시립도서관\", \"2월\"), \"과학\"]"
   ]
  },
  {
   "cell_type": "code",
   "execution_count": null,
   "id": "b4b7248f-055f-42c7-b197-3f4e3e249d81",
   "metadata": {},
   "outputs": [],
   "source": [
    "# 2.\n",
    "# 자동차 판매량 데이터를 담은 DataFrame를 만들고, 멀티 인덱스를 설정하세요\n",
    "# 행 인덱스: 연도–차종\n",
    "# 열: 1분기, 2분기\n",
    "# 값: 판매 대수\n",
    "\n",
    "# 2022년 전체 판매량을 조회하세요\n",
    "# 2023년 세단의 2분기 판매량을 조회하세요"
   ]
  },
  {
   "cell_type": "code",
   "execution_count": null,
   "id": "71e09c50-26d2-4dd0-bd94-83381f2afef4",
   "metadata": {},
   "outputs": [],
   "source": [
    "df = pd.DataFrame(\n",
    "    [[320, 280], [210, 230], [400, 390], [180, 200]],\n",
    "    index=[\n",
    "        [\"2022년\", \"2022년\", \"2023년\", \"2023년\"],\n",
    "        [\"SUV\", \"세단\", \"SUV\", \"세단\"]\n",
    "    ],\n",
    "    columns=[\"1분기\", \"2분기\"]\n",
    ")\n",
    "df\n",
    "\n",
    "# # 2022년 전체 판매량 조회\n",
    "# df.loc[\"2022년\"]\n",
    "\n",
    "# # 2023년 세단의 2분기 판매량 조회\n",
    "# df.loc[(\"2023년\", \"세단\"), \"2분기\"]"
   ]
  },
  {
   "cell_type": "code",
   "execution_count": null,
   "id": "904fbe66-5b74-4f8d-87df-35339f3c5bad",
   "metadata": {},
   "outputs": [],
   "source": [
    "# 3.\n",
    "# 호텔 예약 건수를 담은 DataFrame를 만들고, 멀티 인덱스를 설정하세요\n",
    "# 행 인덱스: 지점–월\n",
    "# 열: 싱글룸, 더블룸\n",
    "# 값: 예약 건수\n",
    "\n",
    "# 서울지점 전체 예약 건수를 조회하세요\n",
    "# 부산지점 8월의 더블룸 예약 건수를 조회하세요"
   ]
  },
  {
   "cell_type": "code",
   "execution_count": null,
   "id": "2c38724e-fea2-462e-9fd2-b77760d84969",
   "metadata": {},
   "outputs": [],
   "source": [
    "df = pd.DataFrame(\n",
    "    [[45, 30], [50, 35], [60, 40], [55, 38]],\n",
    "    index=[\n",
    "        [\"서울지점\", \"서울지점\", \"부산지점\", \"부산지점\"],\n",
    "        [\"7월\", \"8월\", \"7월\", \"8월\"]\n",
    "    ],\n",
    "    columns=[\"싱글룸\", \"더블룸\"]\n",
    ")\n",
    "df\n",
    "\n",
    "# # 서울지점 전체 예약 건수 조회\n",
    "# df.loc[\"서울지점\"]\n",
    "\n",
    "# # 부산지점 8월의 더블룸 예약 건수 조회\n",
    "# df.loc[(\"부산지점\", \"8월\"), \"더블룸\"]"
   ]
  },
  {
   "cell_type": "code",
   "execution_count": null,
   "id": "a43f78d4-7b77-4f90-8435-6d13b24a19e2",
   "metadata": {},
   "outputs": [],
   "source": [
    "# 4.\n",
    "# 쇼핑몰 주문 건수를 담은 DataFrame를 만들고, 멀티 인덱스를 설정하세요\n",
    "# 행 인덱스: 카테고리–상품\n",
    "# 열: 1월, 2월\n",
    "# 값: 주문 건수\n",
    "\n",
    "# 가전 카테고리 전체 주문 건수를 조회하세요\n",
    "# 식품 카테고리 라면의 2월 주문 건수를 조회하세요"
   ]
  },
  {
   "cell_type": "code",
   "execution_count": null,
   "id": "693647d9-7ef1-4a9b-ace3-61bfa2d3273f",
   "metadata": {},
   "outputs": [],
   "source": [
    "df = pd.DataFrame(\n",
    "    [[120, 140], [80, 95], [200, 220], [150, 160]],\n",
    "    index=[\n",
    "        [\"가전\", \"가전\", \"식품\", \"식품\"],\n",
    "        [\"노트북\", \"청소기\", \"라면\", \"과자\"]\n",
    "    ],\n",
    "    columns=[\"1월\", \"2월\"]\n",
    ")\n",
    "df\n",
    "\n",
    "# # 가전 카테고리 전체 주문 건수 조회\n",
    "# df.loc[\"가전\"]\n",
    "\n",
    "# # 식품 카테고리 라면의 2월 주문 건수 조회\n",
    "# df.loc[(\"식품\", \"라면\"), \"2월\"]"
   ]
  },
  {
   "cell_type": "markdown",
   "id": "3cedd344-169e-4596-9215-62f9a031efb2",
   "metadata": {},
   "source": [
    "데이터 합치기 - merge"
   ]
  },
  {
   "cell_type": "code",
   "execution_count": null,
   "id": "7bb9b514-0075-42d6-9794-352ffda4e571",
   "metadata": {},
   "outputs": [],
   "source": [
    "# 1.\n",
    "# 고객 데이터를 담은 DataFrame와 주문 데이터를 담은 DataFrame를 만들고,\n",
    "# 고객ID 기준으로 합치세요\n",
    "# → 결과를 보고 어떤 join 방식을 쓸지 결정하세요"
   ]
  },
  {
   "cell_type": "code",
   "execution_count": null,
   "id": "0875a823-b2fe-4f38-9fc2-05c6cfc432fb",
   "metadata": {},
   "outputs": [],
   "source": [
    "# 고객 데이터\n",
    "df1 = pd.DataFrame({\n",
    "    \"고객ID\": [101, 102, 103],\n",
    "    \"이름\": [\"철수\", \"영희\", \"민수\"]\n",
    "})\n",
    "\n",
    "# 주문 데이터\n",
    "df2 = pd.DataFrame({\n",
    "    \"고객ID\": [101, 104, 102],\n",
    "    \"상품\": [\"노트북\", \"청소기\", \"책\"]\n",
    "})\n",
    "# df1\n",
    "df2\n",
    "\n",
    "# 두 데이터 합치기 (공통 컬럼은 고객ID)\n",
    "# 공통된 고객만 가져오기 (inner join)\n",
    "# pd.merge(df1, df2, on=\"고객ID\")"
   ]
  },
  {
   "cell_type": "code",
   "execution_count": null,
   "id": "855de129-a364-41a7-af60-970b5c1def02",
   "metadata": {},
   "outputs": [],
   "source": [
    "# 2.\n",
    "# 직원 데이터를 담은 DataFrame와 부서 데이터를 담은 DataFrame를 만들고,\n",
    "# 사번 기준으로 합치세요"
   ]
  },
  {
   "cell_type": "code",
   "execution_count": null,
   "id": "ec6d8c05-065e-41c9-b10a-e8b0601a5171",
   "metadata": {},
   "outputs": [],
   "source": [
    "# 직원 데이터\n",
    "df1 = pd.DataFrame({\n",
    "    \"사번\": [1, 2, 3],\n",
    "    \"이름\": [\"홍길동\", \"임꺽정\", \"이몽룡\"]\n",
    "})\n",
    "\n",
    "# 부서 데이터\n",
    "df2 = pd.DataFrame({\n",
    "    \"사번\": [1, 3],\n",
    "    \"부서\": [\"영업\", \"개발\"]\n",
    "})\n",
    "# df1\n",
    "df2\n",
    "\n",
    "# 직원 데이터 기준으로 합치기\n",
    "# 왼쪽 데이터는 모두 가져오고, 오른쪽은 없으면 NaN (left join)\n",
    "# pd.merge(df1, df2, on=\"사번\", how=\"left\")"
   ]
  },
  {
   "cell_type": "code",
   "execution_count": null,
   "id": "a15171ac-bf73-4eaa-8932-933f0eb5efd7",
   "metadata": {},
   "outputs": [],
   "source": [
    "# 3.\n",
    "# 상품 데이터를 담은 DataFrame와 재고 데이터를 담은 DataFrame를 만들고,\n",
    "# 상품코드 기준으로 합치세요"
   ]
  },
  {
   "cell_type": "code",
   "execution_count": null,
   "id": "27c22365-ee1c-4c3c-b148-512ff6f00cc0",
   "metadata": {},
   "outputs": [],
   "source": [
    "# 상품 데이터\n",
    "df1 = pd.DataFrame({\n",
    "    \"상품코드\": [\"A1\", \"A2\", \"A3\"],\n",
    "    \"상품명\": [\"노트북\", \"청소기\", \"책상\"]\n",
    "})\n",
    "\n",
    "# 재고 데이터\n",
    "df2 = pd.DataFrame({\n",
    "    \"상품코드\": [\"A2\", \"A3\", \"A4\"],\n",
    "    \"재고\": [5, 8, 10]\n",
    "})\n",
    "df2\n",
    "\n",
    "# 재고 데이터 기준으로 합치기\n",
    "# 오른쪽 데이터는 모두 가져오고, 왼쪽은 없으면 NaN (right join)\n",
    "# pd.merge(df1, df2, on=\"상품코드\", how=\"right\")"
   ]
  },
  {
   "cell_type": "code",
   "execution_count": null,
   "id": "ba073720-2d8b-47e5-9390-66ed7fa50f52",
   "metadata": {},
   "outputs": [],
   "source": [
    "# 4.\n",
    "# 학생 데이터를 담은 DataFrame와 동아리 데이터를 담은 DataFrame를 만들고,\n",
    "# 학번 기준으로 합치세요"
   ]
  },
  {
   "cell_type": "code",
   "execution_count": null,
   "id": "76927d50-c259-4b3a-b5b8-63abbaf58a8e",
   "metadata": {},
   "outputs": [],
   "source": [
    "# 학생 데이터\n",
    "df1 = pd.DataFrame({\n",
    "    \"학번\": [1, 2, 3],\n",
    "    \"이름\": [\"지훈\", \"서연\", \"민지\"]\n",
    "})\n",
    "\n",
    "# 동아리 데이터\n",
    "df2 = pd.DataFrame({\n",
    "    \"학번\": [2, 4],\n",
    "    \"동아리\": [\"축구부\", \"합창단\"]\n",
    "})\n",
    "df2\n",
    "\n",
    "# 양쪽 데이터를 모두 가져오기 (outer join)\n",
    "# pd.merge(df1, df2, on=\"학번\", how=\"outer\")"
   ]
  },
  {
   "cell_type": "markdown",
   "id": "6d367d66-5789-484d-bf05-25bafbeadbcb",
   "metadata": {},
   "source": [
    "데이터 합치기 - concat"
   ]
  },
  {
   "cell_type": "code",
   "execution_count": null,
   "id": "70fa8d8c-d5e5-4bba-9746-b3a182b1c8b6",
   "metadata": {},
   "outputs": [],
   "source": [
    "# 1.\n",
    "# 사원 데이터를 담은 DataFrame와 부서 데이터를 담은 DataFrame를 만들고, 하나로 합치세요\n",
    "# → 결과를 보고 어떤 방향을 쓸지 결정하세요"
   ]
  },
  {
   "cell_type": "code",
   "execution_count": null,
   "id": "b7c3fe7f-728b-49d9-b7d5-ed63363ba18b",
   "metadata": {},
   "outputs": [],
   "source": [
    "df1 = pd.DataFrame({\n",
    "    \"사번\": [1, 2],\n",
    "    \"이름\": [\"홍길동\", \"임꺽정\"]\n",
    "})\n",
    "\n",
    "df2 = pd.DataFrame({\n",
    "    \"부서\": [\"영업\", \"개발\"]\n",
    "})\n",
    "df2\n",
    "\n",
    "# pd.concat([df1, df2], axis=1)"
   ]
  },
  {
   "cell_type": "code",
   "execution_count": null,
   "id": "70e89481-c789-49f9-a2e2-da76a085acad",
   "metadata": {},
   "outputs": [],
   "source": [
    "# 2.\n",
    "# 세 개의 매출 데이터 DataFrame를 만들고, 하나로 합치세요\n",
    "# → 결과를 보고 어떤 옵션(방향, 인덱스)을 쓸지 결정하세요"
   ]
  },
  {
   "cell_type": "code",
   "execution_count": null,
   "id": "265bb868-5ab1-4907-88c8-ead79b3a470c",
   "metadata": {},
   "outputs": [],
   "source": [
    "df1 = pd.DataFrame({\"매출\": [100, 200]})\n",
    "df2 = pd.DataFrame({\"매출\": [150, 250]})\n",
    "df3 = pd.DataFrame({\"매출\": [300, 400]})\n",
    "df3\n",
    "\n",
    "# pd.concat([df1, df2, df3], axis=0, ignore_index=True)"
   ]
  },
  {
   "cell_type": "code",
   "execution_count": null,
   "id": "ff3abf46-c5d9-4531-9e32-2bc5ce521351",
   "metadata": {},
   "outputs": [],
   "source": [
    "# 3.\n",
    "# 두 개의 학생 점수 데이터를 담은 DataFrame를 만들고, 하나로 합치세요"
   ]
  },
  {
   "cell_type": "code",
   "execution_count": null,
   "id": "47a012cf-4827-428d-a723-5917e5b5e1c2",
   "metadata": {},
   "outputs": [],
   "source": [
    "df1 = pd.DataFrame({\n",
    "    \"이름\": [\"철수\", \"영희\"],\n",
    "    \"국어\": [85, 90]\n",
    "})\n",
    "\n",
    "df2 = pd.DataFrame({\n",
    "    \"이름\": [\"민수\", \"지연\"],\n",
    "    \"수학\": [78, 92]\n",
    "})\n",
    "df2\n",
    "\n",
    "# pd.concat([df1, df2], axis=1)"
   ]
  },
  {
   "cell_type": "markdown",
   "id": "cf5f0a61-9b3a-4242-b000-bfb77fb0ef8b",
   "metadata": {},
   "source": [
    "데이터 재구성"
   ]
  },
  {
   "cell_type": "code",
   "execution_count": null,
   "id": "587d67f6-6b57-4858-9840-6d146e31547a",
   "metadata": {},
   "outputs": [],
   "source": [
    "# 1.\n",
    "# 쇼핑몰 판매 데이터를 담은 DataFrame를 만들고,\n",
    "# pivot을 이용해 카테고리별 월 매출을 출력하세요"
   ]
  },
  {
   "cell_type": "code",
   "execution_count": null,
   "id": "592c5bf6-b7b9-4987-b337-ffc3d17f2e14",
   "metadata": {},
   "outputs": [],
   "source": [
    "df = pd.DataFrame({\n",
    "    \"카테고리\": [\"식품\", \"식품\", \"가전\", \"가전\"],\n",
    "    \"월\": [\"1월\", \"2월\", \"1월\", \"2월\"],\n",
    "    \"매출\": [200, 250, 500, 550]\n",
    "})\n",
    "df\n",
    "\n",
    "# df.pivot(index=\"카테고리\", columns=\"월\", values=\"매출\")"
   ]
  },
  {
   "cell_type": "code",
   "execution_count": null,
   "id": "972369e4-a51d-4b04-801b-e714786da964",
   "metadata": {},
   "outputs": [],
   "source": [
    "# 2.\n",
    "# 도서관 대출 데이터를 담은 DataFrame를 만들고,\n",
    "# pivot을 이용해 도서관별 장르 대출 건수를 출력하세요"
   ]
  },
  {
   "cell_type": "code",
   "execution_count": null,
   "id": "2b8850ab-cf99-4f18-8c71-e867811bb8b3",
   "metadata": {},
   "outputs": [],
   "source": [
    "df = pd.DataFrame({\n",
    "    \"도서관\": [\"중앙\", \"중앙\", \"시립\", \"시립\"],\n",
    "    \"장르\": [\"소설\", \"과학\", \"소설\", \"과학\"],\n",
    "    \"대출건수\": [120, 45, 95, 60]\n",
    "})\n",
    "df\n",
    "\n",
    "# df.pivot(index=\"도서관\", columns=\"장르\", values=\"대출건수\")"
   ]
  },
  {
   "cell_type": "code",
   "execution_count": null,
   "id": "4c23ece7-e73d-47f8-8775-bedf2edf49b5",
   "metadata": {},
   "outputs": [],
   "source": [
    "# 3.\n",
    "# 호텔 예약 데이터를 담은 DataFrame를 만들고,\n",
    "# pivot을 이용해 지점별 객실 유형 예약 건수를 출력하세요"
   ]
  },
  {
   "cell_type": "code",
   "execution_count": null,
   "id": "8a751d81-1277-4da0-a93f-96a4d022207b",
   "metadata": {},
   "outputs": [],
   "source": [
    "df = pd.DataFrame({\n",
    "    \"지점\": [\"서울\", \"서울\", \"부산\", \"부산\"],\n",
    "    \"객실유형\": [\"싱글룸\", \"더블룸\", \"싱글룸\", \"더블룸\"],\n",
    "    \"예약건수\": [45, 30, 50, 35]\n",
    "})\n",
    "df\n",
    "\n",
    "# df.pivot(index=\"지점\", columns=\"객실유형\", values=\"예약건수\")"
   ]
  }
 ],
 "metadata": {
  "kernelspec": {
   "display_name": "Python 3 (ipykernel)",
   "language": "python",
   "name": "python3"
  },
  "language_info": {
   "codemirror_mode": {
    "name": "ipython",
    "version": 3
   },
   "file_extension": ".py",
   "mimetype": "text/x-python",
   "name": "python",
   "nbconvert_exporter": "python",
   "pygments_lexer": "ipython3",
   "version": "3.10.18"
  }
 },
 "nbformat": 4,
 "nbformat_minor": 5
}
