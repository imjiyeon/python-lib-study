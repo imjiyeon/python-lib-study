{
 "cells": [
  {
   "cell_type": "code",
   "execution_count": null,
   "id": "92801144-6f1a-4705-bfc1-a6a5cad38a17",
   "metadata": {},
   "outputs": [],
   "source": [
    "import numpy as np\n",
    "import matplotlib.pyplot as plt\n",
    "from matplotlib import rc\n",
    "rc('font', family='Malgun Gothic')"
   ]
  },
  {
   "cell_type": "code",
   "execution_count": null,
   "id": "93c2cd63-7116-4d7e-a08a-3c04f10ea1a0",
   "metadata": {},
   "outputs": [],
   "source": [
    "import pandas as pd\n",
    "import seaborn as sns\n",
    "sns.set_theme(font=\"Malgun Gothic\")"
   ]
  },
  {
   "cell_type": "markdown",
   "id": "20d19dc1-5626-45b9-9250-6c7b1eae4520",
   "metadata": {},
   "source": [
    "그래프 그리기"
   ]
  },
  {
   "cell_type": "code",
   "execution_count": null,
   "id": "e66a3efa-7364-4eba-9ccd-3555fc975f17",
   "metadata": {},
   "outputs": [],
   "source": [
    "# 1. 선 그래프\n",
    "a = np.arange(10, 21)\n",
    "plt.plot(a)"
   ]
  },
  {
   "cell_type": "code",
   "execution_count": null,
   "id": "8f73952b-b0c7-4f90-8994-f6706f409e51",
   "metadata": {},
   "outputs": [],
   "source": [
    "# 2. 막대 그래프 (과일 판매량)\n",
    "fruits = ['사과', '바나나', '포도', '오렌지']\n",
    "sales = [50, 80, 40, 70]\n",
    "plt.bar(fruits, sales)"
   ]
  },
  {
   "cell_type": "code",
   "execution_count": null,
   "id": "6d346e7c-fc91-46ae-a810-31135b6cf3a2",
   "metadata": {},
   "outputs": [],
   "source": [
    "# 3. 산점도 그래프\n",
    "x = [1, 2, 3, 4, 5] \n",
    "y = [40, 55, 65, 80, 85]\n",
    "plt.scatter(x, y)\n",
    "plt.title(\"산점도 그래프\")\n",
    "plt.xlabel(\"공부 시간\")\n",
    "plt.ylabel(\"시험 점수\")"
   ]
  },
  {
   "cell_type": "code",
   "execution_count": null,
   "id": "41fd967a-62b6-4f0a-9f17-18700259a0fe",
   "metadata": {},
   "outputs": [],
   "source": [
    "# 4. 히스토그램\n",
    "watch_time = np.random.randint(0, 11, 100)  # 하루 0~10시간 사이, 100명 데이터\n",
    "plt.hist(watch_time, bins=10)\n",
    "plt.title(\"유튜브 시청 시간 분포\")\n",
    "plt.xlabel(\"시청 시간(시간)\")\n",
    "plt.ylabel(\"사람 수\")"
   ]
  },
  {
   "cell_type": "markdown",
   "id": "00310d3b-b6c2-40db-bf85-5d40b9a20c57",
   "metadata": {},
   "source": [
    "여러 그래프 그리기 (gig와 axs 수동으로 만들기)"
   ]
  },
  {
   "cell_type": "code",
   "execution_count": null,
   "id": "e89d3565-e54a-4b0b-bc11-62b2a602a35c",
   "metadata": {},
   "outputs": [],
   "source": [
    "# 1.\n",
    "# 2개의 그래프(선 그래프, 막대 그래프) 그리세요\n",
    "# 데이터: 과일 판매량\n",
    "# 과일: ['사과', '바나나', '포도', '오렌지', '복숭아']\n",
    "# 판매 개수: [50, 80, 40, 70, 60]"
   ]
  },
  {
   "cell_type": "code",
   "execution_count": null,
   "id": "ee25e015-2349-40d2-9e9c-679c1c2d843f",
   "metadata": {},
   "outputs": [],
   "source": [
    "# figure 생성\n",
    "fig = plt.figure(figsize=(10,3))\n",
    "\n",
    "# 그래프 영역 나누기\n",
    "ax1 = fig.add_subplot(1,2,1)  # 왼쪽\n",
    "ax2 = fig.add_subplot(1,2,2)  # 오른쪽\n",
    "\n",
    "# 과일과 판매량 데이터\n",
    "fruits = ['사과', '바나나', '포도', '오렌지', '복숭아']\n",
    "sales = [50, 80, 40, 70, 60]\n",
    "\n",
    "# 첫 번째 그래프 (선 그래프)\n",
    "ax1.plot(sales)\n",
    "ax1.set_title(\"과일 판매량\")\n",
    "\n",
    "# 두 번째 그래프 (막대 그래프)\n",
    "ax2.bar(fruits, sales)\n",
    "ax2.set_title(\"과일 판매량\")"
   ]
  },
  {
   "cell_type": "markdown",
   "id": "d71cb100-bbd4-4f99-a9f7-aa89974d94b3",
   "metadata": {},
   "source": [
    "여러 그래프 그리기 (fig와 axs 쉽게 만들기)"
   ]
  },
  {
   "cell_type": "code",
   "execution_count": null,
   "id": "0cc13071-14d3-499f-a8bc-bda32046836e",
   "metadata": {},
   "outputs": [],
   "source": [
    "# 2.\n",
    "# 2개의 그래프(선 그래프, 막대 그래프) 그리세요\n",
    "# 데이터: 요일별 유튜브 시청 시간\n",
    "# 요일: ['월', '화', '수', '목', '금']\n",
    "# 시청 시간: [2, 3, 4, 2, 5]"
   ]
  },
  {
   "cell_type": "code",
   "execution_count": null,
   "id": "f2812643-3295-46ad-8f07-75e5b26c2515",
   "metadata": {},
   "outputs": [],
   "source": [
    "# figure 생성 + 1행 2열로 나누기\n",
    "fig, axs = plt.subplots(1, 2, figsize=(10,3))\n",
    "\n",
    "# 데이터\n",
    "days = ['월', '화', '수', '목', '금']\n",
    "watch_time = [2, 3, 4, 2, 5]\n",
    "\n",
    "# 첫 번째 그래프 (선 그래프)\n",
    "axs[0].plot(days, watch_time)\n",
    "axs[0].set_title(\"요일별 유튜브 시청 시간\")\n",
    "\n",
    "# 두 번째 그래프 (막대 그래프)\n",
    "axs[1].bar(days, watch_time)\n",
    "axs[1].set_title(\"요일별 유튜브 시청 시간\")"
   ]
  },
  {
   "cell_type": "code",
   "execution_count": null,
   "id": "2bcc7c35-02fe-415d-9931-f80fc0de55a1",
   "metadata": {},
   "outputs": [],
   "source": [
    "# 3.\n",
    "# 2개의 그래프(막대 그래프, 산점도)를 그리세요\n",
    "# 데이터: 요일별 독서 시간\n",
    "# 요일: ['월', '화', '수', '목', '금']\n",
    "# 독서 시간: [1, 0.5, 2, 1.5, 2.5]"
   ]
  },
  {
   "cell_type": "code",
   "execution_count": null,
   "id": "26b71786-e893-426b-a0aa-d323949cccac",
   "metadata": {},
   "outputs": [],
   "source": [
    "# figure 생성 + 1행 2열로 나누기\n",
    "fig, axs = plt.subplots(1, 2, figsize=(10,3))\n",
    "\n",
    "# 데이터\n",
    "days = ['월', '화', '수', '목', '금']\n",
    "reading_time = [1, 0.5, 2, 1.5, 2.5]\n",
    "\n",
    "# 첫 번째 그래프 (막대 그래프)\n",
    "axs[0].bar(days, reading_time)\n",
    "axs[0].set_title(\"요일별 독서 시간 (막대 그래프)\")\n",
    "\n",
    "# 두 번째 그래프 (산점도)\n",
    "axs[1].scatter(days, reading_time)\n",
    "axs[1].set_title(\"요일별 독서 시간 (산점도)\")"
   ]
  },
  {
   "cell_type": "code",
   "execution_count": null,
   "id": "8122ad18-91b9-4d36-87be-9b14bf614700",
   "metadata": {},
   "outputs": [],
   "source": [
    "# 4.\n",
    "# 2개의 그래프(선 그래프, 산점도)를 그리세요\n",
    "# 데이터: 도시별 평균 기온(℃)\n",
    "# 도시: ['서울', '부산', '대구', '광주', '제주']\n",
    "# 평균 기온: [15.5, 17.8, 16.2, 15.0, 18.3]"
   ]
  },
  {
   "cell_type": "code",
   "execution_count": null,
   "id": "943a4fc9-82b5-4917-b99e-35e1231411dd",
   "metadata": {},
   "outputs": [],
   "source": [
    "# figure 생성 + 1행 2열로 나누기\n",
    "fig, axs = plt.subplots(1, 2, figsize=(10,3))\n",
    "\n",
    "# 데이터\n",
    "cities = ['서울', '부산', '대구', '광주', '제주']\n",
    "temperature = [15.5, 17.8, 16.2, 15.0, 18.3]\n",
    "\n",
    "# 첫 번째 그래프 (선 그래프)\n",
    "axs[0].plot(cities, temperature, marker='o')\n",
    "axs[0].set_title(\"도시별 평균 기온 (선 그래프)\")\n",
    "\n",
    "# 두 번째 그래프 (산점도)\n",
    "axs[1].scatter(cities, temperature)\n",
    "axs[1].set_title(\"도시별 평균 기온 (산점도)\")"
   ]
  },
  {
   "cell_type": "markdown",
   "id": "be10b474-d3e4-46f8-8c46-1a2c7ab6a194",
   "metadata": {},
   "source": [
    "그래프 꾸미기"
   ]
  },
  {
   "cell_type": "code",
   "execution_count": null,
   "id": "b9b7f748-2a20-4b7c-9baa-64f1ccbf9354",
   "metadata": {},
   "outputs": [],
   "source": [
    "# 문제1\n",
    "# 지점별 매출 데이터\n",
    "x = ['서울','부산','대구','광주']\n",
    "y = [150, 200, 180, 220]\n",
    "\n",
    "# 선 그래프\n",
    "plt.plot(x, y, color='blue', linestyle='--', marker='o')\n",
    "\n",
    "# 제목\n",
    "plt.title(\"지점별 매출 현황\")\n",
    "\n",
    "# 제일 매출이 낮은 날 표시\n",
    "plt.text(\"서울\", 150, \"가장 낮은 매출\", color='red', ha='center', va='bottom')"
   ]
  },
  {
   "cell_type": "code",
   "execution_count": null,
   "id": "0472b02f-f85e-48d9-892f-b6c68c4f605e",
   "metadata": {},
   "outputs": [],
   "source": [
    "# 문제2\n",
    "# 학생별 독서 시간 데이터\n",
    "x = ['민수','지연','철수','영희']\n",
    "y = [40, 55, 30, 60]\n",
    "\n",
    "# 선 그래프\n",
    "plt.plot(x, y, color='green', linestyle=':', marker='s')\n",
    "\n",
    "# 제목\n",
    "plt.title(\"학생별 주간 독서 시간(분)\")\n",
    "\n",
    "# 제일 독서 시간이 많은 학생 표시\n",
    "plt.text(\"영희\", 60, \"최고 기록!\", color='blue', ha='center', va='bottom')"
   ]
  },
  {
   "cell_type": "code",
   "execution_count": null,
   "id": "24ed420a-cf78-487d-8a8d-c790351d2277",
   "metadata": {},
   "outputs": [],
   "source": [
    "# 문제3\n",
    "# 요일별 운동 시간 데이터\n",
    "x = ['월','화','수','목','금']\n",
    "y = [20, 35, 25, 40, 30]\n",
    "\n",
    "# 선 그래프\n",
    "plt.plot(x, y, color='purple', linestyle='-', marker='^')\n",
    "\n",
    "# 제목\n",
    "plt.title(\"요일별 운동 시간(분)\")\n",
    "\n",
    "# 제일 운동 시간이 적은 요일 표시\n",
    "plt.text(\"월\", 20, \"최소 운동\", color='red', ha='center', va='bottom')"
   ]
  },
  {
   "cell_type": "markdown",
   "id": "1fdc5b5c-d7a3-4906-8ed7-7db46babccef",
   "metadata": {},
   "source": [
    "시본으로 그래프 그리기"
   ]
  },
  {
   "cell_type": "code",
   "execution_count": null,
   "id": "01702959-d8e7-4dc8-8281-44f939289749",
   "metadata": {},
   "outputs": [],
   "source": [
    "# 문제1\n",
    "# 일주일간의 평균 기온 데이터를 DataFrame으로 만들고, 선 그래프를 그려주세요.\n",
    "df = pd.DataFrame({\n",
    "    '요일': ['월','화','수','목','금','토','일'],\n",
    "    '기온': [12, 14, 13, 15, 17, 18, 16]\n",
    "})\n",
    "\n",
    "sns.lineplot(data=df, x=\"요일\", y=\"기온\")\n",
    "plt.title(\"일주일 평균 기온\")"
   ]
  },
  {
   "cell_type": "code",
   "execution_count": null,
   "id": "ba67ab29-2f91-4359-a4f3-f71ac8f38b47",
   "metadata": {},
   "outputs": [],
   "source": [
    "# 문제2\n",
    "# 과일별 하루 판매량 데이터를 DataFrame으로 만들고, 막대 그래프를 그려주세요.\n",
    "df = pd.DataFrame({\n",
    "    '과일': ['사과','바나나','포도','딸기'],\n",
    "    '판매량': [120, 80, 150, 100]\n",
    "})\n",
    "\n",
    "sns.barplot(data=df, x=\"과일\", y=\"판매량\")\n",
    "plt.title(\"과일별 판매량\")"
   ]
  },
  {
   "cell_type": "code",
   "execution_count": null,
   "id": "8515f343-a7c9-46e6-8bac-331b31dd1c07",
   "metadata": {},
   "outputs": [],
   "source": [
    "# 문제3\n",
    "# 학생들의 공부 시간과 시험 점수 데이터를 DataFrame으로 만들고, 산점도를 그려주세요.\n",
    "df = pd.DataFrame({\n",
    "    '공부시간': [2, 4, 6, 3, 5, 7, 8],\n",
    "    '점수': [55, 65, 75, 60, 70, 85, 90]\n",
    "})\n",
    "\n",
    "sns.scatterplot(data=df, x=\"공부시간\", y=\"점수\")\n",
    "plt.title(\"공부시간과 시험 점수\")"
   ]
  },
  {
   "cell_type": "code",
   "execution_count": null,
   "id": "f93b0e81-8144-42df-8ea4-f7031a92e080",
   "metadata": {},
   "outputs": [],
   "source": [
    "# 문제4\n",
    "# 50명의 하루 걸음 수 데이터를 무작위로 생성한 뒤 DataFrame으로 만들고, 히스토그램을 그려주세요.\n",
    "data = np.random.randint(3000, 10001, 50)\n",
    "df = pd.DataFrame({ '걸음수': data })\n",
    "\n",
    "sns.histplot(data=df, x=\"걸음수\", bins=7)\n",
    "plt.xlabel(\"걸음 수\")\n",
    "plt.ylabel(\"사람 수\")\n",
    "plt.title(\"하루 걸음 수 분포\")"
   ]
  },
  {
   "cell_type": "markdown",
   "id": "762a158a-2e27-4d03-a075-666ca54e8ad6",
   "metadata": {},
   "source": [
    "시본으로 여러 그래프 그리기"
   ]
  },
  {
   "cell_type": "code",
   "execution_count": null,
   "id": "cf0bb194-7d06-42fa-8a1d-528a953aa4fb",
   "metadata": {},
   "outputs": [],
   "source": [
    "# 문제1\n",
    "# 요일별 평균 기온 데이터\n",
    "df = pd.DataFrame({\n",
    "    '요일': ['월','화','수','목','금','토','일'],\n",
    "    '기온': [12, 14, 13, 15, 17, 18, 16]\n",
    "})\n",
    "fig, axs = plt.subplots(1, 2, figsize=(10, 3))\n",
    "# 선 그래프\n",
    "sns.lineplot(data=df, x=\"요일\", y=\"기온\", ax=axs[0])\n",
    "axs[0].set_title(\"요일별 기온(선)\")\n",
    "\n",
    "# (산점도\n",
    "sns.scatterplot(data=df, x=\"요일\", y=\"기온\", ax=axs[1])\n",
    "axs[1].set_title(\"요일별 기온(산점도)\")"
   ]
  },
  {
   "cell_type": "code",
   "execution_count": null,
   "id": "602712f0-974d-44ae-ac63-077a88646d3a",
   "metadata": {},
   "outputs": [],
   "source": [
    "# 문제2\n",
    "# 과일별 판매량 데이터\n",
    "df = pd.DataFrame({\n",
    "    '과일': ['사과','바나나','포도','딸기'],\n",
    "    '판매량': [120, 80, 150, 100]\n",
    "})\n",
    "# 서브플롯 (1행 3열)\n",
    "fig, axs = plt.subplots(1, 3, figsize=(15, 4))\n",
    "# 막대 그래프\n",
    "sns.barplot(data=df, x=\"과일\", y=\"판매량\", ax=axs[0])\n",
    "axs[0].set_title(\"과일별 판매량(막대)\")\n",
    "# 선 그래프\n",
    "sns.lineplot(data=df, x=\"과일\", y=\"판매량\", ax=axs[1])\n",
    "axs[1].set_title(\"과일별 판매량(선)\")\n",
    "# 산점도\n",
    "sns.scatterplot(data=df, x=\"과일\", y=\"판매량\", ax=axs[2])\n",
    "axs[2].set_title(\"과일별 판매량(산점도)\")"
   ]
  },
  {
   "cell_type": "code",
   "execution_count": null,
   "id": "fe045fa0-e2fb-4268-8e71-fff1786ddb5c",
   "metadata": {},
   "outputs": [],
   "source": [
    "# 문제3\n",
    "# 학생 시험 점수 데이터\n",
    "df = pd.DataFrame({\n",
    "    '공부시간': [2, 4, 6, 3, 5, 7, 8],\n",
    "    '점수': [55, 65, 75, 60, 70, 85, 90]\n",
    "})\n",
    "# 서브플롯 (3행 1열)\n",
    "fig, axs = plt.subplots(3, 1, figsize=(6, 12))\n",
    "# 산점도\n",
    "sns.scatterplot(data=df, x=\"공부시간\", y=\"점수\", ax=axs[0])\n",
    "axs[0].set_title(\"공부시간-점수(산점도)\")\n",
    "# 막대 그래프\n",
    "sns.barplot(data=df, x=\"공부시간\", y=\"점수\", ax=axs[1])\n",
    "axs[1].set_title(\"공부시간-점수(막대)\")\n",
    "# 선 그래프\n",
    "sns.lineplot(data=df, x=\"공부시간\", y=\"점수\", marker=\"o\", ax=axs[2])\n",
    "axs[2].set_title(\"공부시간-점수(선 그래프)\")\n",
    "# \n",
    "plt.tight_layout()"
   ]
  },
  {
   "cell_type": "code",
   "execution_count": null,
   "id": "72aef8bf-4dfe-4a08-914a-65e62cfef874",
   "metadata": {},
   "outputs": [],
   "source": [
    "# 문제4\n",
    "# 과일 판매량\n",
    "df_fruit = pd.DataFrame({\n",
    "    '과일': ['사과','바나나','포도','딸기'],\n",
    "    '판매량': [120, 80, 150, 100]\n",
    "})\n",
    "# 학생 시험 점수 데이터\n",
    "df_score = pd.DataFrame({\n",
    "    '학생': ['영희','철수','민수','지연'],\n",
    "    '점수': [85, 90, 80, 100]\n",
    "})\n",
    "# 서브플롯 (2행 2열)\n",
    "fig, axs = plt.subplots(2, 2, figsize=(12, 8))\n",
    "# (1) 과일 판매량 - 막대 그래프\n",
    "sns.barplot(data=df_fruit, x=\"과일\", y=\"판매량\", ax=axs[0, 0])\n",
    "axs[0, 0].set_title(\"과일별 판매량(막대)\")\n",
    "# (2) 과일 판매량 - 선 그래프\n",
    "sns.lineplot(data=df_fruit, x=\"과일\", y=\"판매량\", marker=\"o\", ax=axs[0, 1])\n",
    "axs[0, 1].set_title(\"과일별 판매량(선)\")\n",
    "# (3) 학생 시험 점수 - 막대 그래프\n",
    "sns.barplot(data=df_score, x=\"학생\", y=\"점수\", ax=axs[1, 0])\n",
    "axs[1, 0].set_title(\"학생별 점수(막대)\")\n",
    "# (4) 학생 시험 점수 - 산점도\n",
    "sns.scatterplot(data=df_score, x=\"학생\", y=\"점수\", ax=axs[1, 1])\n",
    "axs[1, 1].set_title(\"학생별 점수(산점도)\")\n",
    "plt.tight_layout()"
   ]
  },
  {
   "cell_type": "markdown",
   "id": "980b630b-7a46-45d7-ad8e-02cbac40fe7c",
   "metadata": {},
   "source": [
    "시본으로 그래프 꾸미기"
   ]
  },
  {
   "cell_type": "code",
   "execution_count": null,
   "id": "a168c2e8-e000-488a-9abe-31f4e6953bad",
   "metadata": {},
   "outputs": [],
   "source": [
    "# 문제1\n",
    "# 인천 인구 데이터를 데이터프레임으로 만드세요.\n",
    "df = pd.DataFrame({\n",
    "    '구': ['서구','서구','연수구','연수구','남동구','남동구'],\n",
    "    '인구(만명)': [45, 38, 35, 28, 55, 50],\n",
    "    '동': ['연희동','가좌동','송도동','옥련동','구월동','논현동']\n",
    "})\n",
    "\n",
    "# 문제2\n",
    "# 서브플롯 (1행 2열)\n",
    "fig, axs = plt.subplots(1, 2, figsize=(12, 5))\n",
    "\n",
    "# (1) 막대 그래프\n",
    "sns.barplot(data=df, x=\"동\", y=\"인구(만명)\", hue=\"구\", palette=\"pastel\", ax=axs[0])\n",
    "axs[0].set_title(\"인천 구·동별 인구 현황 (막대)\", fontsize=14, fontweight=\"bold\")\n",
    "axs[0].set_xlabel(\"동\")\n",
    "axs[0].set_ylabel(\"인구(만명)\")\n",
    "\n",
    "# 텍스트 추가\n",
    "axs[0].text(\"구월동\", 55, \"55만명\", color=\"red\", ha=\"center\", va=\"bottom\")\n",
    "\n",
    "# (2) 선 그래프 (선스타일 적용)\n",
    "sns.lineplot(\n",
    "    data=df, x=\"동\", y=\"인구(만명)\",\n",
    "    marker=\"o\", linestyle=\"--\", color=\"blue\", ax=axs[1]\n",
    ")\n",
    "axs[1].set_title(\"인천 구·동별 인구 현황 (선)\", fontsize=14, fontweight=\"bold\")\n",
    "axs[1].set_xlabel(\"동\")\n",
    "axs[1].set_ylabel(\"인구(만명)\")\n",
    "\n",
    "plt.tight_layout()"
   ]
  },
  {
   "cell_type": "code",
   "execution_count": null,
   "id": "d8435a2b-27f9-4266-b32b-6a154007ce40",
   "metadata": {},
   "outputs": [],
   "source": [
    "# 문제3\n",
    "\n",
    "df = pd.DataFrame({\n",
    "    '카테고리': ['식품','식품','의류','의류','전자제품','전자제품'],\n",
    "    '판매량': [120, 150, 80, 95, 200, 220],\n",
    "    '상품명': ['라면','과자','셔츠','신발','노트북','스마트폰']\n",
    "})\n",
    "df\n",
    "\n",
    "# 문제4\n",
    "# 서브플롯 (1행 2열)\n",
    "fig, axs = plt.subplots(1, 2, figsize=(12, 5))\n",
    "\n",
    "# (1) 막대 그래프\n",
    "sns.barplot(data=df, x=\"상품명\", y=\"판매량\", hue=\"카테고리\", ax=axs[0])\n",
    "axs[0].set_title(\"상품별 판매량 (막대)\", fontsize=14, fontweight=\"bold\")\n",
    "axs[0].set_xlabel(\"상품명\")\n",
    "axs[0].set_ylabel(\"판매량\")\n",
    "\n",
    "# (2) 선 그래프\n",
    "sns.lineplot(data=df, x=\"상품명\", y=\"판매량\", marker=\"s\", linestyle=\":\", ax=axs[1])\n",
    "axs[1].set_title(\"상품별 판매량 (선)\", fontsize=14, fontweight=\"bold\")\n",
    "axs[1].set_xlabel(\"상품명\")\n",
    "axs[1].set_ylabel(\"판매량\")\n",
    "\n",
    "# 최고 판매량 텍스트 표시\n",
    "axs[1].text(\"스마트폰\", 220, \"220개\", color=\"red\", ha=\"center\", va=\"bottom\")\n",
    "\n",
    "plt.tight_layout()"
   ]
  },
  {
   "cell_type": "code",
   "execution_count": null,
   "id": "5a3e6e3c-f319-4592-a869-0bd735860886",
   "metadata": {},
   "outputs": [],
   "source": []
  }
 ],
 "metadata": {
  "kernelspec": {
   "display_name": "Python 3 (ipykernel)",
   "language": "python",
   "name": "python3"
  },
  "language_info": {
   "codemirror_mode": {
    "name": "ipython",
    "version": 3
   },
   "file_extension": ".py",
   "mimetype": "text/x-python",
   "name": "python",
   "nbconvert_exporter": "python",
   "pygments_lexer": "ipython3",
   "version": "3.10.18"
  }
 },
 "nbformat": 4,
 "nbformat_minor": 5
}
