{
 "cells": [
  {
   "cell_type": "markdown",
   "id": "c75f49bd-9079-4316-bd3d-a86403e197f2",
   "metadata": {},
   "source": [
    "## 시계열"
   ]
  },
  {
   "cell_type": "code",
   "execution_count": 90,
   "id": "77689ce6-7bdf-45ab-aa5f-c0254dc7f531",
   "metadata": {},
   "outputs": [],
   "source": [
    "# 경고메세지 숨기기\n",
    "import warnings\n",
    "warnings.filterwarnings(\"ignore\")"
   ]
  },
  {
   "cell_type": "markdown",
   "id": "3156e773-16e0-488e-b3b4-e54959d853b9",
   "metadata": {},
   "source": [
    "### 1. 시계열 데이터 준비하기"
   ]
  },
  {
   "cell_type": "markdown",
   "id": "d3b30322-8873-49c7-bbc8-2f73f1371eb1",
   "metadata": {},
   "source": [
    "문자열을 datetime으로 변환하기 - 1"
   ]
  },
  {
   "cell_type": "code",
   "execution_count": null,
   "id": "b4b40df3-db24-4ce7-a0b8-383c3ff212c8",
   "metadata": {},
   "outputs": [],
   "source": [
    "import pandas as pd\n",
    "# 일별 매출 데이터 만들기\n",
    "# 날짜 / 매출(만원)\n",
    "data = {\n",
    "    \"날짜\": [\"2024-01-01\", \"2024-01-02\", \"2024-01-03\", \"2024-01-04\"],\n",
    "    \"매출\": [100, 130, 90, 150],\n",
    "}\n",
    "df = pd.DataFrame(data)\n",
    "# 타입 확인\n",
    "df\n",
    "df.dtypes\n",
    "\n",
    "# 문자열 → datetime\n",
    "df[\"날짜\"] = pd.to_datetime(df[\"날짜\"])"
   ]
  },
  {
   "cell_type": "markdown",
   "id": "3fd28c17-8a2a-4ed2-a4eb-e28d73f59cee",
   "metadata": {},
   "source": [
    "문자열을 datetime으로 변환하기 - 2"
   ]
  },
  {
   "cell_type": "code",
   "execution_count": null,
   "id": "57b297de-e8af-46f5-9085-13f1fbc10117",
   "metadata": {},
   "outputs": [],
   "source": [
    "# 마지막 날짜는 /\n",
    "data = {\n",
    "    \"날짜\": [\"2024-01-01\", \"2024-01-02\", \"2024-01-03\", \"2024/01/04\"],\n",
    "    \"매출\": [100, 130, 90, 150],\n",
    "}\n",
    "df = pd.DataFrame(data)\n",
    "# 날짜 형식이 섞여있어서 에러남\n",
    "# df[\"날짜\"] = pd.to_datetime(df[\"날짜\"])\n",
    "# 파싱 실패값은 NaT\n",
    "pd.to_datetime(df[\"날짜\"], errors=\"coerce\")"
   ]
  },
  {
   "cell_type": "markdown",
   "id": "729d761f-1641-41a3-9a8d-1df1a4909ba4",
   "metadata": {},
   "source": [
    "문자열을 datetime으로 변환하기 - 3"
   ]
  },
  {
   "cell_type": "code",
   "execution_count": null,
   "id": "46dd217a-aa70-415f-b906-c57b900da22f",
   "metadata": {},
   "outputs": [],
   "source": [
    "# 이번에는 Y-m-d인 날짜는 무시하고 Y/m/d만 변환하기\n",
    "# 날짜 포맷을 직접 설정\n",
    "pd.to_datetime(df[\"날짜\"], format=\"%Y/%m/%d\", errors=\"coerce\")"
   ]
  },
  {
   "cell_type": "markdown",
   "id": "10067a41-acc5-42b4-9b1e-68388c5b6173",
   "metadata": {},
   "source": [
    "날짜데이터 인덱스/선택/부분선택"
   ]
  },
  {
   "cell_type": "code",
   "execution_count": null,
   "id": "8fea8ecb-afd5-47ce-b035-91ba62756d9b",
   "metadata": {},
   "outputs": [],
   "source": [
    "# 매출 데이터\n",
    "data = {\n",
    "    \"날짜\": [\"2024-01-01\", \"2024-01-02\", \"2024-01-03\", \"2024-01-04\",\"2024-02-01\", \"2024-02-02\", \"2024-02-03\"],\n",
    "    \"매출\": [100, 130, 90, 150, 80, 90, 100],\n",
    "}\n",
    "df = pd.DataFrame(data)\n",
    "# datetime으로 변환\n",
    "df[\"날짜\"] = pd.to_datetime(df[\"날짜\"])"
   ]
  },
  {
   "cell_type": "code",
   "execution_count": null,
   "id": "3d65cae7-b90a-4921-9198-4992495410fd",
   "metadata": {},
   "outputs": [],
   "source": [
    "# 날짜를 행인덱스로 수정\n",
    "df.set_index('날짜', inplace=True)\n",
    "df"
   ]
  },
  {
   "cell_type": "code",
   "execution_count": null,
   "id": "05737259-d66f-4aab-ae14-0918372f9d6d",
   "metadata": {},
   "outputs": [],
   "source": [
    "# 1월3일자 조회\n",
    "df.loc[\"2024-01-03\"]\n",
    "# 1월1일~3일 기간 조회\n",
    "df.loc[\"2024-01-01\":\"2024-01-03\"]"
   ]
  },
  {
   "cell_type": "code",
   "execution_count": null,
   "id": "d4c4449a-41b8-4842-9a45-579513824104",
   "metadata": {},
   "outputs": [],
   "source": [
    "# 월 선택\n",
    "df.loc[\"2024-01\"]\n",
    "# 연도 선택\n",
    "df.loc[\"2024\"]"
   ]
  },
  {
   "cell_type": "code",
   "execution_count": null,
   "id": "58353a99-3bbf-4226-a1e4-f534554dd136",
   "metadata": {},
   "outputs": [],
   "source": [
    "# 다시 날짜를 컬럼으로 변경\n",
    "# df = df.reset_index()\n",
    "# 1월 3일 이후\n",
    "df[df['날짜'] > '2024-01-03']"
   ]
  },
  {
   "cell_type": "code",
   "execution_count": null,
   "id": "8c601405-8b6b-42e8-93ff-7f1288f1e223",
   "metadata": {},
   "outputs": [],
   "source": [
    "# 매출 데이터\n",
    "data = {\n",
    "    \"날짜\": [\"2024-01-01\", \"2024-01-02\", \"2024-01-03\", \"2024-01-04\"],\n",
    "    \"매출\": [100, 130, 90, 150],\n",
    "}\n",
    "df = pd.DataFrame(data)\n",
    "# datetime으로 변환\n",
    "df[\"날짜\"] = pd.to_datetime(df[\"날짜\"])"
   ]
  },
  {
   "cell_type": "markdown",
   "id": "6db19636-4cb8-4f50-ae32-37b51c440bd4",
   "metadata": {},
   "source": [
    "### 2. 시계열 데이터 다루기"
   ]
  },
  {
   "cell_type": "markdown",
   "id": "73f59f31-8c21-4220-b626-bc026e696489",
   "metadata": {},
   "source": [
    "2025년 1월 1일부터 하루 단위로 7일간 날짜 생성"
   ]
  },
  {
   "cell_type": "code",
   "execution_count": null,
   "id": "e7171894-ffae-47c9-853f-1a491c1b5be7",
   "metadata": {},
   "outputs": [],
   "source": [
    "pd.date_range(start=\"2025-01-01\", periods=7, freq=\"D\")"
   ]
  },
  {
   "cell_type": "markdown",
   "id": "ca9f97cf-3d5d-42eb-802c-52359300e498",
   "metadata": {},
   "source": [
    "월 단위로 6개월간 날짜 생성"
   ]
  },
  {
   "cell_type": "code",
   "execution_count": null,
   "id": "201e02fb-decd-4d0c-b805-ba45e5662a28",
   "metadata": {},
   "outputs": [],
   "source": [
    "pd.date_range(start=\"2025-01-01\", periods=6, freq=\"M\")"
   ]
  },
  {
   "cell_type": "markdown",
   "id": "e29e5973-ba6c-425c-8031-0d170cda4074",
   "metadata": {},
   "source": [
    "Timestamp 객체 다루기"
   ]
  },
  {
   "cell_type": "code",
   "execution_count": null,
   "id": "34927988-ab00-483c-a6cb-5de2873f4ce3",
   "metadata": {},
   "outputs": [],
   "source": [
    "# Timestamp 객체 생성\n",
    "ts = pd.Timestamp(\"2025-01-15\")\n",
    "\n",
    "# 날짜 정보 확인\n",
    "print(ts.year)     # 연도 → 2025\n",
    "print(ts.month)    # 월 → 1\n",
    "print(ts.day)      # 일 → 15\n",
    "print(ts.day_name())  # 요일 → 'Wednesday'\n",
    "\n",
    "# 날짜 연산\n",
    "next_day = ts + pd.Timedelta(days=1)\n",
    "print(next_day)    # 2025-01-16 00:00:00"
   ]
  },
  {
   "cell_type": "markdown",
   "id": "ab49fbce-f6da-468d-93ba-accbef359f80",
   "metadata": {},
   "source": [
    "### 3. 리샘플링"
   ]
  },
  {
   "cell_type": "markdown",
   "id": "e6013e56-4d8c-4006-abb4-1fd2fab09708",
   "metadata": {},
   "source": [
    "다운샘플링"
   ]
  },
  {
   "cell_type": "code",
   "execution_count": 77,
   "id": "207bbf84-dd38-4f6f-a32b-7af392f2972e",
   "metadata": {},
   "outputs": [
    {
     "data": {
      "text/html": [
       "<div>\n",
       "<style scoped>\n",
       "    .dataframe tbody tr th:only-of-type {\n",
       "        vertical-align: middle;\n",
       "    }\n",
       "\n",
       "    .dataframe tbody tr th {\n",
       "        vertical-align: top;\n",
       "    }\n",
       "\n",
       "    .dataframe thead th {\n",
       "        text-align: right;\n",
       "    }\n",
       "</style>\n",
       "<table border=\"1\" class=\"dataframe\">\n",
       "  <thead>\n",
       "    <tr style=\"text-align: right;\">\n",
       "      <th></th>\n",
       "      <th>매출</th>\n",
       "    </tr>\n",
       "    <tr>\n",
       "      <th>날짜</th>\n",
       "      <th></th>\n",
       "    </tr>\n",
       "  </thead>\n",
       "  <tbody>\n",
       "    <tr>\n",
       "      <th>2025-01-05</th>\n",
       "      <td>118.0</td>\n",
       "    </tr>\n",
       "    <tr>\n",
       "      <th>2025-01-12</th>\n",
       "      <td>173.0</td>\n",
       "    </tr>\n",
       "  </tbody>\n",
       "</table>\n",
       "</div>"
      ],
      "text/plain": [
       "               매출\n",
       "날짜               \n",
       "2025-01-05  118.0\n",
       "2025-01-12  173.0"
      ]
     },
     "execution_count": 77,
     "metadata": {},
     "output_type": "execute_result"
    }
   ],
   "source": [
    "# 날짜별 매출 데이터 생성\n",
    "dates = pd.date_range(\"2025-01-01\", periods=10, freq=\"D\")\n",
    "sales = [100, 120, 90, 150, 130, 160, 170, 155, 180, 200]\n",
    "df = pd.DataFrame({\"날짜\": dates, \"매출\": sales})\n",
    "df.set_index(\"날짜\", inplace=True)\n",
    "\n",
    "# 주 단위로 다운샘플링 (평균 매출 계산)\n",
    "weekly = df.resample(\"W\").mean()\n",
    "weekly"
   ]
  },
  {
   "cell_type": "markdown",
   "id": "9e437aae-3bbd-4d64-8c6f-773f96ab5910",
   "metadata": {},
   "source": [
    "업샘플링"
   ]
  },
  {
   "cell_type": "code",
   "execution_count": 95,
   "id": "12e9538e-bac0-4512-a9f5-b4eaf8f9de8b",
   "metadata": {},
   "outputs": [
    {
     "data": {
      "text/html": [
       "<div>\n",
       "<style scoped>\n",
       "    .dataframe tbody tr th:only-of-type {\n",
       "        vertical-align: middle;\n",
       "    }\n",
       "\n",
       "    .dataframe tbody tr th {\n",
       "        vertical-align: top;\n",
       "    }\n",
       "\n",
       "    .dataframe thead th {\n",
       "        text-align: right;\n",
       "    }\n",
       "</style>\n",
       "<table border=\"1\" class=\"dataframe\">\n",
       "  <thead>\n",
       "    <tr style=\"text-align: right;\">\n",
       "      <th></th>\n",
       "      <th>매출</th>\n",
       "    </tr>\n",
       "  </thead>\n",
       "  <tbody>\n",
       "    <tr>\n",
       "      <th>2025-01-31</th>\n",
       "      <td>100</td>\n",
       "    </tr>\n",
       "    <tr>\n",
       "      <th>2025-02-28</th>\n",
       "      <td>150</td>\n",
       "    </tr>\n",
       "    <tr>\n",
       "      <th>2025-03-31</th>\n",
       "      <td>200</td>\n",
       "    </tr>\n",
       "  </tbody>\n",
       "</table>\n",
       "</div>"
      ],
      "text/plain": [
       "             매출\n",
       "2025-01-31  100\n",
       "2025-02-28  150\n",
       "2025-03-31  200"
      ]
     },
     "execution_count": 95,
     "metadata": {},
     "output_type": "execute_result"
    }
   ],
   "source": [
    "# 월별 매출 데이터\n",
    "dates = pd.date_range(\"2025-01-01\", periods=3, freq=\"M\")\n",
    "df = pd.DataFrame({\"매출\": [100, 150, 200]}, index=dates)\n",
    "df"
   ]
  },
  {
   "cell_type": "code",
   "execution_count": 96,
   "id": "89d7da1d-dfa3-4d95-bb3c-7fd1226d4205",
   "metadata": {},
   "outputs": [
    {
     "data": {
      "text/html": [
       "<div>\n",
       "<style scoped>\n",
       "    .dataframe tbody tr th:only-of-type {\n",
       "        vertical-align: middle;\n",
       "    }\n",
       "\n",
       "    .dataframe tbody tr th {\n",
       "        vertical-align: top;\n",
       "    }\n",
       "\n",
       "    .dataframe thead th {\n",
       "        text-align: right;\n",
       "    }\n",
       "</style>\n",
       "<table border=\"1\" class=\"dataframe\">\n",
       "  <thead>\n",
       "    <tr style=\"text-align: right;\">\n",
       "      <th></th>\n",
       "      <th>매출</th>\n",
       "    </tr>\n",
       "  </thead>\n",
       "  <tbody>\n",
       "    <tr>\n",
       "      <th>2025-01-31</th>\n",
       "      <td>100.0</td>\n",
       "    </tr>\n",
       "    <tr>\n",
       "      <th>2025-02-01</th>\n",
       "      <td>NaN</td>\n",
       "    </tr>\n",
       "    <tr>\n",
       "      <th>2025-02-02</th>\n",
       "      <td>NaN</td>\n",
       "    </tr>\n",
       "    <tr>\n",
       "      <th>2025-02-03</th>\n",
       "      <td>NaN</td>\n",
       "    </tr>\n",
       "    <tr>\n",
       "      <th>2025-02-04</th>\n",
       "      <td>NaN</td>\n",
       "    </tr>\n",
       "    <tr>\n",
       "      <th>2025-02-05</th>\n",
       "      <td>NaN</td>\n",
       "    </tr>\n",
       "    <tr>\n",
       "      <th>2025-02-06</th>\n",
       "      <td>NaN</td>\n",
       "    </tr>\n",
       "    <tr>\n",
       "      <th>2025-02-07</th>\n",
       "      <td>NaN</td>\n",
       "    </tr>\n",
       "    <tr>\n",
       "      <th>2025-02-08</th>\n",
       "      <td>NaN</td>\n",
       "    </tr>\n",
       "    <tr>\n",
       "      <th>2025-02-09</th>\n",
       "      <td>NaN</td>\n",
       "    </tr>\n",
       "  </tbody>\n",
       "</table>\n",
       "</div>"
      ],
      "text/plain": [
       "               매출\n",
       "2025-01-31  100.0\n",
       "2025-02-01    NaN\n",
       "2025-02-02    NaN\n",
       "2025-02-03    NaN\n",
       "2025-02-04    NaN\n",
       "2025-02-05    NaN\n",
       "2025-02-06    NaN\n",
       "2025-02-07    NaN\n",
       "2025-02-08    NaN\n",
       "2025-02-09    NaN"
      ]
     },
     "execution_count": 96,
     "metadata": {},
     "output_type": "execute_result"
    }
   ],
   "source": [
    "# 업샘플링: 일 단위로 늘리기\n",
    "upsampled = df.resample(\"D\").asfreq()\n",
    "upsampled.head(10)"
   ]
  },
  {
   "cell_type": "code",
   "execution_count": 97,
   "id": "bb4c33f4-512c-4ca7-9cd5-c0a72631faa5",
   "metadata": {},
   "outputs": [
    {
     "data": {
      "text/html": [
       "<div>\n",
       "<style scoped>\n",
       "    .dataframe tbody tr th:only-of-type {\n",
       "        vertical-align: middle;\n",
       "    }\n",
       "\n",
       "    .dataframe tbody tr th {\n",
       "        vertical-align: top;\n",
       "    }\n",
       "\n",
       "    .dataframe thead th {\n",
       "        text-align: right;\n",
       "    }\n",
       "</style>\n",
       "<table border=\"1\" class=\"dataframe\">\n",
       "  <thead>\n",
       "    <tr style=\"text-align: right;\">\n",
       "      <th></th>\n",
       "      <th>매출</th>\n",
       "    </tr>\n",
       "  </thead>\n",
       "  <tbody>\n",
       "    <tr>\n",
       "      <th>2025-01-31</th>\n",
       "      <td>100.000000</td>\n",
       "    </tr>\n",
       "    <tr>\n",
       "      <th>2025-02-01</th>\n",
       "      <td>101.785714</td>\n",
       "    </tr>\n",
       "    <tr>\n",
       "      <th>2025-02-02</th>\n",
       "      <td>103.571429</td>\n",
       "    </tr>\n",
       "    <tr>\n",
       "      <th>2025-02-03</th>\n",
       "      <td>105.357143</td>\n",
       "    </tr>\n",
       "    <tr>\n",
       "      <th>2025-02-04</th>\n",
       "      <td>107.142857</td>\n",
       "    </tr>\n",
       "    <tr>\n",
       "      <th>2025-02-05</th>\n",
       "      <td>108.928571</td>\n",
       "    </tr>\n",
       "    <tr>\n",
       "      <th>2025-02-06</th>\n",
       "      <td>110.714286</td>\n",
       "    </tr>\n",
       "    <tr>\n",
       "      <th>2025-02-07</th>\n",
       "      <td>112.500000</td>\n",
       "    </tr>\n",
       "    <tr>\n",
       "      <th>2025-02-08</th>\n",
       "      <td>114.285714</td>\n",
       "    </tr>\n",
       "    <tr>\n",
       "      <th>2025-02-09</th>\n",
       "      <td>116.071429</td>\n",
       "    </tr>\n",
       "  </tbody>\n",
       "</table>\n",
       "</div>"
      ],
      "text/plain": [
       "                    매출\n",
       "2025-01-31  100.000000\n",
       "2025-02-01  101.785714\n",
       "2025-02-02  103.571429\n",
       "2025-02-03  105.357143\n",
       "2025-02-04  107.142857\n",
       "2025-02-05  108.928571\n",
       "2025-02-06  110.714286\n",
       "2025-02-07  112.500000\n",
       "2025-02-08  114.285714\n",
       "2025-02-09  116.071429"
      ]
     },
     "execution_count": 97,
     "metadata": {},
     "output_type": "execute_result"
    }
   ],
   "source": [
    "# 빈값(NaN) 채우기\n",
    "filled = upsampled.interpolate(method=\"linear\")\n",
    "filled.head(10)"
   ]
  },
  {
   "cell_type": "markdown",
   "id": "68c27199-0002-477e-bb9a-1958768aa19a",
   "metadata": {},
   "source": [
    "### 4. 시계열 데이터 시각화"
   ]
  },
  {
   "cell_type": "code",
   "execution_count": 99,
   "id": "a588d412-c671-434f-8f34-5ee126e0c8ea",
   "metadata": {},
   "outputs": [],
   "source": [
    "# 그래프 모듈 준비\n",
    "import matplotlib.pyplot as plt\n",
    "# 한글 깨지 방지\n",
    "plt.rcParams['font.family'] = 'Malgun Gothic'"
   ]
  },
  {
   "cell_type": "code",
   "execution_count": 110,
   "id": "e22649a7-e3d3-4428-93f4-4515e78540d1",
   "metadata": {},
   "outputs": [
    {
     "data": {
      "image/png": "[encoded data removed]",
      "text/plain": [
       "<Figure size 1200x400 with 1 Axes>"
      ]
     },
     "metadata": {},
     "output_type": "display_data"
    }
   ],
   "source": [
    "# 예시 데이터\n",
    "df = pd.DataFrame({\n",
    "    \"날짜\": pd.date_range(\"2024-01-01\", periods=10, freq=\"D\"),\n",
    "    \"매출\": [100, 130, 90, 150, 120, 160, 110, 180, 200, 140]\n",
    "})\n",
    "df.set_index(\"날짜\", inplace=True)\n",
    "\n",
    "# 날짜 포맷 바꾸기\n",
    "df.index = df.index.strftime(\"%m/%d\") \n",
    "\n",
    "# 이동 평균 (3일)\n",
    "df[\"이동평균\"] = df[\"매출\"].rolling(3).mean()\n",
    "\n",
    "# 그래프 크기 설정\n",
    "plt.figure(figsize=(12,4))\n",
    "\n",
    "# 원본 그래프\n",
    "plt.plot(df.index, df[\"매출\"], label=\"원본 데이터\", linestyle=\"--\", marker=\"o\")\n",
    "\n",
    "# 이동편균 그래프\n",
    "plt.plot(df.index, df[\"이동평균\"], label=\"3일 이동평균\", linewidth=2)\n",
    "plt.title(\"이동 평균으로 본 매출 추세\")\n",
    "plt.legend()\n",
    "plt.grid(True)"
   ]
  },
  {
   "cell_type": "code",
   "execution_count": 111,
   "id": "12e9df83-de6a-45d5-97d1-ffcbb591ca50",
   "metadata": {},
   "outputs": [
    {
     "data": {
      "text/html": [
       "<div>\n",
       "<style scoped>\n",
       "    .dataframe tbody tr th:only-of-type {\n",
       "        vertical-align: middle;\n",
       "    }\n",
       "\n",
       "    .dataframe tbody tr th {\n",
       "        vertical-align: top;\n",
       "    }\n",
       "\n",
       "    .dataframe thead th {\n",
       "        text-align: right;\n",
       "    }\n",
       "</style>\n",
       "<table border=\"1\" class=\"dataframe\">\n",
       "  <thead>\n",
       "    <tr style=\"text-align: right;\">\n",
       "      <th></th>\n",
       "      <th>매출</th>\n",
       "      <th>이동평균</th>\n",
       "    </tr>\n",
       "    <tr>\n",
       "      <th>날짜</th>\n",
       "      <th></th>\n",
       "      <th></th>\n",
       "    </tr>\n",
       "  </thead>\n",
       "  <tbody>\n",
       "    <tr>\n",
       "      <th>01/01</th>\n",
       "      <td>100</td>\n",
       "      <td>NaN</td>\n",
       "    </tr>\n",
       "    <tr>\n",
       "      <th>01/02</th>\n",
       "      <td>130</td>\n",
       "      <td>NaN</td>\n",
       "    </tr>\n",
       "    <tr>\n",
       "      <th>01/03</th>\n",
       "      <td>90</td>\n",
       "      <td>106.666667</td>\n",
       "    </tr>\n",
       "    <tr>\n",
       "      <th>01/04</th>\n",
       "      <td>150</td>\n",
       "      <td>123.333333</td>\n",
       "    </tr>\n",
       "    <tr>\n",
       "      <th>01/05</th>\n",
       "      <td>120</td>\n",
       "      <td>120.000000</td>\n",
       "    </tr>\n",
       "    <tr>\n",
       "      <th>01/06</th>\n",
       "      <td>160</td>\n",
       "      <td>143.333333</td>\n",
       "    </tr>\n",
       "    <tr>\n",
       "      <th>01/07</th>\n",
       "      <td>110</td>\n",
       "      <td>130.000000</td>\n",
       "    </tr>\n",
       "    <tr>\n",
       "      <th>01/08</th>\n",
       "      <td>180</td>\n",
       "      <td>150.000000</td>\n",
       "    </tr>\n",
       "    <tr>\n",
       "      <th>01/09</th>\n",
       "      <td>200</td>\n",
       "      <td>163.333333</td>\n",
       "    </tr>\n",
       "    <tr>\n",
       "      <th>01/10</th>\n",
       "      <td>140</td>\n",
       "      <td>173.333333</td>\n",
       "    </tr>\n",
       "  </tbody>\n",
       "</table>\n",
       "</div>"
      ],
      "text/plain": [
       "        매출        이동평균\n",
       "날짜                    \n",
       "01/01  100         NaN\n",
       "01/02  130         NaN\n",
       "01/03   90  106.666667\n",
       "01/04  150  123.333333\n",
       "01/05  120  120.000000\n",
       "01/06  160  143.333333\n",
       "01/07  110  130.000000\n",
       "01/08  180  150.000000\n",
       "01/09  200  163.333333\n",
       "01/10  140  173.333333"
      ]
     },
     "execution_count": 111,
     "metadata": {},
     "output_type": "execute_result"
    }
   ],
   "source": [
    "df"
   ]
  }
 ],
 "metadata": {
  "kernelspec": {
   "display_name": "Python 3 (ipykernel)",
   "language": "python",
   "name": "python3"
  },
  "language_info": {
   "codemirror_mode": {
    "name": "ipython",
    "version": 3
   },
   "file_extension": ".py",
   "mimetype": "text/x-python",
   "name": "python",
   "nbconvert_exporter": "python",
   "pygments_lexer": "ipython3",
   "version": "3.10.18"
  }
 },
 "nbformat": 4,
 "nbformat_minor": 5
}
