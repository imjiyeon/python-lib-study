{
 "cells": [
  {
   "cell_type": "markdown",
   "id": "d24bf664-1188-4448-bbbe-ca39f54fd1f5",
   "metadata": {},
   "source": [
    "* 셀 실행하기: shift + enter  \n",
    "\n",
    "* 아래로 셀 추가하기: esc(명령 모드로 전환) -> b\n",
    "\n",
    "* 위로 셀 추가하기: esc -> a\n",
    "\n",
    "* 셀을 마크다운으로 바꾸기: esc -> m\n",
    "\n",
    "* output 지우기: Cell → All Output → Clear (esc -> 00)"
   ]
  },
  {
   "cell_type": "markdown",
   "id": "03f64c4f-8467-42eb-b4b4-c9c8f65507f1",
   "metadata": {},
   "source": [
    "markdown 안에서 줄바꿈 하는 방법 : 스페이스 두칸 + 엔터  \n",
    "1번줄  \n",
    "2번줄  \n",
    "3번줄"
   ]
  },
  {
   "cell_type": "code",
   "execution_count": null,
   "id": "e54fd63b-b330-41b1-bd03-8b01fc3503bf",
   "metadata": {},
   "outputs": [],
   "source": []
  }
 ],
 "metadata": {
  "kernelspec": {
   "display_name": "Python 3 (ipykernel)",
   "language": "python",
   "name": "python3"
  },
  "language_info": {
   "codemirror_mode": {
    "name": "ipython",
    "version": 3
   },
   "file_extension": ".py",
   "mimetype": "text/x-python",
   "name": "python",
   "nbconvert_exporter": "python",
   "pygments_lexer": "ipython3",
   "version": "3.10.18"
  }
 },
 "nbformat": 4,
 "nbformat_minor": 5
}
