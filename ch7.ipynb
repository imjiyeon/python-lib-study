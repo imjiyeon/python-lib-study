{
 "cells": [
  {
   "cell_type": "markdown",
   "id": "74be11e6-26eb-43f3-9397-2584544aa3b0",
   "metadata": {},
   "source": [
    "### 7. 데이터 합치기와 재구성"
   ]
  },
  {
   "cell_type": "markdown",
   "id": "406289d2-c7ef-4e46-86e6-533df254d19e",
   "metadata": {},
   "source": [
    "#### 7.1 멀티 인덱스"
   ]
  },
  {
   "cell_type": "code",
   "execution_count": 2,
   "id": "2917cf07-2657-4646-b455-73e60437ac22",
   "metadata": {},
   "outputs": [],
   "source": [
    "import numpy as np\n",
    "import pandas as pd"
   ]
  },
  {
   "cell_type": "markdown",
   "id": "c9d8b236-0cbe-4aad-9d72-0b01010aaeb2",
   "metadata": {},
   "source": [
    "Series의 멀티 인덱스"
   ]
  },
  {
   "cell_type": "code",
   "execution_count": null,
   "id": "6ecb6ace-b451-49e5-aecb-8c223bd404bb",
   "metadata": {},
   "outputs": [],
   "source": [
    "# 학생 점수 데이터를 시리즈로 생성\n",
    "# 값: 점수\n",
    "# 인덱스는 2단계\n",
    "# 첫번째 레벨: 학년 (1학년/2학년)\n",
    "# 두번째 레벨: 빈 (A반/B반)\n",
    "s = pd.Series(\n",
    "    [85, 90, 78, 92, 88, 75],\n",
    "    index=[[\"1학년\", \"1학년\", \"1학년\", \"2학년\", \"2학년\", \"2학년\"],\n",
    "           [\"a반\", \"a반\", \"b반\", \"a반\", \"b반\", \"b반\"]]\n",
    ")"
   ]
  },
  {
   "cell_type": "markdown",
   "id": "eaaca0c2-dcfd-4871-ae31-a90cd1b8efac",
   "metadata": {},
   "source": [
    "인덱스로 값 꺼내기"
   ]
  },
  {
   "cell_type": "code",
   "execution_count": null,
   "id": "03987afc-d801-4967-b5a6-0861b6728a1a",
   "metadata": {},
   "outputs": [],
   "source": [
    "# 1학년만 조회\n",
    "s['1학년']\n",
    "\n",
    "# 1학년 a반만 조회\n",
    "# 멀티 인덱스는 튜플을 사용\n",
    "s.loc[('1학년','a반')]\n",
    "\n",
    "# 1학년에서 여러반 선택\n",
    "s.loc[('1학년',['a반','b반'])]"
   ]
  },
  {
   "cell_type": "markdown",
   "id": "693352b3-5831-4fef-913d-eef417cbd68d",
   "metadata": {},
   "source": [
    "DataFrame의 인덱스"
   ]
  },
  {
   "cell_type": "code",
   "execution_count": 3,
   "id": "76f10c5a-9fb3-4c2a-ba60-4b5ef7ce06eb",
   "metadata": {},
   "outputs": [
    {
     "name": "stdout",
     "output_type": "stream",
     "text": [
      "             매출\n",
      "날짜             \n",
      "2024-01-01  100\n",
      "2024-01-02  130\n",
      "2024-01-03   90\n",
      "           날짜   매출\n",
      "0  2024-01-01  100\n",
      "1  2024-01-02  130\n",
      "2  2024-01-03   90\n"
     ]
    }
   ],
   "source": [
    "# 매출 데이터\n",
    "df = pd.DataFrame({\n",
    "    \"날짜\": [\"2025-01-01\", \"2025-01-02\", \"2025-01-03\"],\n",
    "    \"매출\": [100, 130, 90]\n",
    "})\n",
    "\n",
    "# 날짜를 인덱스로 설정\n",
    "df = df.set_index(\"날짜\")\n",
    "print(df)\n",
    "\n",
    "# 인덱스를 다시 열로 되돌리기\n",
    "df = df.reset_index()\n",
    "print(df)"
   ]
  },
  {
   "cell_type": "markdown",
   "id": "b10329ae-313f-458e-830a-f100962151ab",
   "metadata": {},
   "source": [
    "DataFrame의 멀티 인덱스"
   ]
  },
  {
   "cell_type": "code",
   "execution_count": null,
   "id": "5f178310-60fc-4881-a9e6-b8502962ea92",
   "metadata": {},
   "outputs": [],
   "source": [
    "# 상품 판매량 데이터를 데이프레임으로 생성\n",
    "# 값: 상품 판매량\n",
    "# 첫번째 인덱스: 연도\n",
    "# 두번째 인덱스: 지점\n",
    "# 컬럼: 제품명\n",
    "df = pd.DataFrame([[50, 60],[70, 80],[100, 110],[120, 130]],\n",
    "                  index=[[\"2020년\",\"2020년\",\"2021년\",\"2021년\"],\n",
    "                         [\"구월점\",\"부평점\",\"구월점\",\"부평점\"]],\n",
    "                  columns=[\"제품1\",\"제품2\"])\n",
    "df"
   ]
  },
  {
   "cell_type": "markdown",
   "id": "058a7d3e-5c8f-4612-b4fd-1075e88b6cf4",
   "metadata": {},
   "source": [
    "인덱스로 값 꺼내기"
   ]
  },
  {
   "cell_type": "code",
   "execution_count": null,
   "id": "ddfe5906-419c-4c18-b0da-1207d417ac4e",
   "metadata": {},
   "outputs": [],
   "source": [
    "# 2020년 전체 지점 조회하기\n",
    "df.loc[\"2020년\"]\n",
    "\n",
    "# 2020년 구월점만 조회하기\n",
    "df.loc[(\"2020년\", \"구월점\")]\n",
    "\n",
    "# 2021년 부평점의 제품2 판매량만 조회하기\n",
    "df.loc[(\"2021년\", \"부평점\"), \"제품2\"]"
   ]
  },
  {
   "cell_type": "markdown",
   "id": "2edd58dd-9dfa-4cbc-8728-f5549f55c25a",
   "metadata": {},
   "source": [
    "#### 7.2 데이터 합치기"
   ]
  },
  {
   "cell_type": "markdown",
   "id": "30559d6e-d839-456c-9345-90dda24e49f8",
   "metadata": {},
   "source": [
    "merge\n",
    "- 두개의 데이터 프레임을 합치는 함수\n",
    "- 기준 컬럼이 맞으면 서로 연결"
   ]
  },
  {
   "cell_type": "code",
   "execution_count": null,
   "id": "51ecf724-4e55-4432-af2b-98ce5dee1e3b",
   "metadata": {},
   "outputs": [],
   "source": [
    "# 학생 데이터\n",
    "df1 = pd.DataFrame({\n",
    "    \"학번\": [1, 2, 3],\n",
    "    \"이름\": [\"철수\", \"영희\", \"민수\"]\n",
    "})\n",
    "\n",
    "# 시험 점수 데이터\n",
    "df2 = pd.DataFrame({\n",
    "    \"학번\": [1, 2, 4],\n",
    "    \"점수\": [90, 85, 70]\n",
    "})\n",
    "df1"
   ]
  },
  {
   "cell_type": "markdown",
   "id": "98df1f3a-f539-4b69-bd23-3c04b05c4183",
   "metadata": {},
   "source": [
    "merge의 종류\n",
    "- inner join: 양쪽 데이터에서 겹치는 값만 가지고옴\n",
    "- left join: 왼쪽 데이터는 모두 가져오고, 오른쪽은 겹치는 부분이 없으면 nan\n",
    "- right join: 오른쪽 데이터는 모두 가져오고, 왼쪽은 겹치는 부분이 없으면 nan\n",
    "- outer join: 양쪽 데이터를 모두 가져오기"
   ]
  },
  {
   "cell_type": "code",
   "execution_count": null,
   "id": "91b725ad-a3fe-4bfa-859f-3fdb919dd06d",
   "metadata": {},
   "outputs": [],
   "source": [
    "# 두 데이터 합치기 (공통 컬럼은 학번)\n",
    "\n",
    "# 두 테이터에서 공통된 학번만 가져오기\n",
    "pd.merge(df1, df2, on=\"학번\")\n",
    "\n",
    "# # 왼쪽 데이터는 모두 가져오고, 오른쪽은 겹치는 부분이 없으면 x\n",
    "# pd.merge(df1, df2, on=\"학번\", how=\"left\")\n",
    "\n",
    "# # 오른쪽 데이터는 모두 가져오고, 오른쪽은 겹치는 부분이 없으면 x\n",
    "# pd.merge(df1, df2, on=\"학번\", how=\"right\")\n",
    "\n",
    "# # 양쪽 데이터를 모두 가져오기\n",
    "pd.merge(df1, df2, on=\"학번\", how=\"outer\")"
   ]
  },
  {
   "cell_type": "markdown",
   "id": "39a4c8ef-c9ed-4b0a-9e16-12a3a67db0ac",
   "metadata": {},
   "source": [
    "concat\n",
    "- 여러개의 데이터 프레임(또는 시리즈)을 이어 붙이는 함수\n",
    "- merge 처럼 조건으로 맞추는게 아니라, 그냥 이어 붙이는 것\n",
    "- 방향: 위아래 또는 옆으로"
   ]
  },
  {
   "cell_type": "code",
   "execution_count": null,
   "id": "914f49fc-8a88-433e-9356-7a4d50247e3b",
   "metadata": {},
   "outputs": [],
   "source": [
    "# 기본값 axis=0 -> 위아래로 이어 붙이기\n",
    "# 단순히 이어붙이는 거라 인덱스가 중복됨\n",
    "pd.concat([df1, df2])  \n",
    "\n",
    "# 새 인덱스로 재설정\n",
    "# pd.concat([df1, df2], ignore_index=True)"
   ]
  },
  {
   "cell_type": "code",
   "execution_count": null,
   "id": "80087038-9d0d-4ec7-b001-900b76eea69f",
   "metadata": {},
   "outputs": [],
   "source": [
    "# 기본값 axis=1 -> 옆으로 이어 붙이기\n",
    "pd.concat([df1, df2], axis=1)"
   ]
  },
  {
   "cell_type": "markdown",
   "id": "1476a8a0-0452-464e-aa7d-30badf1550cd",
   "metadata": {},
   "source": [
    "#### 7.3 데이터 재구성"
   ]
  },
  {
   "cell_type": "markdown",
   "id": "92be446d-5f2e-4b41-b827-69b089e9cb04",
   "metadata": {},
   "source": [
    "피벗(pivot)\n",
    "- 행열을 바꿔서 표를 재구성하는 함수"
   ]
  },
  {
   "cell_type": "code",
   "execution_count": null,
   "id": "ca154ffd-c917-49de-9836-046196dab5a2",
   "metadata": {},
   "outputs": [],
   "source": [
    "df = pd.DataFrame({\n",
    "    \"이름\": [\"철수\", \"영희\", \"철수\", \"영희\"],\n",
    "    \"과목\": [\"국어\", \"국어\", \"수학\", \"수학\"],\n",
    "    \"점수\": [90, 85, 80, 95]\n",
    "})\n",
    "df\n",
    "\n",
    "# 컬럼 안에 있는 값을 인덱스와 컬럼으로 사용\n",
    "# 표 구조를 재구성함\n",
    "result = df.pivot(index=\"이름\", columns=\"과목\", values=\"점수\")\n",
    "# result\n",
    "\n",
    "# # 행열 확인\n",
    "# print(result.index)\n",
    "# print(result.columns)"
   ]
  }
 ],
 "metadata": {
  "kernelspec": {
   "display_name": "Python 3 (ipykernel)",
   "language": "python",
   "name": "python3"
  },
  "language_info": {
   "codemirror_mode": {
    "name": "ipython",
    "version": 3
   },
   "file_extension": ".py",
   "mimetype": "text/x-python",
   "name": "python",
   "nbconvert_exporter": "python",
   "pygments_lexer": "ipython3",
   "version": "3.10.18"
  }
 },
 "nbformat": 4,
 "nbformat_minor": 5
}
