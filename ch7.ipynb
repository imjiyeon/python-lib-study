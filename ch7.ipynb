{
 "cells": [
  {
   "cell_type": "markdown",
   "metadata": {},
   "source": [
    "## 7. 데이터 정제 및 준비"
   ]
  },
  {
   "cell_type": "markdown",
   "metadata": {},
   "source": [
    "7.1 누락된 데이터 처리하기"
   ]
  },
  {
   "cell_type": "code",
   "execution_count": null,
   "metadata": {},
   "outputs": [],
   "source": [
    "import numpy as np\n",
    "import pandas as pd"
   ]
  },
  {
   "cell_type": "code",
   "execution_count": null,
   "metadata": {},
   "outputs": [],
   "source": [
    "# 실수형 데이터를 담은 시리즈 생성\n",
    "# np.nan은 누락 데이터\n",
    "float_data = pd.Series([1.2, -3.5, np.nan, 0])\n",
    "float_data"
   ]
  },
  {
   "cell_type": "code",
   "execution_count": null,
   "metadata": {},
   "outputs": [],
   "source": [
    "# 불리언 시리즈로 변환\n",
    "# null(nan)이면 true \n",
    "float_data.isna()"
   ]
  },
  {
   "cell_type": "code",
   "execution_count": null,
   "metadata": {},
   "outputs": [],
   "source": [
    "# 시리즈 생성\n",
    "# nan, None은 누락 데이터\n",
    "string_data = pd.Series([\"aardvark\", np.nan, None, \"avocado\"])\n",
    "string_data\n",
    "# 불리언 시리즈로 변환\n",
    "string_data.isna()\n",
    "# 시리즈 생성\n",
    "float_data = pd.Series([1, 2, None], dtype='float64')\n",
    "float_data\n",
    "# 불리언 시리즈로 변환\n",
    "float_data.isna()"
   ]
  },
  {
   "cell_type": "markdown",
   "metadata": {},
   "source": [
    "7.1.1 누락된 데이터 골라내기"
   ]
  },
  {
   "cell_type": "code",
   "execution_count": null,
   "metadata": {},
   "outputs": [],
   "source": [
    "# 시리즈 생성\n",
    "data = pd.Series([1, np.nan, 3.5, np.nan, 7])\n",
    "data\n",
    "# 누락 데이터 제거\n",
    "data.dropna()"
   ]
  },
  {
   "cell_type": "code",
   "execution_count": null,
   "metadata": {},
   "outputs": [],
   "source": [
    "# 불리언 시리즈로 변환\n",
    "# isna 함수와 반대. 정상 데이터면 true\n",
    "data.notna()\n",
    "# 정상데이터만 선택하여 출력\n",
    "data[data.notna()]"
   ]
  },
  {
   "cell_type": "code",
   "execution_count": null,
   "metadata": {},
   "outputs": [],
   "source": [
    "# 데이터프레임 생성\n",
    "data = pd.DataFrame([[1., 6.5, 3.], [1., np.nan, np.nan],\n",
    "                     [np.nan, np.nan, np.nan], [np.nan, 6.5, 3.]])\n",
    "data\n",
    "# 행에 하나라도 na가 있으면 제거\n",
    "data.dropna()"
   ]
  },
  {
   "cell_type": "code",
   "execution_count": null,
   "metadata": {},
   "outputs": [],
   "source": [
    "# 옵션 how=\"all\" -> 모든 값이 na인 행만 제거\n",
    "data.dropna(how=\"all\")"
   ]
  },
  {
   "cell_type": "markdown",
   "metadata": {},
   "source": [
    "7.1.2 누락 데이터 채우기"
   ]
  },
  {
   "cell_type": "code",
   "execution_count": null,
   "metadata": {},
   "outputs": [],
   "source": [
    "# 누락 데이터를 0으로 대체\n",
    "data.fillna(0)"
   ]
  },
  {
   "cell_type": "code",
   "execution_count": null,
   "metadata": {},
   "outputs": [],
   "source": [
    "# 각 열을 지정한 값으로 채우기\n",
    "# 입력값: 딕셔너리(행:값, 행:값)\n",
    "data.fillna({0:0, 1: 0.1, 2: 0.2})"
   ]
  },
  {
   "cell_type": "code",
   "execution_count": null,
   "metadata": {},
   "outputs": [],
   "source": [
    "data"
   ]
  },
  {
   "cell_type": "code",
   "execution_count": null,
   "metadata": {},
   "outputs": [],
   "source": [
    "# 누락 데이터를 이전 값으로 채우기\n",
    "data.fillna(method=\"ffill\")\n",
    "data.ffill() # 위와 같음\n",
    "# 누락 데이터를 이전 값으로 채우되, 1개까지만\n",
    "data.fillna(method=\"ffill\", limit=1)"
   ]
  },
  {
   "cell_type": "code",
   "execution_count": null,
   "metadata": {},
   "outputs": [],
   "source": [
    "# 시리즈 생성\n",
    "data = pd.Series([1., np.nan, 3.5, np.nan, 7])\n",
    "data\n",
    "# 누락 데이터를 평균값으로 대체\n",
    "data.fillna(data.mean())"
   ]
  },
  {
   "cell_type": "markdown",
   "metadata": {},
   "source": [
    "7.2 데이터 변형"
   ]
  },
  {
   "cell_type": "markdown",
   "metadata": {},
   "source": [
    "7.2.1 중복 제거하기"
   ]
  },
  {
   "cell_type": "code",
   "execution_count": null,
   "metadata": {},
   "outputs": [],
   "source": [
    "# 데이터프레임 생성 (k1열, k2열)\n",
    "data = pd.DataFrame({\"k1\": [\"one\", \"two\"] * 3 + [\"two\"],\n",
    "                     \"k2\": [1, 1, 2, 3, 3, 4, 4]})\n",
    "data"
   ]
  },
  {
   "cell_type": "code",
   "execution_count": null,
   "metadata": {},
   "outputs": [],
   "source": [
    "# 중복되는지 여부를 불리언 값으로 반환\n",
    "# 이전행과 같으면 true\n",
    "data.duplicated()"
   ]
  },
  {
   "cell_type": "code",
   "execution_count": null,
   "metadata": {},
   "outputs": [],
   "source": [
    "# 중복된행 제거\n",
    "data.drop_duplicates()"
   ]
  },
  {
   "cell_type": "code",
   "execution_count": null,
   "metadata": {},
   "outputs": [],
   "source": [
    "data"
   ]
  },
  {
   "cell_type": "code",
   "execution_count": null,
   "metadata": {},
   "outputs": [],
   "source": [
    "# 데이터프레임에 v1 열을 추가하고, 0부터 6까지 숫자를 값으로 추가\n",
    "data[\"v1\"] = range(7)\n",
    "data"
   ]
  },
  {
   "cell_type": "code",
   "execution_count": null,
   "metadata": {},
   "outputs": [],
   "source": [
    "# subset=[\"k1\"] 옵션 -> k1 열을 기준으로 중복된 행을 제거 (첫번째 행만 남김)\n",
    "data.drop_duplicates(subset=[\"k1\"])"
   ]
  },
  {
   "cell_type": "code",
   "execution_count": null,
   "metadata": {},
   "outputs": [],
   "source": [
    "# k1과 k2를 기준으로 중복된 행을 제거\n",
    "# 예: (one+1)과 (one+2) 서로 다른 조합으로 취급\n",
    "# 중복이 있으면 마자막 행만 남김\n",
    "data.drop_duplicates([\"k1\", \"k2\"], keep=\"last\")"
   ]
  },
  {
   "cell_type": "markdown",
   "metadata": {},
   "source": [
    "7.2.2 함수나 매핑 이용해서 데이터 변형하기"
   ]
  },
  {
   "cell_type": "code",
   "execution_count": null,
   "metadata": {},
   "outputs": [],
   "source": [
    "# 육류 종류와 무게를 담은 데이터 프레임 생성\n",
    "data = pd.DataFrame({\"food\": [\"bacon\", \"pulled pork\", \"bacon\",\n",
    "                              \"pastrami\", \"corned beef\", \"bacon\",\n",
    "                              \"pastrami\", \"honey ham\", \"nova lox\"],\n",
    "                     \"ounces\": [4, 3, 12, 6, 7.5, 8, 3, 5, 6]})\n",
    "data"
   ]
  },
  {
   "cell_type": "code",
   "execution_count": null,
   "metadata": {},
   "outputs": [],
   "source": [
    "# 원재료를 담은 딕셔너리\n",
    "meat_to_animal = {\n",
    "  \"bacon\": \"pig\",\n",
    "  \"pulled pork\": \"pig\",\n",
    "  \"pastrami\": \"cow\",\n",
    "  \"corned beef\": \"cow\",\n",
    "  \"honey ham\": \"pig\",\n",
    "  \"nova lox\": \"salmon\"\n",
    "}"
   ]
  },
  {
   "cell_type": "code",
   "execution_count": null,
   "metadata": {},
   "outputs": [],
   "source": [
    "# foor 열의 값을 meat_to_animal과 매핑하여, animal 열 추가\n",
    "data[\"animal\"] = data[\"food\"].map(meat_to_animal)\n",
    "data"
   ]
  },
  {
   "cell_type": "code",
   "execution_count": null,
   "metadata": {},
   "outputs": [],
   "source": [
    "# 함수 정의: food 값을 받아 meat_to_animal 매핑을 통해 동물명 반환\n",
    "def get_animal(x):\n",
    "    return meat_to_animal[x]\n",
    "\n",
    "# map에 함수를 적용하여 animal 값 반환\n",
    "data[\"food\"].map(get_animal)"
   ]
  },
  {
   "cell_type": "markdown",
   "metadata": {},
   "source": [
    "7.2.3 값 치환하기"
   ]
  },
  {
   "cell_type": "code",
   "execution_count": null,
   "metadata": {},
   "outputs": [],
   "source": [
    "# 시리즈 생성\n",
    "data = pd.Series([1., -999., 2., -999., -1000., 3.])\n",
    "data"
   ]
  },
  {
   "cell_type": "code",
   "execution_count": null,
   "metadata": {},
   "outputs": [],
   "source": [
    "# -999를 누락된 값이라고 취급하여 nan로 교체\n",
    "data.replace(-999, np.nan)"
   ]
  },
  {
   "cell_type": "code",
   "execution_count": null,
   "metadata": {},
   "outputs": [],
   "source": [
    "# -999와 -1000을 누락된 값으로\n",
    "data.replace([-999, -1000], np.nan)"
   ]
  },
  {
   "cell_type": "code",
   "execution_count": null,
   "metadata": {},
   "outputs": [],
   "source": [
    "# -999 → NaN, -1000 → 0 으로 변환\n",
    "data.replace([-999, -1000], [np.nan, 0])"
   ]
  },
  {
   "cell_type": "code",
   "execution_count": null,
   "metadata": {},
   "outputs": [],
   "source": [
    "# 리스트 대신 딕셔너리 사용\n",
    "data.replace({-999: np.nan, -1000: 0})"
   ]
  },
  {
   "cell_type": "markdown",
   "metadata": {},
   "source": [
    "7.2.5 이산화"
   ]
  },
  {
   "cell_type": "code",
   "execution_count": null,
   "metadata": {},
   "outputs": [],
   "source": [
    "# 나이를 담은 리스트 생성\n",
    "ages = [20, 22, 25, 27, 21, 23, 37, 31, 61, 45, 41, 32]"
   ]
  },
  {
   "cell_type": "code",
   "execution_count": null,
   "metadata": {},
   "outputs": [],
   "source": [
    "# 나이별로 18~25, 25~35, 35~60, 60~100 그룹으로 나누기\n",
    "bins = [18, 25, 35, 60, 100] # 기준\n",
    "age_categories = pd.cut(ages, bins)\n",
    "age_categories"
   ]
  },
  {
   "cell_type": "code",
   "execution_count": null,
   "metadata": {},
   "outputs": [],
   "source": [
    "# 그룹별로 나이 개수 세기\n",
    "pd.value_counts(age_categories)\n",
    "# 결과에서 (시작값은 미포함 [끝값은 포함"
   ]
  },
  {
   "cell_type": "code",
   "execution_count": null,
   "metadata": {},
   "outputs": [],
   "source": [
    "# right=False 옵션 -> 왼쪽(시작값) 포함 오른쪽(끝값) 미포함 방식으로 설정\n",
    "pd.cut(ages, bins, right=False)"
   ]
  },
  {
   "cell_type": "code",
   "execution_count": null,
   "metadata": {},
   "outputs": [],
   "source": [
    "# 그룹 이름 지정\n",
    "group_names = [\"Youth\", \"YoungAdult\", \"MiddleAged\", \"Senior\"]\n",
    "pd.cut(ages, bins, labels=group_names)"
   ]
  },
  {
   "cell_type": "code",
   "execution_count": null,
   "metadata": {},
   "outputs": [],
   "source": [
    "# 표준 정규분포에서 난수 100개 생성\n",
    "data = np.random.standard_normal(1000)\n",
    "\n",
    "# 값을 4개의 구간으로 나누기\n",
    "# cut은 숫자 구간을 똑같이 나눈다\n",
    "result = pd.cut(data, 4)\n",
    "\n",
    "# 각 구간별 데이터 개수 세기\n",
    "pd.value_counts(result)"
   ]
  },
  {
   "cell_type": "code",
   "execution_count": null,
   "metadata": {},
   "outputs": [],
   "source": [
    "# 값을 4개의 구간으로 나누기\n",
    "# qcut은 데이터 개수가 비슷하게 들어가도록 구간을 나눈다\n",
    "result = pd.qcut(data, 4)\n",
    "result\n",
    "\n",
    "# 각 구간별 데이터 개수 세기\n",
    "pd.value_counts(result)"
   ]
  },
  {
   "cell_type": "code",
   "execution_count": null,
   "metadata": {},
   "outputs": [],
   "source": [
    "# 값을 정렬한 뒤, 비율을 기준으로 나눔\n",
    "# 하위 10%, 10-50%, 50-90%, 상위 10% 네 구간으로 나누고\n",
    "# 각 구간별 데이터 개수 세기\n",
    "pd.qcut(data, [0, 0.1, 0.5, 0.9, 1.]).value_counts()"
   ]
  },
  {
   "cell_type": "markdown",
   "metadata": {},
   "source": [
    "7.2.6 이상치를 찾고 제외하기"
   ]
  },
  {
   "cell_type": "code",
   "execution_count": null,
   "metadata": {},
   "outputs": [],
   "source": [
    "# 1000행 4열 난수 데이터프레임 생성\n",
    "data = pd.DataFrame(np.random.standard_normal((1000, 4)))\n",
    "# 통계 보기\n",
    "# 정규분포는 거의 -3~+3 사이에 값이 있음\n",
    "# 그 범위를 벗어나면 튀는값\n",
    "data.describe()"
   ]
  },
  {
   "cell_type": "code",
   "execution_count": null,
   "metadata": {},
   "outputs": [],
   "source": [
    "# 데이터프레임에서 튀는값 찾기\n",
    "# 튀는값: 다른 값보다 유난히 크거나 작은 값\n",
    "# 2번째 열에서 절대값이 3보다 큰 값만 찾기\n",
    "col = data[2]\n",
    "col[col.abs() > 3]"
   ]
  },
  {
   "cell_type": "code",
   "execution_count": null,
   "metadata": {},
   "outputs": [],
   "source": [
    "# 절대값이 3보다 큰 값이 들어있는 행 찾기\n",
    "data[(data.abs() > 3).any(axis=\"columns\")]"
   ]
  },
  {
   "cell_type": "code",
   "execution_count": null,
   "metadata": {},
   "outputs": [],
   "source": [
    "# 절대값이 3보다 큰값을 찾아서 교체\n",
    "# 예: -3.5 -> -3\n",
    "# 예: 3.5 -> 3\n",
    "# np.sign(data) : 부호를 반환. 음수는 -1 양수는 1\n",
    "data[data.abs() > 3] = np.sign(data) * 3\n",
    "data.describe()"
   ]
  },
  {
   "cell_type": "markdown",
   "metadata": {},
   "source": [
    "7.2.8 표시자, 더미 변수 계산하기"
   ]
  },
  {
   "cell_type": "code",
   "execution_count": null,
   "metadata": {},
   "outputs": [],
   "source": [
    "# 데이터 프레임 생성\n",
    "df = pd.DataFrame({\"key\": [\"b\", \"b\", \"a\", \"c\", \"a\", \"b\"],\n",
    "                   \"data1\": range(6)})\n",
    "df"
   ]
  },
  {
   "cell_type": "code",
   "execution_count": null,
   "metadata": {},
   "outputs": [],
   "source": [
    "# key 열에 있는 값들을 열로 만들기\n",
    "# 행과 열에 값이 있었으면 1 아니면 0\n",
    "# dtype=float → 0과 1 실수로 표시\n",
    "pd.get_dummies(df[\"key\"], dtype=float)"
   ]
  },
  {
   "cell_type": "code",
   "execution_count": null,
   "metadata": {},
   "outputs": [],
   "source": [
    "# prefix=\"key\" -> 새 열 이름 앞에 'key_' 접두사가 붙는다\n",
    "dummies = pd.get_dummies(df[\"key\"], prefix=\"key\", dtype=float)\n",
    "dummies\n",
    "# 기존데이터에 더미데이터 붙이기\n",
    "df_with_dummy = df[[\"data1\"]].join(dummies)\n",
    "df_with_dummy"
   ]
  },
  {
   "cell_type": "code",
   "execution_count": null,
   "metadata": {},
   "outputs": [],
   "source": [
    "# 영화 데이터\n",
    "data = {\n",
    "    \"movie_id\": [1, 2, 3],\n",
    "    \"title\": [\n",
    "        \"Toy Story (1995)\",   # 다중 장르\n",
    "        \"Heat (1995)\",        # 다중 장르\n",
    "        \"Sudden Death (1995)\" # 단일 장르\n",
    "    ],\n",
    "    \"genres\": [\n",
    "        \"Animation|Children|Comedy\", # 다중\n",
    "        \"Action|Crime|Thriller\",       # 다중\n",
    "        \"Action\"                       # 단일\n",
    "    ]\n",
    "}\n",
    "# 데이터프레임 생성\n",
    "movies = pd.DataFrame(data)"
   ]
  },
  {
   "cell_type": "code",
   "execution_count": null,
   "metadata": {},
   "outputs": [],
   "source": [
    "# genres 열을 구분자 '|' 기준으로 분리 후 장르(genres)를 열로 만들기\n",
    "dummies = movies[\"genres\"].str.get_dummies(\"|\")\n",
    "dummies"
   ]
  },
  {
   "cell_type": "markdown",
   "metadata": {},
   "source": [
    "7.4 문자열 다루기"
   ]
  },
  {
   "cell_type": "markdown",
   "metadata": {},
   "source": [
    "7.4.1 파이썬 내장 문자열 객체 메서드"
   ]
  },
  {
   "cell_type": "code",
   "execution_count": null,
   "metadata": {},
   "outputs": [],
   "source": [
    "# 문자열을 쉼표(,) 기준으로 분리\n",
    "val = \"a,b,  guido\"\n",
    "val.split(\",\")"
   ]
  },
  {
   "cell_type": "code",
   "execution_count": null,
   "metadata": {},
   "outputs": [],
   "source": [
    "# 분리된 문자열의 좌우 공백 제거\n",
    "pieces = [x.strip() for x in val.split(\",\")]\n",
    "pieces"
   ]
  },
  {
   "cell_type": "code",
   "execution_count": null,
   "metadata": {},
   "outputs": [],
   "source": [
    "# 리스트 분리\n",
    "first, second, third = pieces\n",
    "# , ::로 연결\n",
    "first + \"::\" + second + \"::\" + third"
   ]
  },
  {
   "cell_type": "code",
   "execution_count": null,
   "metadata": {},
   "outputs": [],
   "source": [
    "# 리스트 요소를 :: 기준으로 연결\n",
    "\"::\".join(pieces)"
   ]
  },
  {
   "cell_type": "code",
   "execution_count": null,
   "metadata": {},
   "outputs": [],
   "source": [
    "# 문자열 포함 여부 확인\n",
    "\"guido\" in val\n",
    "\n",
    "# 특정 문자 위치 찾기\n",
    "val.index(\",\")   # 첫 번째 쉼표 위치\n",
    "val.find(\":\")    # ':'가 없으면 -1 반환"
   ]
  },
  {
   "cell_type": "code",
   "execution_count": null,
   "metadata": {},
   "outputs": [],
   "source": [
    "# 특정 문자 개수 세기\n",
    "val.count(\",\")"
   ]
  },
  {
   "cell_type": "code",
   "execution_count": null,
   "metadata": {},
   "outputs": [],
   "source": [
    "# 문자 교체\n",
    "val.replace(\",\", \"::\")\n",
    "val.replace(\" \", \"\")"
   ]
  },
  {
   "cell_type": "markdown",
   "metadata": {},
   "source": [
    "7.4.2 정규표현식"
   ]
  },
  {
   "cell_type": "code",
   "execution_count": null,
   "metadata": {},
   "outputs": [],
   "source": [
    "import re슾펭잇스\n",
    "text = \"foo    bar\\t baz  \\tqux\"\n",
    "# \\s+ : 하나이상의 공백문자 (스페이스\" \" 탭\\t 등)\n",
    "# r\"\" : 정규표현식\n",
    "# split(구분자(정규표현식), 문자열)\n",
    "re.split(r\"\\s+\", text)"
   ]
  },
  {
   "cell_type": "code",
   "execution_count": null,
   "metadata": {},
   "outputs": [],
   "source": [
    "# 정규식 객체 생성 후 split 함수 사용\n",
    "regex = re.compile(r\"\\s+\")\n",
    "regex.split(text)"
   ]
  },
  {
   "cell_type": "code",
   "execution_count": null,
   "metadata": {},
   "outputs": [],
   "source": [
    "# findall: 패턴에 매칭되는 모든 문자열 찾기\n",
    "regex.findall(text)"
   ]
  },
  {
   "cell_type": "code",
   "execution_count": null,
   "metadata": {},
   "outputs": [],
   "source": [
    "# 이메일 주소\n",
    "text = \"\"\"aa!bbb\n",
    "dave@google.com\n",
    "steve@gmail.com\n",
    "rob@naver.com\"\"\"\n",
    "# 패턴\n",
    "# [A-Z0-9._%+-]+    # 이메일 앞부분 : 영문, 숫자, ., _, %, +, - 허용\n",
    "# [A-Z0-9.-]+       # 도메인 이름 부분 : 영문, 숫자, ., - 허용\n",
    "# \\.                # 점(.)\n",
    "# [A-Z]{2,4}        # 마지막 부분 : 영문 2~4자리 (예: COM, NET, ORG)\n",
    "pattern = r\"[A-Z0-9._%+-]+@[A-Z0-9.-]+\\.[A-Z]{2,4}\""
   ]
  },
  {
   "cell_type": "code",
   "execution_count": null,
   "metadata": {},
   "outputs": [],
   "source": [
    "# flags=re.IGNORECASE -> 대소문자 구분 없이\n",
    "regex = re.compile(pattern, flags=re.IGNORECASE)\n",
    "regex.findall(text)"
   ]
  },
  {
   "cell_type": "code",
   "execution_count": null,
   "metadata": {},
   "outputs": [],
   "source": [
    "# search: 첫 번째 매칭 결과 반환\n",
    "m = regex.search(text)\n",
    "m\n",
    "m.start() # 매칭 시작 인덱스\n",
    "m.end() # 매칭 끝 인덱스\n",
    "# 문자열에서 매칭된 부분만 슬라이스\n",
    "text[m.start():m.end()]"
   ]
  },
  {
   "cell_type": "code",
   "execution_count": null,
   "metadata": {},
   "outputs": [],
   "source": [
    "# match: 문자열 시작 부분부터 매칭 검사\n",
    "# search 와 달리 시작부분에 매치되는 문자열이 없으면 none\n",
    "print(regex.match(text))"
   ]
  },
  {
   "cell_type": "code",
   "execution_count": null,
   "metadata": {},
   "outputs": [],
   "source": [
    "# sub: 매칭된 부분을 다른 문자열로 치환\n",
    "print(regex.sub(\"REDACTED\", text))"
   ]
  },
  {
   "cell_type": "code",
   "execution_count": null,
   "metadata": {},
   "outputs": [],
   "source": [
    "# 그룹 지정 (아이디, 도메인, 최상위 도메인 분리)\n",
    "# 각패턴을 ()괄호로 묶어서 그룹 만들기\n",
    "pattern = r\"([A-Z0-9._%+-]+)@([A-Z0-9.-]+)\\.([A-Z]{2,4})\"\n",
    "regex = re.compile(pattern, flags=re.IGNORECASE)"
   ]
  },
  {
   "cell_type": "code",
   "execution_count": null,
   "metadata": {},
   "outputs": [],
   "source": [
    "# 패턴에 해당하는 값을 튜플로 반환\n",
    "m = regex.match(\"wesm@bright.net\")\n",
    "m.groups()"
   ]
  },
  {
   "cell_type": "code",
   "execution_count": null,
   "metadata": {},
   "outputs": [],
   "source": [
    "# 모든 매칭 결과 그룹 단위로 반환\n",
    "regex.findall(text)"
   ]
  },
  {
   "cell_type": "markdown",
   "metadata": {},
   "source": [
    "7.4.3 판다스의 문자열 함수"
   ]
  },
  {
   "cell_type": "code",
   "execution_count": null,
   "metadata": {},
   "outputs": [],
   "source": [
    "# 이메일 주소가 담긴 시리즈 생성\n",
    "data = {\"Dave\": \"dave@google.com\", \"Steve\": \"steve@gmail.com\",\n",
    "        \"Rob\": \"rob@gmail.com\", \"Wes\": np.nan}\n",
    "data = pd.Series(data)\n",
    "data\n",
    "# 불리언 값으로 변환\n",
    "# data.isna()"
   ]
  },
  {
   "cell_type": "code",
   "execution_count": null,
   "metadata": {},
   "outputs": [],
   "source": [
    "# 각 이메일이 \"gmail\"을 포함하고 있는지 확인\n",
    "data.str.contains(\"gmail\")"
   ]
  },
  {
   "cell_type": "code",
   "execution_count": null,
   "metadata": {},
   "outputs": [],
   "source": [
    "# 자료형 변환 str -> string\n",
    "# string은 파이썬의 새로운 문자열 타입으로 \n",
    "# na도 안전하게 처리할 수 있음\n",
    "# 예: 'aa' + na => 'aa'\n",
    "data_as_string_ext = data.astype('string')\n",
    "data_as_string_ext\n",
    "# 각 이메일이 \"gmail\"을 포함하고 있는지 확인\n",
    "data_as_string_ext.str.contains(\"gmail\")"
   ]
  },
  {
   "cell_type": "code",
   "execution_count": null,
   "metadata": {},
   "outputs": [],
   "source": [
    "# 정규식으로 이메일 주소 패턴 추출\n",
    "pattern = r\"([A-Z0-9._%+-]+)@([A-Z0-9.-]+)\\.([A-Z]{2,4})\"\n",
    "matches = data.str.findall(pattern, flags=re.IGNORECASE)\n",
    "matches"
   ]
  },
  {
   "cell_type": "code",
   "execution_count": null,
   "metadata": {},
   "outputs": [],
   "source": [
    "# 문자열 잘라내기\n",
    "data.str[:5]"
   ]
  },
  {
   "cell_type": "code",
   "execution_count": null,
   "metadata": {},
   "outputs": [],
   "source": [
    "# 결과를 데이터프레인으로 반환\n",
    "data.str.extract(pattern, flags=re.IGNORECASE)"
   ]
  },
  {
   "cell_type": "markdown",
   "metadata": {},
   "source": [
    "7.5 범주형 데이터"
   ]
  },
  {
   "cell_type": "markdown",
   "metadata": {},
   "source": [
    "7.5.1 개발 배경과 동기"
   ]
  },
  {
   "cell_type": "code",
   "execution_count": null,
   "metadata": {},
   "outputs": [],
   "source": [
    "# 문자열 시리즈 생성\n",
    "values = pd.Series(['apple', 'orange', 'apple',\n",
    "                    'apple'] * 2)\n",
    "values\n",
    "# 중복값 제거 후 고유값 확인\n",
    "pd.unique(values)\n",
    "# 문자열별 개수 세기\n",
    "pd.value_counts(values)"
   ]
  },
  {
   "cell_type": "markdown",
   "metadata": {},
   "source": [
    "7.5.2 판다스의 Categorical 확장형"
   ]
  },
  {
   "cell_type": "code",
   "execution_count": null,
   "metadata": {},
   "outputs": [],
   "source": [
    "# 과일 리스트 생성\n",
    "fruits = ['apple', 'orange', 'apple', 'apple'] * 2\n",
    "N = len(fruits)\n",
    "N\n",
    "# 난수 생성기\n",
    "rng = np.random.default_rng(seed=12345)\n",
    "# 데이터 프레임 생성\n",
    "# integers(low, high, size=…) → 난수생성기로 랜덤값 만들기. 3이상 15미만의 정수\n",
    "# rng.uniform(low, high, size=…) → 0이상 4미만의 실수. 균일분포로 모든 구간이 같은 확률\n",
    "df = pd.DataFrame({'fruit': fruits,\n",
    "                   'basket_id': np.arange(N),\n",
    "                   'count': rng.integers(3, 15, size=N),\n",
    "                   'weight': rng.uniform(0, 4, size=N)},\n",
    "                  columns=['basket_id', 'fruit', 'count', 'weight'])\n",
    "df"
   ]
  },
  {
   "cell_type": "code",
   "execution_count": null,
   "metadata": {},
   "outputs": [],
   "source": [
    "# fruit 열을 category 데이터로 변환\n",
    "# category 타입은 메모리 절약형으로 똑같은 데이터는 메모리에 한번만 저장\n",
    "fruit_cat = df['fruit'].astype('category')\n",
    "fruit_cat"
   ]
  },
  {
   "cell_type": "code",
   "execution_count": null,
   "metadata": {},
   "outputs": [],
   "source": [
    "# fruit_cat열이 어떤 배열을 쓰는지 확인\n",
    "c = fruit_cat.array\n",
    "# PandasArray 또는 Categorical\n",
    "type(c)"
   ]
  },
  {
   "cell_type": "code",
   "execution_count": null,
   "metadata": {},
   "outputs": [],
   "source": [
    "# 고유한 카테고리 목록\n",
    "c.categories\n",
    "# 각행의 카테고리 코드\n",
    "c.codes"
   ]
  },
  {
   "cell_type": "code",
   "execution_count": null,
   "metadata": {},
   "outputs": [],
   "source": [
    "# fruit열의 타입을 category로 변환\n",
    "df['fruit'] = df['fruit'].astype('category')\n",
    "df[\"fruit\"]"
   ]
  },
  {
   "cell_type": "code",
   "execution_count": null,
   "metadata": {},
   "outputs": [],
   "source": [
    "# 직접 카테고리 객체 생성\n",
    "my_categories = pd.Categorical(['foo', 'bar', 'baz', 'foo', 'bar'])\n",
    "my_categories"
   ]
  },
  {
   "cell_type": "code",
   "execution_count": null,
   "metadata": {},
   "outputs": [],
   "source": [
    "# 코드와 이름으로 카테고리 객체 생성\n",
    "categories = ['foo', 'bar', 'baz']\n",
    "codes = [0, 1, 2, 0, 0, 1]\n",
    "my_cats_2 = pd.Categorical.from_codes(codes, categories)\n",
    "my_cats_2"
   ]
  },
  {
   "cell_type": "code",
   "execution_count": null,
   "metadata": {},
   "outputs": [],
   "source": [
    "# 카테고리 숫서 설정\n",
    "ordered_cat = pd.Categorical.from_codes(codes, categories,\n",
    "                                        ordered=True)\n",
    "ordered_cat"
   ]
  },
  {
   "cell_type": "code",
   "execution_count": null,
   "metadata": {},
   "outputs": [],
   "source": [
    "# 기존 카테고리 객체를 순서형으로 변경\n",
    "my_cats_2.as_ordered()"
   ]
  }
 ],
 "metadata": {
  "kernelspec": {
   "display_name": "Python 3 (ipykernel)",
   "language": "python",
   "name": "python3"
  },
  "language_info": {
   "codemirror_mode": {
    "name": "ipython",
    "version": 3
   },
   "file_extension": ".py",
   "mimetype": "text/x-python",
   "name": "python",
   "nbconvert_exporter": "python",
   "pygments_lexer": "ipython3",
   "version": "3.10.18"
  }
 },
 "nbformat": 4,
 "nbformat_minor": 4
}
