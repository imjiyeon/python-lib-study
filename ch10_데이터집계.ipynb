{
 "cells": [
  {
   "cell_type": "markdown",
   "id": "27b5c12f-ef7d-4517-8f33-fbfa555f8a73",
   "metadata": {},
   "source": [
    "## 데이터 집계"
   ]
  },
  {
   "cell_type": "markdown",
   "id": "7c37b7b7-c8ae-4c61-bba7-963898550fbc",
   "metadata": {},
   "source": [
    "### 1. 데이터의 종류"
   ]
  },
  {
   "cell_type": "markdown",
   "id": "171a4f39-2106-4f0f-9689-82cb62281aa3",
   "metadata": {},
   "source": [
    "수치형/범주형/날짜형"
   ]
  },
  {
   "cell_type": "code",
   "execution_count": 4,
   "id": "5ea7bdce-822d-407d-9451-accdf97a4a11",
   "metadata": {},
   "outputs": [
    {
     "data": {
      "text/html": [
       "<div>\n",
       "<style scoped>\n",
       "    .dataframe tbody tr th:only-of-type {\n",
       "        vertical-align: middle;\n",
       "    }\n",
       "\n",
       "    .dataframe tbody tr th {\n",
       "        vertical-align: top;\n",
       "    }\n",
       "\n",
       "    .dataframe thead th {\n",
       "        text-align: right;\n",
       "    }\n",
       "</style>\n",
       "<table border=\"1\" class=\"dataframe\">\n",
       "  <thead>\n",
       "    <tr style=\"text-align: right;\">\n",
       "      <th></th>\n",
       "      <th>나이</th>\n",
       "      <th>성별</th>\n",
       "      <th>급여</th>\n",
       "      <th>생년월일</th>\n",
       "    </tr>\n",
       "  </thead>\n",
       "  <tbody>\n",
       "    <tr>\n",
       "      <th>0</th>\n",
       "      <td>25</td>\n",
       "      <td>남</td>\n",
       "      <td>300</td>\n",
       "      <td>1999-05-12</td>\n",
       "    </tr>\n",
       "    <tr>\n",
       "      <th>1</th>\n",
       "      <td>32</td>\n",
       "      <td>여</td>\n",
       "      <td>420</td>\n",
       "      <td>1992-08-03</td>\n",
       "    </tr>\n",
       "    <tr>\n",
       "      <th>2</th>\n",
       "      <td>41</td>\n",
       "      <td>여</td>\n",
       "      <td>500</td>\n",
       "      <td>1983-11-25</td>\n",
       "    </tr>\n",
       "    <tr>\n",
       "      <th>3</th>\n",
       "      <td>29</td>\n",
       "      <td>남</td>\n",
       "      <td>380</td>\n",
       "      <td>1995-02-17</td>\n",
       "    </tr>\n",
       "    <tr>\n",
       "      <th>4</th>\n",
       "      <td>36</td>\n",
       "      <td>남</td>\n",
       "      <td>450</td>\n",
       "      <td>1988-09-09</td>\n",
       "    </tr>\n",
       "  </tbody>\n",
       "</table>\n",
       "</div>"
      ],
      "text/plain": [
       "   나이 성별   급여        생년월일\n",
       "0  25  남  300  1999-05-12\n",
       "1  32  여  420  1992-08-03\n",
       "2  41  여  500  1983-11-25\n",
       "3  29  남  380  1995-02-17\n",
       "4  36  남  450  1988-09-09"
      ]
     },
     "execution_count": 4,
     "metadata": {},
     "output_type": "execute_result"
    }
   ],
   "source": [
    "import pandas as pd\n",
    "\n",
    "data = {\n",
    "    '나이': [25, 32, 41, 29, 36], # 수치형\n",
    "    '성별': ['남', '여', '여', '남', '남'], # 범주형 \n",
    "    '급여': [300, 420, 500, 380, 450], # 수치형\n",
    "    '생년월일': ['1999-05-12', '1992-08-03', '1983-11-25', '1995-02-17', '1988-09-09']  # 날짜형\n",
    "}\n",
    "\n",
    "df = pd.DataFrame(data)\n",
    "df"
   ]
  },
  {
   "cell_type": "markdown",
   "id": "7ba2ac0c-d430-41ec-845f-c6e528c8a439",
   "metadata": {},
   "source": [
    "### 2. 데이터 요약"
   ]
  },
  {
   "cell_type": "markdown",
   "id": "23c9b8b0-332a-4b33-886b-6e508b41b1a9",
   "metadata": {},
   "source": [
    "수치형 데이터 요약하기\n",
    "- count : 개수\n",
    "- mean : 평균\n",
    "- std : 표준편차\n",
    "- min : 제일 작은 값\n",
    "- 25% : 25%에 해당하는 값\n",
    "- 50% : 50%에 해당하는 값\n",
    "- 75% : 75%에 해당하는 값\n",
    "- max : 제일 큰 값"
   ]
  },
  {
   "cell_type": "code",
   "execution_count": 5,
   "id": "aa6245d5-1fee-4d14-a0c9-5661e2296451",
   "metadata": {},
   "outputs": [
    {
     "data": {
      "text/html": [
       "<div>\n",
       "<style scoped>\n",
       "    .dataframe tbody tr th:only-of-type {\n",
       "        vertical-align: middle;\n",
       "    }\n",
       "\n",
       "    .dataframe tbody tr th {\n",
       "        vertical-align: top;\n",
       "    }\n",
       "\n",
       "    .dataframe thead th {\n",
       "        text-align: right;\n",
       "    }\n",
       "</style>\n",
       "<table border=\"1\" class=\"dataframe\">\n",
       "  <thead>\n",
       "    <tr style=\"text-align: right;\">\n",
       "      <th></th>\n",
       "      <th>나이</th>\n",
       "      <th>급여</th>\n",
       "    </tr>\n",
       "  </thead>\n",
       "  <tbody>\n",
       "    <tr>\n",
       "      <th>count</th>\n",
       "      <td>5.000000</td>\n",
       "      <td>5.000000</td>\n",
       "    </tr>\n",
       "    <tr>\n",
       "      <th>mean</th>\n",
       "      <td>32.600000</td>\n",
       "      <td>410.000000</td>\n",
       "    </tr>\n",
       "    <tr>\n",
       "      <th>std</th>\n",
       "      <td>6.188699</td>\n",
       "      <td>75.498344</td>\n",
       "    </tr>\n",
       "    <tr>\n",
       "      <th>min</th>\n",
       "      <td>25.000000</td>\n",
       "      <td>300.000000</td>\n",
       "    </tr>\n",
       "    <tr>\n",
       "      <th>25%</th>\n",
       "      <td>29.000000</td>\n",
       "      <td>380.000000</td>\n",
       "    </tr>\n",
       "    <tr>\n",
       "      <th>50%</th>\n",
       "      <td>32.000000</td>\n",
       "      <td>420.000000</td>\n",
       "    </tr>\n",
       "    <tr>\n",
       "      <th>75%</th>\n",
       "      <td>36.000000</td>\n",
       "      <td>450.000000</td>\n",
       "    </tr>\n",
       "    <tr>\n",
       "      <th>max</th>\n",
       "      <td>41.000000</td>\n",
       "      <td>500.000000</td>\n",
       "    </tr>\n",
       "  </tbody>\n",
       "</table>\n",
       "</div>"
      ],
      "text/plain": [
       "              나이          급여\n",
       "count   5.000000    5.000000\n",
       "mean   32.600000  410.000000\n",
       "std     6.188699   75.498344\n",
       "min    25.000000  300.000000\n",
       "25%    29.000000  380.000000\n",
       "50%    32.000000  420.000000\n",
       "75%    36.000000  450.000000\n",
       "max    41.000000  500.000000"
      ]
     },
     "execution_count": 5,
     "metadata": {},
     "output_type": "execute_result"
    }
   ],
   "source": [
    "df.describe()"
   ]
  },
  {
   "cell_type": "markdown",
   "id": "f3c25ec2-44be-46f3-a39b-bed4c6ed3ce8",
   "metadata": {},
   "source": [
    "기본 집계 함수 (sum / mean / count)"
   ]
  },
  {
   "cell_type": "code",
   "execution_count": 7,
   "id": "248c200c-d3fa-4a9f-be42-0c3e5d6a10e4",
   "metadata": {},
   "outputs": [
    {
     "name": "stdout",
     "output_type": "stream",
     "text": [
      "급여 합계: 2050\n",
      "급여 평균: 410.0\n",
      "데이터 개수: 5\n"
     ]
    }
   ],
   "source": [
    "# 급여\n",
    "s = df['급여']\n",
    "\n",
    "# 합계\n",
    "print(\"급여 합계:\", df['급여'].sum())\n",
    "\n",
    "# 평균\n",
    "print(\"급여 평균:\", df['급여'].mean())\n",
    "\n",
    "# 개수\n",
    "print(\"데이터 개수:\", df['급여'].count())"
   ]
  },
  {
   "cell_type": "markdown",
   "id": "b0c8b103-46ce-4487-bcdc-7d89cb555781",
   "metadata": {},
   "source": [
    "범주형 데이터 요약하기 (unique / value_counts)\n",
    "- unique: 유일한 값만 반환\n",
    "- value_counts: 각 값의 갯수를 반환"
   ]
  },
  {
   "cell_type": "code",
   "execution_count": 14,
   "id": "b2268042-cd5b-45e8-b4b7-56eacd7f17ce",
   "metadata": {},
   "outputs": [
    {
     "name": "stdout",
     "output_type": "stream",
     "text": [
      "성별의 고유값: ['남' '여']\n",
      "성별의 빈도수:\n",
      "성별\n",
      "남    3\n",
      "여    2\n",
      "Name: count, dtype: int64\n"
     ]
    }
   ],
   "source": [
    "# 성별의 고유값\n",
    "print(\"성별의 고유값:\", df['성별'].unique())\n",
    "\n",
    "# 성별의 빈도수\n",
    "print(\"성별의 빈도수:\")\n",
    "print(df['성별'].value_counts())"
   ]
  },
  {
   "cell_type": "code",
   "execution_count": 16,
   "id": "601fd5bd-4245-4171-92da-c4ba5bf3f16a",
   "metadata": {},
   "outputs": [
    {
     "name": "stdout",
     "output_type": "stream",
     "text": [
      "성별의 빈도수:\n",
      "성별\n",
      "남    3\n",
      "여    2\n",
      "Name: count, dtype: int64\n"
     ]
    }
   ],
   "source": [
    "print(\"성별의 빈도수:\")\n",
    "print(df['성별'].value_counts())"
   ]
  },
  {
   "cell_type": "markdown",
   "id": "a36b2f60-6ab0-436a-b41e-b0daebd39d48",
   "metadata": {},
   "source": [
    "### 3. 데이터 집계"
   ]
  },
  {
   "cell_type": "markdown",
   "id": "a1a4ab21-3c1d-4809-9e27-12760cde3999",
   "metadata": {},
   "source": [
    "직원 데이터 만들기"
   ]
  },
  {
   "cell_type": "code",
   "execution_count": 17,
   "id": "99de772a-64e1-4a5c-919e-742f0b8be2e7",
   "metadata": {},
   "outputs": [
    {
     "data": {
      "text/html": [
       "<div>\n",
       "<style scoped>\n",
       "    .dataframe tbody tr th:only-of-type {\n",
       "        vertical-align: middle;\n",
       "    }\n",
       "\n",
       "    .dataframe tbody tr th {\n",
       "        vertical-align: top;\n",
       "    }\n",
       "\n",
       "    .dataframe thead th {\n",
       "        text-align: right;\n",
       "    }\n",
       "</style>\n",
       "<table border=\"1\" class=\"dataframe\">\n",
       "  <thead>\n",
       "    <tr style=\"text-align: right;\">\n",
       "      <th></th>\n",
       "      <th>이름</th>\n",
       "      <th>부서</th>\n",
       "      <th>성별</th>\n",
       "      <th>급여</th>\n",
       "    </tr>\n",
       "  </thead>\n",
       "  <tbody>\n",
       "    <tr>\n",
       "      <th>0</th>\n",
       "      <td>철수</td>\n",
       "      <td>영업</td>\n",
       "      <td>남</td>\n",
       "      <td>300</td>\n",
       "    </tr>\n",
       "    <tr>\n",
       "      <th>1</th>\n",
       "      <td>영희</td>\n",
       "      <td>영업</td>\n",
       "      <td>여</td>\n",
       "      <td>320</td>\n",
       "    </tr>\n",
       "    <tr>\n",
       "      <th>2</th>\n",
       "      <td>민수</td>\n",
       "      <td>개발</td>\n",
       "      <td>남</td>\n",
       "      <td>400</td>\n",
       "    </tr>\n",
       "    <tr>\n",
       "      <th>3</th>\n",
       "      <td>수진</td>\n",
       "      <td>개발</td>\n",
       "      <td>여</td>\n",
       "      <td>380</td>\n",
       "    </tr>\n",
       "    <tr>\n",
       "      <th>4</th>\n",
       "      <td>지훈</td>\n",
       "      <td>인사</td>\n",
       "      <td>남</td>\n",
       "      <td>350</td>\n",
       "    </tr>\n",
       "    <tr>\n",
       "      <th>5</th>\n",
       "      <td>미나</td>\n",
       "      <td>인사</td>\n",
       "      <td>여</td>\n",
       "      <td>330</td>\n",
       "    </tr>\n",
       "  </tbody>\n",
       "</table>\n",
       "</div>"
      ],
      "text/plain": [
       "   이름  부서 성별   급여\n",
       "0  철수  영업  남  300\n",
       "1  영희  영업  여  320\n",
       "2  민수  개발  남  400\n",
       "3  수진  개발  여  380\n",
       "4  지훈  인사  남  350\n",
       "5  미나  인사  여  330"
      ]
     },
     "execution_count": 17,
     "metadata": {},
     "output_type": "execute_result"
    }
   ],
   "source": [
    "data = {\n",
    "    '이름': ['철수', '영희', '민수', '수진', '지훈', '미나'],\n",
    "    '부서': ['영업', '영업', '개발', '개발', '인사', '인사'],\n",
    "    '성별': ['남', '여', '남', '여', '남', '여'],\n",
    "    '급여': [300, 320, 400, 380, 350, 330]\n",
    "}\n",
    "\n",
    "df = pd.DataFrame(data)\n",
    "df"
   ]
  },
  {
   "cell_type": "markdown",
   "id": "4e77a9f4-3259-409e-9f64-be4fc3893185",
   "metadata": {},
   "source": [
    "부서별 평균 급여"
   ]
  },
  {
   "cell_type": "code",
   "execution_count": 20,
   "id": "ef5ce60f-2473-4b10-87d6-7aeb15a4fa52",
   "metadata": {},
   "outputs": [
    {
     "data": {
      "text/plain": [
       "부서\n",
       "개발    390.0\n",
       "영업    310.0\n",
       "인사    340.0\n",
       "Name: 급여, dtype: float64"
      ]
     },
     "execution_count": 20,
     "metadata": {},
     "output_type": "execute_result"
    }
   ],
   "source": [
    "dept_mean = df.groupby('부서')['급여'].mean()\n",
    "dept_mean"
   ]
  },
  {
   "cell_type": "markdown",
   "id": "cfe0b2f3-25de-4563-9029-48435afe333a",
   "metadata": {},
   "source": [
    "성별별 평균 급여"
   ]
  },
  {
   "cell_type": "code",
   "execution_count": 21,
   "id": "1e3e0a0e-aaee-4169-853e-45e057871663",
   "metadata": {},
   "outputs": [
    {
     "data": {
      "text/plain": [
       "성별\n",
       "남    350.000000\n",
       "여    343.333333\n",
       "Name: 급여, dtype: float64"
      ]
     },
     "execution_count": 21,
     "metadata": {},
     "output_type": "execute_result"
    }
   ],
   "source": [
    "gender_mean = df.groupby('성별')['급여'].mean()\n",
    "gender_mean"
   ]
  },
  {
   "cell_type": "markdown",
   "id": "ee520f70-6db4-4e2b-b7f7-e9bf5362be15",
   "metadata": {},
   "source": [
    "부서별 인원수"
   ]
  },
  {
   "cell_type": "code",
   "execution_count": 22,
   "id": "93a85103-b4d0-40ef-befc-a86d1c93475b",
   "metadata": {},
   "outputs": [
    {
     "data": {
      "text/plain": [
       "부서\n",
       "개발    2\n",
       "영업    2\n",
       "인사    2\n",
       "Name: 이름, dtype: int64"
      ]
     },
     "execution_count": 22,
     "metadata": {},
     "output_type": "execute_result"
    }
   ],
   "source": [
    "dept_count = df.groupby('부서')['이름'].count()\n",
    "dept_count"
   ]
  },
  {
   "cell_type": "markdown",
   "id": "db88e9f3-8757-4fcd-8a5d-cd4692a28113",
   "metadata": {},
   "source": [
    "### 4. 통계 시각화"
   ]
  },
  {
   "cell_type": "markdown",
   "id": "99d834bd-aec2-4c9a-ac93-62f21aa182d0",
   "metadata": {},
   "source": [
    "그래프 그릴 준비"
   ]
  },
  {
   "cell_type": "code",
   "execution_count": 23,
   "id": "66e25a7a-2680-4b1a-bd5f-71e1899c0a30",
   "metadata": {},
   "outputs": [],
   "source": [
    "import matplotlib.pyplot as plt\n",
    "import seaborn as sns\n",
    "\n",
    "# 한글 폰트 깨짐 방지\n",
    "plt.rcParams['font.family'] = 'Malgun Gothic'"
   ]
  },
  {
   "cell_type": "markdown",
   "id": "b3d6dde1-cc34-43ff-9b47-fa2b61989297",
   "metadata": {},
   "source": [
    "그룹별 통계 비교하기"
   ]
  },
  {
   "cell_type": "code",
   "execution_count": 34,
   "id": "a03065e6-74ba-405c-8d46-162c0a935d25",
   "metadata": {},
   "outputs": [
    {
     "data": {
      "text/plain": [
       "부서\n",
       "개발    390.0\n",
       "영업    310.0\n",
       "인사    340.0\n",
       "Name: 급여, dtype: float64"
      ]
     },
     "metadata": {},
     "output_type": "display_data"
    },
    {
     "data": {
      "text/html": [
       "<div>\n",
       "<style scoped>\n",
       "    .dataframe tbody tr th:only-of-type {\n",
       "        vertical-align: middle;\n",
       "    }\n",
       "\n",
       "    .dataframe tbody tr th {\n",
       "        vertical-align: top;\n",
       "    }\n",
       "\n",
       "    .dataframe thead th {\n",
       "        text-align: right;\n",
       "    }\n",
       "</style>\n",
       "<table border=\"1\" class=\"dataframe\">\n",
       "  <thead>\n",
       "    <tr style=\"text-align: right;\">\n",
       "      <th></th>\n",
       "      <th>부서</th>\n",
       "      <th>급여</th>\n",
       "    </tr>\n",
       "  </thead>\n",
       "  <tbody>\n",
       "    <tr>\n",
       "      <th>0</th>\n",
       "      <td>개발</td>\n",
       "      <td>390.0</td>\n",
       "    </tr>\n",
       "    <tr>\n",
       "      <th>1</th>\n",
       "      <td>영업</td>\n",
       "      <td>310.0</td>\n",
       "    </tr>\n",
       "    <tr>\n",
       "      <th>2</th>\n",
       "      <td>인사</td>\n",
       "      <td>340.0</td>\n",
       "    </tr>\n",
       "  </tbody>\n",
       "</table>\n",
       "</div>"
      ],
      "text/plain": [
       "   부서     급여\n",
       "0  개발  390.0\n",
       "1  영업  310.0\n",
       "2  인사  340.0"
      ]
     },
     "execution_count": 34,
     "metadata": {},
     "output_type": "execute_result"
    }
   ],
   "source": [
    "# groupby : 부서별 평균 급여 구하기\n",
    "# 그룹화를 하면 부서가 행인덱스가됨\n",
    "display(df.groupby('부서')['급여'].mean())\n",
    "\n",
    "# reset_index : 다시 부서를 컬럼으로 변경\n",
    "dept_mean = df.groupby('부서')['급여'].mean().reset_index()\n",
    "dept_mean"
   ]
  },
  {
   "cell_type": "code",
   "execution_count": 36,
   "id": "d8577d0b-b919-45c0-8782-23ef7a8a8991",
   "metadata": {},
   "outputs": [
    {
     "name": "stderr",
     "output_type": "stream",
     "text": [
      "C:\\Users\\imjiyeon\\AppData\\Local\\Temp\\ipykernel_162212\\2030251623.py:3: FutureWarning: \n",
      "\n",
      "Passing `palette` without assigning `hue` is deprecated and will be removed in v0.14.0. Assign the `x` variable to `hue` and set `legend=False` for the same effect.\n",
      "\n",
      "  sns.barplot(data=dept_mean, x='부서', y='급여', palette='pastel')\n"
     ]
    },
    {
     "data": {
      "text/plain": [
       "Text(0, 0.5, '평균 급여 (만원)')"
      ]
     },
     "execution_count": 36,
     "metadata": {},
     "output_type": "execute_result"
    },
    {
     "data": {
      "image/png": "[encoded data removed]",
      "text/plain": [
       "<Figure size 600x400 with 1 Axes>"
      ]
     },
     "metadata": {},
     "output_type": "display_data"
    }
   ],
   "source": [
    "# 막대 그래프 그리기\n",
    "plt.figure(figsize=(6, 4))\n",
    "sns.barplot(data=dept_mean, x='부서', y='급여', palette='pastel')\n",
    "plt.title('부서별 평균 급여')\n",
    "plt.ylabel('평균 급여 (만원)')"
   ]
  }
 ],
 "metadata": {
  "kernelspec": {
   "display_name": "Python 3 (ipykernel)",
   "language": "python",
   "name": "python3"
  },
  "language_info": {
   "codemirror_mode": {
    "name": "ipython",
    "version": 3
   },
   "file_extension": ".py",
   "mimetype": "text/x-python",
   "name": "python",
   "nbconvert_exporter": "python",
   "pygments_lexer": "ipython3",
   "version": "3.10.18"
  }
 },
 "nbformat": 4,
 "nbformat_minor": 5
}
