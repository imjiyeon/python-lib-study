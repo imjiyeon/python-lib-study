{
 "cells": [
  {
   "cell_type": "code",
   "execution_count": null,
   "id": "92801144-6f1a-4705-bfc1-a6a5cad38a17",
   "metadata": {},
   "outputs": [],
   "source": [
    "import numpy as np\n",
    "import matplotlib.pyplot as plt\n",
    "from matplotlib import rc\n",
    "rc('font', family='Malgun Gothic')"
   ]
  },
  {
   "cell_type": "markdown",
   "id": "20d19dc1-5626-45b9-9250-6c7b1eae4520",
   "metadata": {},
   "source": [
    "그래프 그리기"
   ]
  },
  {
   "cell_type": "code",
   "execution_count": null,
   "id": "e66a3efa-7364-4eba-9ccd-3555fc975f17",
   "metadata": {},
   "outputs": [],
   "source": [
    "# 1. 선 그래프\n",
    "a = np.arange(10, 21)\n",
    "plt.plot(a)"
   ]
  },
  {
   "cell_type": "code",
   "execution_count": null,
   "id": "8f73952b-b0c7-4f90-8994-f6706f409e51",
   "metadata": {},
   "outputs": [],
   "source": [
    "# 2. 막대 그래프 (과일 판매량)\n",
    "fruits = ['사과', '바나나', '포도', '오렌지']\n",
    "sales = [50, 80, 40, 70]\n",
    "plt.bar(fruits, sales)"
   ]
  },
  {
   "cell_type": "code",
   "execution_count": null,
   "id": "6d346e7c-fc91-46ae-a810-31135b6cf3a2",
   "metadata": {},
   "outputs": [],
   "source": [
    "# 3. 산점도 그래프\n",
    "x = [1, 2, 3, 4, 5] \n",
    "y = [40, 55, 65, 80, 85]\n",
    "plt.scatter(x, y)\n",
    "plt.title(\"산점도 그래프\")\n",
    "plt.xlabel(\"공부 시간\")\n",
    "plt.ylabel(\"시험 점수\")"
   ]
  },
  {
   "cell_type": "code",
   "execution_count": null,
   "id": "41fd967a-62b6-4f0a-9f17-18700259a0fe",
   "metadata": {},
   "outputs": [],
   "source": [
    "# 4. 히스토그램\n",
    "watch_time = np.random.randint(0, 11, 100)  # 하루 0~10시간 사이, 100명 데이터\n",
    "plt.hist(watch_time, bins=10)\n",
    "plt.title(\"유튜브 시청 시간 분포\")\n",
    "plt.xlabel(\"시청 시간(시간)\")\n",
    "plt.ylabel(\"사람 수\")"
   ]
  },
  {
   "cell_type": "markdown",
   "id": "00310d3b-b6c2-40db-bf85-5d40b9a20c57",
   "metadata": {},
   "source": [
    "여러 그래프 그리기 (gig와 axs 수동으로 만들기)"
   ]
  },
  {
   "cell_type": "code",
   "execution_count": null,
   "id": "e89d3565-e54a-4b0b-bc11-62b2a602a35c",
   "metadata": {},
   "outputs": [],
   "source": [
    "# 1.\n",
    "# 2개의 그래프(선 그래프, 막대 그래프) 그리세요\n",
    "# 데이터: 과일 판매량\n",
    "# 과일: ['사과', '바나나', '포도', '오렌지', '복숭아']\n",
    "# 판매 개수: [50, 80, 40, 70, 60]"
   ]
  },
  {
   "cell_type": "code",
   "execution_count": null,
   "id": "ee25e015-2349-40d2-9e9c-679c1c2d843f",
   "metadata": {},
   "outputs": [],
   "source": [
    "# figure 생성\n",
    "fig = plt.figure(figsize=(10,3))\n",
    "\n",
    "# 그래프 영역 나누기\n",
    "ax1 = fig.add_subplot(1,2,1)  # 왼쪽\n",
    "ax2 = fig.add_subplot(1,2,2)  # 오른쪽\n",
    "\n",
    "# 과일과 판매량 데이터\n",
    "fruits = ['사과', '바나나', '포도', '오렌지', '복숭아']\n",
    "sales = [50, 80, 40, 70, 60]\n",
    "\n",
    "# 첫 번째 그래프 (선 그래프)\n",
    "ax1.plot(sales)\n",
    "ax1.set_title(\"과일 판매량\")\n",
    "\n",
    "# 두 번째 그래프 (막대 그래프)\n",
    "ax2.bar(fruits, sales)\n",
    "ax2.set_title(\"과일 판매량\")"
   ]
  },
  {
   "cell_type": "markdown",
   "id": "d71cb100-bbd4-4f99-a9f7-aa89974d94b3",
   "metadata": {},
   "source": [
    "여러 그래프 그리기 (fig와 axs 쉽게 만들기)"
   ]
  },
  {
   "cell_type": "code",
   "execution_count": null,
   "id": "0cc13071-14d3-499f-a8bc-bda32046836e",
   "metadata": {},
   "outputs": [],
   "source": [
    "# 2.\n",
    "# 2개의 그래프(선 그래프, 막대 그래프) 그리세요\n",
    "# 데이터: 요일별 유튜브 시청 시간\n",
    "# 요일: ['월', '화', '수', '목', '금']\n",
    "# 시청 시간: [2, 3, 4, 2, 5]"
   ]
  },
  {
   "cell_type": "code",
   "execution_count": null,
   "id": "f2812643-3295-46ad-8f07-75e5b26c2515",
   "metadata": {},
   "outputs": [],
   "source": [
    "# figure 생성 + 1행 2열로 나누기\n",
    "fig, axs = plt.subplots(1, 2, figsize=(10,3))\n",
    "\n",
    "# 데이터\n",
    "days = ['월', '화', '수', '목', '금']\n",
    "watch_time = [2, 3, 4, 2, 5]\n",
    "\n",
    "# 첫 번째 그래프 (선 그래프)\n",
    "axs[0].plot(days, watch_time)\n",
    "axs[0].set_title(\"요일별 유튜브 시청 시간\")\n",
    "\n",
    "# 두 번째 그래프 (막대 그래프)\n",
    "axs[1].bar(days, watch_time)\n",
    "axs[1].set_title(\"요일별 유튜브 시청 시간\")"
   ]
  },
  {
   "cell_type": "code",
   "execution_count": null,
   "id": "2bcc7c35-02fe-415d-9931-f80fc0de55a1",
   "metadata": {},
   "outputs": [],
   "source": [
    "# 3.\n",
    "# 2개의 그래프(막대 그래프, 산점도)를 그리세요\n",
    "# 데이터: 요일별 독서 시간\n",
    "# 요일: ['월', '화', '수', '목', '금']\n",
    "# 독서 시간: [1, 0.5, 2, 1.5, 2.5]"
   ]
  },
  {
   "cell_type": "code",
   "execution_count": null,
   "id": "26b71786-e893-426b-a0aa-d323949cccac",
   "metadata": {},
   "outputs": [],
   "source": [
    "# figure 생성 + 1행 2열로 나누기\n",
    "fig, axs = plt.subplots(1, 2, figsize=(10,3))\n",
    "\n",
    "# 데이터\n",
    "days = ['월', '화', '수', '목', '금']\n",
    "reading_time = [1, 0.5, 2, 1.5, 2.5]\n",
    "\n",
    "# 첫 번째 그래프 (막대 그래프)\n",
    "axs[0].bar(days, reading_time)\n",
    "axs[0].set_title(\"요일별 독서 시간 (막대 그래프)\")\n",
    "\n",
    "# 두 번째 그래프 (산점도)\n",
    "axs[1].scatter(days, reading_time)\n",
    "axs[1].set_title(\"요일별 독서 시간 (산점도)\")"
   ]
  },
  {
   "cell_type": "code",
   "execution_count": null,
   "id": "8122ad18-91b9-4d36-87be-9b14bf614700",
   "metadata": {},
   "outputs": [],
   "source": [
    "# 4.\n",
    "# 2개의 그래프(선 그래프, 산점도)를 그리세요\n",
    "# 데이터: 도시별 평균 기온(℃)\n",
    "# 도시: ['서울', '부산', '대구', '광주', '제주']\n",
    "# 평균 기온: [15.5, 17.8, 16.2, 15.0, 18.3]"
   ]
  },
  {
   "cell_type": "code",
   "execution_count": 4,
   "id": "943a4fc9-82b5-4917-b99e-35e1231411dd",
   "metadata": {},
   "outputs": [
    {
     "data": {
      "text/plain": [
       "Text(0.5, 1.0, '도시별 평균 기온 (산점도)')"
      ]
     },
     "execution_count": 4,
     "metadata": {},
     "output_type": "execute_result"
    },
    {
     "data": {
      "image/png": "[encoded data removed]",
      "text/plain": [
       "<Figure size 1000x300 with 2 Axes>"
      ]
     },
     "metadata": {},
     "output_type": "display_data"
    }
   ],
   "source": [
    "# figure 생성 + 1행 2열로 나누기\n",
    "fig, axs = plt.subplots(1, 2, figsize=(10,3))\n",
    "\n",
    "# 데이터\n",
    "cities = ['서울', '부산', '대구', '광주', '제주']\n",
    "temperature = [15.5, 17.8, 16.2, 15.0, 18.3]\n",
    "\n",
    "# 첫 번째 그래프 (선 그래프)\n",
    "axs[0].plot(cities, temperature, marker='o')\n",
    "axs[0].set_title(\"도시별 평균 기온 (선 그래프)\")\n",
    "\n",
    "# 두 번째 그래프 (산점도)\n",
    "axs[1].scatter(cities, temperature)\n",
    "axs[1].set_title(\"도시별 평균 기온 (산점도)\")"
   ]
  },
  {
   "cell_type": "markdown",
   "id": "be10b474-d3e4-46f8-8c46-1a2c7ab6a194",
   "metadata": {},
   "source": [
    "그래프 꾸미기"
   ]
  },
  {
   "cell_type": "code",
   "execution_count": null,
   "id": "b9b7f748-2a20-4b7c-9baa-64f1ccbf9354",
   "metadata": {},
   "outputs": [],
   "source": []
  }
 ],
 "metadata": {
  "kernelspec": {
   "display_name": "Python 3 (ipykernel)",
   "language": "python",
   "name": "python3"
  },
  "language_info": {
   "codemirror_mode": {
    "name": "ipython",
    "version": 3
   },
   "file_extension": ".py",
   "mimetype": "text/x-python",
   "name": "python",
   "nbconvert_exporter": "python",
   "pygments_lexer": "ipython3",
   "version": "3.10.18"
  }
 },
 "nbformat": 4,
 "nbformat_minor": 5
}
