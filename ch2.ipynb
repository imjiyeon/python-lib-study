{
 "cells": [
  {
   "cell_type": "markdown",
   "id": "d24bf664-1188-4448-bbbe-ca39f54fd1f5",
   "metadata": {},
   "source": [
    "shift + enter : 셀 실행 <br>\n",
    "b : 셀 추가"
   ]
  },
  {
   "cell_type": "markdown",
   "id": "03f64c4f-8467-42eb-b4b4-c9c8f65507f1",
   "metadata": {},
   "source": [
    "markdown 안에서 줄바꿈 하는 방법 : 스페이스 두칸 + 엔터  \n",
    "1번줄  \n",
    "2번줄  \n",
    "3번줄"
   ]
  },
  {
   "cell_type": "code",
   "execution_count": 1,
   "id": "71bc8b35-0e6e-481f-a3e6-8b6e75324cc9",
   "metadata": {},
   "outputs": [],
   "source": [
    "b = [1,2,3]"
   ]
  },
  {
   "cell_type": "code",
   "execution_count": 2,
   "id": "a32ced0e-f6d2-400e-8197-1f52a4778ec3",
   "metadata": {},
   "outputs": [
    {
     "data": {
      "text/plain": [
       "\u001b[1;31mType:\u001b[0m        list\n",
       "\u001b[1;31mString form:\u001b[0m [1, 2, 3]\n",
       "\u001b[1;31mLength:\u001b[0m      3\n",
       "\u001b[1;31mDocstring:\u001b[0m  \n",
       "Built-in mutable sequence.\n",
       "\n",
       "If no argument is given, the constructor creates a new empty list.\n",
       "The argument must be an iterable if specified."
      ]
     },
     "metadata": {},
     "output_type": "display_data"
    }
   ],
   "source": [
    "b?"
   ]
  },
  {
   "cell_type": "code",
   "execution_count": 3,
   "id": "982ecad4-25ad-4eea-8ae5-d85289861412",
   "metadata": {},
   "outputs": [],
   "source": [
    "import numpy as np"
   ]
  },
  {
   "cell_type": "code",
   "execution_count": 4,
   "id": "4031fe83-e98e-4429-8b62-55a2222677d2",
   "metadata": {},
   "outputs": [
    {
     "data": {
      "text/plain": [
       "np.__loader__\n",
       "np.load\n",
       "np.loadtxt"
      ]
     },
     "metadata": {},
     "output_type": "display_data"
    }
   ],
   "source": [
    "np.*load*?"
   ]
  }
 ],
 "metadata": {
  "kernelspec": {
   "display_name": "Python 3 (ipykernel)",
   "language": "python",
   "name": "python3"
  },
  "language_info": {
   "codemirror_mode": {
    "name": "ipython",
    "version": 3
   },
   "file_extension": ".py",
   "mimetype": "text/x-python",
   "name": "python",
   "nbconvert_exporter": "python",
   "pygments_lexer": "ipython3",
   "version": "3.10.18"
  }
 },
 "nbformat": 4,
 "nbformat_minor": 5
}
