{
 "cells": [
  {
   "cell_type": "code",
   "execution_count": null,
   "id": "643a3550-3ec4-403a-bb10-204ce74b1565",
   "metadata": {},
   "outputs": [],
   "source": [
    "import numpy as np\n",
    "import pandas as pd"
   ]
  },
  {
   "cell_type": "markdown",
   "id": "6ef01f31-e838-4369-be04-0d14a7f5e4e9",
   "metadata": {},
   "source": [
    "데이터 탐색하기"
   ]
  },
  {
   "cell_type": "code",
   "execution_count": null,
   "id": "849274b6-20ba-46c9-ae2f-a3f0e2085fea",
   "metadata": {},
   "outputs": [],
   "source": [
    "# 문제1\n",
    "# csv 파일 불러오기\n",
    "data = pd.read_csv('quiz/주민등록인구및세대현황.csv', encoding='euc-kr')\n",
    "data\n",
    "# 필요한 컬럼만 선택하기\n",
    "df = data[ [ '행정구역', '2025년08월_총인구수', '2025년08월_남자 인구수', '2025년08월_여자 인구수', '2025년08월_남여 비율' ] ]\n",
    "# 확진자수 컬럼 꺼내기\n",
    "s = df['행정구역']\n",
    "# 데이터 앞부분만 확인\n",
    "s.head()\n",
    "# 데이터 전체 개수\n",
    "s.count()\n",
    "# 남여 비율 컬럼 꺼내기\n",
    "s2 = df['2025년08월_남여 비율']\n",
    "# 중복을 제거한 고유값 확인\n",
    "s2.unique()\n",
    "# 데이터별 개수\n",
    "s2.value_counts()"
   ]
  },
  {
   "cell_type": "code",
   "execution_count": null,
   "id": "65f9d276-7fee-4889-a5da-24c56e351e76",
   "metadata": {},
   "outputs": [],
   "source": [
    "# 문제2\n",
    "# csv 파일 불러오기\n",
    "df = pd.read_csv('quiz/서울시설공단_서울도시고속도로 노선별 시간대별 교통량.csv', encoding='euc-kr')\n",
    "df\n",
    "# 확진자수 컬럼 꺼내기\n",
    "s = df['노선']\n",
    "# 데이터 앞부분만 확인\n",
    "s.head()\n",
    "# 데이터 전체 개수\n",
    "s.count()\n",
    "# 중복을 제거한 고유값 확인\n",
    "s2.unique()\n",
    "# 데이터별 개수\n",
    "s2.value_counts()"
   ]
  },
  {
   "cell_type": "code",
   "execution_count": null,
   "id": "fceb52cc-6d0f-46ae-8084-49034fccf3d5",
   "metadata": {},
   "outputs": [],
   "source": [
    "# 문제3\n",
    "# csv 파일 불러오기\n",
    "data = pd.read_csv('quiz/서울시 버스노선별 정류장별 승하차 인원 정보.csv', encoding='euc-kr')\n",
    "# 필요한 컬럼만 선택하기\n",
    "df = data[ [ '노선번호', '노선명', '표준버스정류장ID', '역명', '승차총승객수', '하차총승객수' ] ]\n",
    "df\n",
    "\n",
    "# 표준버스정류장ID 컬럼 꺼내기\n",
    "s = df['표준버스정류장ID']\n",
    "# 데이터 앞부분만 확인\n",
    "s.head()\n",
    "# 데이터 전체 개수\n",
    "s.count()\n",
    "# 중복을 제거한 고유값 확인\n",
    "s.unique()\n",
    "# 데이터별 개수\n",
    "s.value_counts()"
   ]
  },
  {
   "cell_type": "markdown",
   "id": "dc1958e9-5553-48e3-a433-aca0cf8fe445",
   "metadata": {},
   "source": [
    "없는 데이터 nan 처리"
   ]
  },
  {
   "cell_type": "code",
   "execution_count": null,
   "id": "7ef6bf85-896d-426b-962d-8fea1795ad17",
   "metadata": {},
   "outputs": [],
   "source": [
    "# 문제1\n",
    "df = pd.read_csv('quiz/주민등록인구및세대현황.csv', encoding='euc-kr')\n",
    "# 남자 인구수가 없는 행 개수 확인\n",
    "df['2025년08월_남자 인구수'].isnull()\n",
    "df['2025년08월_남자 인구수'].isnull().sum() # 3명\n",
    "# 세대당 인구가 없는 행을 모두 삭제\n",
    "df.dropna(subset=['2025년08월_세대당 인구'])\n",
    "# 남자인구수가 비어있으면 999명으로 대체\n",
    "df = df.fillna({ '2025년08월_남자 인구수':999 })"
   ]
  },
  {
   "cell_type": "code",
   "execution_count": null,
   "id": "41feb53a-c96e-4f2f-a038-234406981beb",
   "metadata": {},
   "outputs": [],
   "source": [
    "# 문제2\n",
    "df = pd.read_csv('quiz/서울시설공단_서울도시고속도로 노선별 시간대별 교통량.csv', encoding='euc-kr')\n",
    "# 교통량이 없는 행 개수 확인\n",
    "df['교통량'].isnull().sum()\n",
    "# 방향이 없는 행을 모두 삭제\n",
    "df.dropna(subset=['방향'])\n",
    "# 교통량이 비어 있으면 100으로 설정\n",
    "df = df.fillna({ '교통량':100 })\n",
    "df"
   ]
  },
  {
   "cell_type": "code",
   "execution_count": null,
   "id": "d6f585df-136d-47f5-9f76-0c97fea213f3",
   "metadata": {},
   "outputs": [],
   "source": [
    "# 문제3\n",
    "data = pd.read_csv('quiz/서울시 버스노선별 정류장별 승하차 인원 정보.csv', encoding='euc-kr')\n",
    "df = data[ [ '노선번호', '노선명', '표준버스정류장ID', '역명', '승차총승객수', '하차총승객수' ] ]\n",
    "# 역명이 없는 행 개수 확인\n",
    "df['역명'].isnull().sum()\n",
    "df\n",
    "# 역명 없는 행을 모두 삭제\n",
    "df.dropna(subset=['역명'])\n",
    "# 역명이 비어 있으면 '없음'으로 설정\n",
    "df = df.fillna({ '역명':'없음' })\n",
    "df"
   ]
  },
  {
   "cell_type": "markdown",
   "id": "9b61a62b-d416-4311-9585-4bb399b56088",
   "metadata": {},
   "source": [
    "조건 검색"
   ]
  },
  {
   "cell_type": "code",
   "execution_count": null,
   "id": "afdfc58c-6316-434d-bb61-05bf3d3c2001",
   "metadata": {},
   "outputs": [],
   "source": [
    "# 문제1\n",
    "df = pd.read_csv('quiz/주민등록인구및세대현황.csv', encoding='euc-kr')\n",
    "# 전체 데이터에서 서울특별시에 해당하는 행만 조회하시오.\n",
    "df[df['행정구역'] == '서울특별시']\n",
    "# 2025년08월_남여 비율이 1 이상인 지역만 조회하시오.\n",
    "df[df['2025년08월_남여 비율'] > 1]\n",
    "# 남자인구수가 여자인구수보다 많은 지역만 조회하시오.\n",
    "df[df['2025년08월_남자 인구수'] > df['2025년08월_여자 인구수']]"
   ]
  },
  {
   "cell_type": "code",
   "execution_count": null,
   "id": "e47a9a13-599b-47a2-b074-8a2d798d925e",
   "metadata": {},
   "outputs": [],
   "source": [
    "# 문제2\n",
    "df = pd.read_csv('quiz/서울시설공단_서울도시고속도로 노선별 시간대별 교통량.csv', encoding='euc-kr')\n",
    "# 데이터에서 '노선'이 '강변북로'인 행만 조회하시오.\n",
    "df[df['노선'] == '강변북로']\n",
    "# '1시'인 행만 조회하세요.\n",
    "df[df['시간대'] == 1]\n",
    "# 방향이 동향인 교통량만 조회하세요\n",
    "df[df['방향'] == '동향']['교통량']"
   ]
  },
  {
   "cell_type": "code",
   "execution_count": null,
   "id": "73869ff5-7cf5-437d-8c1e-89ea037b1281",
   "metadata": {},
   "outputs": [],
   "source": [
    "# 문제3\n",
    "df = pd.read_csv('quiz/서울시 버스노선별 정류장별 승하차 인원 정보.csv', encoding='euc-kr')\n",
    "# '노선명'이 '201번(구리~서울역)'번인 행만 조회하시오.\n",
    "df[df['노선명'] == '201번(구리~서울역)']\n",
    "\n",
    "# '승차총승객수'가 2000명 이상인 정류장만 조회하시오.\n",
    "df[df['승차총승객수'] >= 2000]\n",
    "\n",
    "# '정류장명'에 '병원' 이라는 글자가 포함된 행만 조회하시오.\n",
    "# df[df['역명'].str.contains('병원')]\n",
    "# na 있으면 에러남\n",
    "df = df.fillna({ '역명':'모름'} )\n",
    "df['역명'].str.contains('병원')\n",
    "df[df['역명'].str.contains('병원')]"
   ]
  },
  {
   "cell_type": "markdown",
   "id": "71a39712-ff40-4c66-9b15-93c4b4aa7c51",
   "metadata": {},
   "source": [
    "집계"
   ]
  },
  {
   "cell_type": "code",
   "execution_count": null,
   "id": "45e97952-28fc-4edd-a1b4-7a7637f9d42e",
   "metadata": {},
   "outputs": [],
   "source": [
    "# 문제1\n",
    "df = pd.read_csv('quiz/서울시설공단_서울도시고속도로 노선별 시간대별 교통량.csv', encoding='euc-kr')\n",
    "# 노선별 교통량\n",
    "result = df.groupby('노선').sum()\n",
    "result['교통량']"
   ]
  },
  {
   "cell_type": "code",
   "execution_count": null,
   "id": "eca6fc9f-2347-4dd3-b42c-a226ba1a5938",
   "metadata": {},
   "outputs": [],
   "source": [
    "# 문제2\n",
    "# 정류장별 승차총승객 수\n",
    "df = pd.read_csv('quiz/서울시 버스노선별 정류장별 승하차 인원 정보.csv', encoding='euc-kr')\n",
    "result = df.groupby('버스정류장ARS번호').sum()\n",
    "result['승차총승객수']"
   ]
  }
 ],
 "metadata": {
  "kernelspec": {
   "display_name": "Python 3 (ipykernel)",
   "language": "python",
   "name": "python3"
  },
  "language_info": {
   "codemirror_mode": {
    "name": "ipython",
    "version": 3
   },
   "file_extension": ".py",
   "mimetype": "text/x-python",
   "name": "python",
   "nbconvert_exporter": "python",
   "pygments_lexer": "ipython3",
   "version": "3.10.18"
  }
 },
 "nbformat": 4,
 "nbformat_minor": 5
}
